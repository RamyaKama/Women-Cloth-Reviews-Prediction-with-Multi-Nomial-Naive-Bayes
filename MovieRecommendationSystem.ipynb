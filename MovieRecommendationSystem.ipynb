{
  "nbformat": 4,
  "nbformat_minor": 0,
  "metadata": {
    "colab": {
      "provenance": [],
      "include_colab_link": true
    },
    "kernelspec": {
      "name": "python3",
      "display_name": "Python 3"
    },
    "language_info": {
      "name": "python"
    }
  },
  "cells": [
    {
      "cell_type": "markdown",
      "metadata": {
        "id": "view-in-github",
        "colab_type": "text"
      },
      "source": [
        "<a href=\"https://colab.research.google.com/github/RamyaKama/Women-Cloth-Reviews-Prediction-with-Multi-Nomial-Naive-Bayes/blob/main/MovieRecommendationSystem.ipynb\" target=\"_parent\"><img src=\"https://colab.research.google.com/assets/colab-badge.svg\" alt=\"Open In Colab\"/></a>"
      ]
    },
    {
      "cell_type": "markdown",
      "source": [
        "**Import Library**"
      ],
      "metadata": {
        "id": "dIvEBqZRae2x"
      }
    },
    {
      "cell_type": "code",
      "source": [
        "import pandas as pd"
      ],
      "metadata": {
        "id": "O2_90J5navYs"
      },
      "execution_count": null,
      "outputs": []
    },
    {
      "cell_type": "code",
      "source": [
        "import numpy as np"
      ],
      "metadata": {
        "id": "9dfHU60ia8Zc"
      },
      "execution_count": null,
      "outputs": []
    },
    {
      "cell_type": "markdown",
      "source": [
        "**Import Dataset**"
      ],
      "metadata": {
        "id": "mGpIQuW4bEAn"
      }
    },
    {
      "cell_type": "code",
      "source": [
        "df = pd.read_csv(r'https://raw.githubusercontent.com/YBI-Foundation/Dataset/main/Movies%20Recommendation.csv')"
      ],
      "metadata": {
        "id": "H_nEK2JNbhFx"
      },
      "execution_count": null,
      "outputs": []
    },
    {
      "cell_type": "code",
      "source": [
        "df.head()"
      ],
      "metadata": {
        "colab": {
          "base_uri": "https://localhost:8080/",
          "height": 716
        },
        "id": "1JaY1DU9cJeU",
        "outputId": "58a08b26-3a10-4e2c-9a4b-e1bf1223adc2"
      },
      "execution_count": null,
      "outputs": [
        {
          "output_type": "execute_result",
          "data": {
            "text/plain": [
              "   Movie_ID      Movie_Title                       Movie_Genre Movie_Language  \\\n",
              "0         1       Four Rooms                      Crime Comedy             en   \n",
              "1         2        Star Wars  Adventure Action Science Fiction             en   \n",
              "2         3     Finding Nemo                  Animation Family             en   \n",
              "3         4     Forrest Gump              Comedy Drama Romance             en   \n",
              "4         5  American Beauty                             Drama             en   \n",
              "\n",
              "   Movie_Budget  Movie_Popularity Movie_Release_Date  Movie_Revenue  \\\n",
              "0       4000000         22.876230         09-12-1995        4300000   \n",
              "1      11000000        126.393695         25-05-1977      775398007   \n",
              "2      94000000         85.688789         30-05-2003      940335536   \n",
              "3      55000000        138.133331         06-07-1994      677945399   \n",
              "4      15000000         80.878605         15-09-1999      356296601   \n",
              "\n",
              "   Movie_Runtime  Movie_Vote  ...  \\\n",
              "0           98.0         6.5  ...   \n",
              "1          121.0         8.1  ...   \n",
              "2          100.0         7.6  ...   \n",
              "3          142.0         8.2  ...   \n",
              "4          122.0         7.9  ...   \n",
              "\n",
              "                                      Movie_Homepage  \\\n",
              "0                                                NaN   \n",
              "1  http://www.starwars.com/films/star-wars-episod...   \n",
              "2              http://movies.disney.com/finding-nemo   \n",
              "3                                                NaN   \n",
              "4                      http://www.dreamworks.com/ab/   \n",
              "\n",
              "                                      Movie_Keywords  \\\n",
              "0          hotel new year's eve witch bet hotel room   \n",
              "1        android galaxy hermit death star lightsaber   \n",
              "2  father son relationship harbor underwater fish...   \n",
              "3  vietnam veteran hippie mentally disabled runni...   \n",
              "4  male nudity female nudity adultery midlife cri...   \n",
              "\n",
              "                                      Movie_Overview  \\\n",
              "0  It's Ted the Bellhop's first night on the job....   \n",
              "1  Princess Leia is captured and held hostage by ...   \n",
              "2  Nemo, an adventurous young clownfish, is unexp...   \n",
              "3  A man with a low IQ has accomplished great thi...   \n",
              "4  Lester Burnham, a depressed suburban father in...   \n",
              "\n",
              "                              Movie_Production_House  \\\n",
              "0  [{\"name\": \"Miramax Films\", \"id\": 14}, {\"name\":...   \n",
              "1  [{\"name\": \"Lucasfilm\", \"id\": 1}, {\"name\": \"Twe...   \n",
              "2     [{\"name\": \"Pixar Animation Studios\", \"id\": 3}]   \n",
              "3          [{\"name\": \"Paramount Pictures\", \"id\": 4}]   \n",
              "4  [{\"name\": \"DreamWorks SKG\", \"id\": 27}, {\"name\"...   \n",
              "\n",
              "                            Movie_Production_Country  \\\n",
              "0  [{\"iso_3166_1\": \"US\", \"name\": \"United States o...   \n",
              "1  [{\"iso_3166_1\": \"US\", \"name\": \"United States o...   \n",
              "2  [{\"iso_3166_1\": \"US\", \"name\": \"United States o...   \n",
              "3  [{\"iso_3166_1\": \"US\", \"name\": \"United States o...   \n",
              "4  [{\"iso_3166_1\": \"US\", \"name\": \"United States o...   \n",
              "\n",
              "                      Movie_Spoken_Language  \\\n",
              "0  [{\"iso_639_1\": \"en\", \"name\": \"English\"}]   \n",
              "1  [{\"iso_639_1\": \"en\", \"name\": \"English\"}]   \n",
              "2  [{\"iso_639_1\": \"en\", \"name\": \"English\"}]   \n",
              "3  [{\"iso_639_1\": \"en\", \"name\": \"English\"}]   \n",
              "4  [{\"iso_639_1\": \"en\", \"name\": \"English\"}]   \n",
              "\n",
              "                                       Movie_Tagline  \\\n",
              "0  Twelve outrageous guests. Four scandalous requ...   \n",
              "1       A long time ago in a galaxy far, far away...   \n",
              "2  There are 3.7 trillion fish in the ocean, they...   \n",
              "3  The world will never be the same, once you've ...   \n",
              "4                                       Look closer.   \n",
              "\n",
              "                                          Movie_Cast  \\\n",
              "0  Tim Roth Antonio Banderas Jennifer Beals Madon...   \n",
              "1  Mark Hamill Harrison Ford Carrie Fisher Peter ...   \n",
              "2  Albert Brooks Ellen DeGeneres Alexander Gould ...   \n",
              "3  Tom Hanks Robin Wright Gary Sinise Mykelti Wil...   \n",
              "4  Kevin Spacey Annette Bening Thora Birch Wes Be...   \n",
              "\n",
              "                                          Movie_Crew   Movie_Director  \n",
              "0  [{'name': 'Allison Anders', 'gender': 1, 'depa...   Allison Anders  \n",
              "1  [{'name': 'George Lucas', 'gender': 2, 'depart...     George Lucas  \n",
              "2  [{'name': 'Andrew Stanton', 'gender': 2, 'depa...   Andrew Stanton  \n",
              "3  [{'name': 'Alan Silvestri', 'gender': 2, 'depa...  Robert Zemeckis  \n",
              "4  [{'name': 'Thomas Newman', 'gender': 2, 'depar...       Sam Mendes  \n",
              "\n",
              "[5 rows x 21 columns]"
            ],
            "text/html": [
              "\n",
              "\n",
              "  <div id=\"df-c3ca9c9a-dd8c-4c3b-867a-9bc8749e738a\">\n",
              "    <div class=\"colab-df-container\">\n",
              "      <div>\n",
              "<style scoped>\n",
              "    .dataframe tbody tr th:only-of-type {\n",
              "        vertical-align: middle;\n",
              "    }\n",
              "\n",
              "    .dataframe tbody tr th {\n",
              "        vertical-align: top;\n",
              "    }\n",
              "\n",
              "    .dataframe thead th {\n",
              "        text-align: right;\n",
              "    }\n",
              "</style>\n",
              "<table border=\"1\" class=\"dataframe\">\n",
              "  <thead>\n",
              "    <tr style=\"text-align: right;\">\n",
              "      <th></th>\n",
              "      <th>Movie_ID</th>\n",
              "      <th>Movie_Title</th>\n",
              "      <th>Movie_Genre</th>\n",
              "      <th>Movie_Language</th>\n",
              "      <th>Movie_Budget</th>\n",
              "      <th>Movie_Popularity</th>\n",
              "      <th>Movie_Release_Date</th>\n",
              "      <th>Movie_Revenue</th>\n",
              "      <th>Movie_Runtime</th>\n",
              "      <th>Movie_Vote</th>\n",
              "      <th>...</th>\n",
              "      <th>Movie_Homepage</th>\n",
              "      <th>Movie_Keywords</th>\n",
              "      <th>Movie_Overview</th>\n",
              "      <th>Movie_Production_House</th>\n",
              "      <th>Movie_Production_Country</th>\n",
              "      <th>Movie_Spoken_Language</th>\n",
              "      <th>Movie_Tagline</th>\n",
              "      <th>Movie_Cast</th>\n",
              "      <th>Movie_Crew</th>\n",
              "      <th>Movie_Director</th>\n",
              "    </tr>\n",
              "  </thead>\n",
              "  <tbody>\n",
              "    <tr>\n",
              "      <th>0</th>\n",
              "      <td>1</td>\n",
              "      <td>Four Rooms</td>\n",
              "      <td>Crime Comedy</td>\n",
              "      <td>en</td>\n",
              "      <td>4000000</td>\n",
              "      <td>22.876230</td>\n",
              "      <td>09-12-1995</td>\n",
              "      <td>4300000</td>\n",
              "      <td>98.0</td>\n",
              "      <td>6.5</td>\n",
              "      <td>...</td>\n",
              "      <td>NaN</td>\n",
              "      <td>hotel new year's eve witch bet hotel room</td>\n",
              "      <td>It's Ted the Bellhop's first night on the job....</td>\n",
              "      <td>[{\"name\": \"Miramax Films\", \"id\": 14}, {\"name\":...</td>\n",
              "      <td>[{\"iso_3166_1\": \"US\", \"name\": \"United States o...</td>\n",
              "      <td>[{\"iso_639_1\": \"en\", \"name\": \"English\"}]</td>\n",
              "      <td>Twelve outrageous guests. Four scandalous requ...</td>\n",
              "      <td>Tim Roth Antonio Banderas Jennifer Beals Madon...</td>\n",
              "      <td>[{'name': 'Allison Anders', 'gender': 1, 'depa...</td>\n",
              "      <td>Allison Anders</td>\n",
              "    </tr>\n",
              "    <tr>\n",
              "      <th>1</th>\n",
              "      <td>2</td>\n",
              "      <td>Star Wars</td>\n",
              "      <td>Adventure Action Science Fiction</td>\n",
              "      <td>en</td>\n",
              "      <td>11000000</td>\n",
              "      <td>126.393695</td>\n",
              "      <td>25-05-1977</td>\n",
              "      <td>775398007</td>\n",
              "      <td>121.0</td>\n",
              "      <td>8.1</td>\n",
              "      <td>...</td>\n",
              "      <td>http://www.starwars.com/films/star-wars-episod...</td>\n",
              "      <td>android galaxy hermit death star lightsaber</td>\n",
              "      <td>Princess Leia is captured and held hostage by ...</td>\n",
              "      <td>[{\"name\": \"Lucasfilm\", \"id\": 1}, {\"name\": \"Twe...</td>\n",
              "      <td>[{\"iso_3166_1\": \"US\", \"name\": \"United States o...</td>\n",
              "      <td>[{\"iso_639_1\": \"en\", \"name\": \"English\"}]</td>\n",
              "      <td>A long time ago in a galaxy far, far away...</td>\n",
              "      <td>Mark Hamill Harrison Ford Carrie Fisher Peter ...</td>\n",
              "      <td>[{'name': 'George Lucas', 'gender': 2, 'depart...</td>\n",
              "      <td>George Lucas</td>\n",
              "    </tr>\n",
              "    <tr>\n",
              "      <th>2</th>\n",
              "      <td>3</td>\n",
              "      <td>Finding Nemo</td>\n",
              "      <td>Animation Family</td>\n",
              "      <td>en</td>\n",
              "      <td>94000000</td>\n",
              "      <td>85.688789</td>\n",
              "      <td>30-05-2003</td>\n",
              "      <td>940335536</td>\n",
              "      <td>100.0</td>\n",
              "      <td>7.6</td>\n",
              "      <td>...</td>\n",
              "      <td>http://movies.disney.com/finding-nemo</td>\n",
              "      <td>father son relationship harbor underwater fish...</td>\n",
              "      <td>Nemo, an adventurous young clownfish, is unexp...</td>\n",
              "      <td>[{\"name\": \"Pixar Animation Studios\", \"id\": 3}]</td>\n",
              "      <td>[{\"iso_3166_1\": \"US\", \"name\": \"United States o...</td>\n",
              "      <td>[{\"iso_639_1\": \"en\", \"name\": \"English\"}]</td>\n",
              "      <td>There are 3.7 trillion fish in the ocean, they...</td>\n",
              "      <td>Albert Brooks Ellen DeGeneres Alexander Gould ...</td>\n",
              "      <td>[{'name': 'Andrew Stanton', 'gender': 2, 'depa...</td>\n",
              "      <td>Andrew Stanton</td>\n",
              "    </tr>\n",
              "    <tr>\n",
              "      <th>3</th>\n",
              "      <td>4</td>\n",
              "      <td>Forrest Gump</td>\n",
              "      <td>Comedy Drama Romance</td>\n",
              "      <td>en</td>\n",
              "      <td>55000000</td>\n",
              "      <td>138.133331</td>\n",
              "      <td>06-07-1994</td>\n",
              "      <td>677945399</td>\n",
              "      <td>142.0</td>\n",
              "      <td>8.2</td>\n",
              "      <td>...</td>\n",
              "      <td>NaN</td>\n",
              "      <td>vietnam veteran hippie mentally disabled runni...</td>\n",
              "      <td>A man with a low IQ has accomplished great thi...</td>\n",
              "      <td>[{\"name\": \"Paramount Pictures\", \"id\": 4}]</td>\n",
              "      <td>[{\"iso_3166_1\": \"US\", \"name\": \"United States o...</td>\n",
              "      <td>[{\"iso_639_1\": \"en\", \"name\": \"English\"}]</td>\n",
              "      <td>The world will never be the same, once you've ...</td>\n",
              "      <td>Tom Hanks Robin Wright Gary Sinise Mykelti Wil...</td>\n",
              "      <td>[{'name': 'Alan Silvestri', 'gender': 2, 'depa...</td>\n",
              "      <td>Robert Zemeckis</td>\n",
              "    </tr>\n",
              "    <tr>\n",
              "      <th>4</th>\n",
              "      <td>5</td>\n",
              "      <td>American Beauty</td>\n",
              "      <td>Drama</td>\n",
              "      <td>en</td>\n",
              "      <td>15000000</td>\n",
              "      <td>80.878605</td>\n",
              "      <td>15-09-1999</td>\n",
              "      <td>356296601</td>\n",
              "      <td>122.0</td>\n",
              "      <td>7.9</td>\n",
              "      <td>...</td>\n",
              "      <td>http://www.dreamworks.com/ab/</td>\n",
              "      <td>male nudity female nudity adultery midlife cri...</td>\n",
              "      <td>Lester Burnham, a depressed suburban father in...</td>\n",
              "      <td>[{\"name\": \"DreamWorks SKG\", \"id\": 27}, {\"name\"...</td>\n",
              "      <td>[{\"iso_3166_1\": \"US\", \"name\": \"United States o...</td>\n",
              "      <td>[{\"iso_639_1\": \"en\", \"name\": \"English\"}]</td>\n",
              "      <td>Look closer.</td>\n",
              "      <td>Kevin Spacey Annette Bening Thora Birch Wes Be...</td>\n",
              "      <td>[{'name': 'Thomas Newman', 'gender': 2, 'depar...</td>\n",
              "      <td>Sam Mendes</td>\n",
              "    </tr>\n",
              "  </tbody>\n",
              "</table>\n",
              "<p>5 rows × 21 columns</p>\n",
              "</div>\n",
              "      <button class=\"colab-df-convert\" onclick=\"convertToInteractive('df-c3ca9c9a-dd8c-4c3b-867a-9bc8749e738a')\"\n",
              "              title=\"Convert this dataframe to an interactive table.\"\n",
              "              style=\"display:none;\">\n",
              "\n",
              "  <svg xmlns=\"http://www.w3.org/2000/svg\" height=\"24px\"viewBox=\"0 0 24 24\"\n",
              "       width=\"24px\">\n",
              "    <path d=\"M0 0h24v24H0V0z\" fill=\"none\"/>\n",
              "    <path d=\"M18.56 5.44l.94 2.06.94-2.06 2.06-.94-2.06-.94-.94-2.06-.94 2.06-2.06.94zm-11 1L8.5 8.5l.94-2.06 2.06-.94-2.06-.94L8.5 2.5l-.94 2.06-2.06.94zm10 10l.94 2.06.94-2.06 2.06-.94-2.06-.94-.94-2.06-.94 2.06-2.06.94z\"/><path d=\"M17.41 7.96l-1.37-1.37c-.4-.4-.92-.59-1.43-.59-.52 0-1.04.2-1.43.59L10.3 9.45l-7.72 7.72c-.78.78-.78 2.05 0 2.83L4 21.41c.39.39.9.59 1.41.59.51 0 1.02-.2 1.41-.59l7.78-7.78 2.81-2.81c.8-.78.8-2.07 0-2.86zM5.41 20L4 18.59l7.72-7.72 1.47 1.35L5.41 20z\"/>\n",
              "  </svg>\n",
              "      </button>\n",
              "\n",
              "\n",
              "\n",
              "    <div id=\"df-c6711415-3dfc-4890-b438-e67edd310323\">\n",
              "      <button class=\"colab-df-quickchart\" onclick=\"quickchart('df-c6711415-3dfc-4890-b438-e67edd310323')\"\n",
              "              title=\"Suggest charts.\"\n",
              "              style=\"display:none;\">\n",
              "\n",
              "<svg xmlns=\"http://www.w3.org/2000/svg\" height=\"24px\"viewBox=\"0 0 24 24\"\n",
              "     width=\"24px\">\n",
              "    <g>\n",
              "        <path d=\"M19 3H5c-1.1 0-2 .9-2 2v14c0 1.1.9 2 2 2h14c1.1 0 2-.9 2-2V5c0-1.1-.9-2-2-2zM9 17H7v-7h2v7zm4 0h-2V7h2v10zm4 0h-2v-4h2v4z\"/>\n",
              "    </g>\n",
              "</svg>\n",
              "      </button>\n",
              "    </div>\n",
              "\n",
              "<style>\n",
              "  .colab-df-quickchart {\n",
              "    background-color: #E8F0FE;\n",
              "    border: none;\n",
              "    border-radius: 50%;\n",
              "    cursor: pointer;\n",
              "    display: none;\n",
              "    fill: #1967D2;\n",
              "    height: 32px;\n",
              "    padding: 0 0 0 0;\n",
              "    width: 32px;\n",
              "  }\n",
              "\n",
              "  .colab-df-quickchart:hover {\n",
              "    background-color: #E2EBFA;\n",
              "    box-shadow: 0px 1px 2px rgba(60, 64, 67, 0.3), 0px 1px 3px 1px rgba(60, 64, 67, 0.15);\n",
              "    fill: #174EA6;\n",
              "  }\n",
              "\n",
              "  [theme=dark] .colab-df-quickchart {\n",
              "    background-color: #3B4455;\n",
              "    fill: #D2E3FC;\n",
              "  }\n",
              "\n",
              "  [theme=dark] .colab-df-quickchart:hover {\n",
              "    background-color: #434B5C;\n",
              "    box-shadow: 0px 1px 3px 1px rgba(0, 0, 0, 0.15);\n",
              "    filter: drop-shadow(0px 1px 2px rgba(0, 0, 0, 0.3));\n",
              "    fill: #FFFFFF;\n",
              "  }\n",
              "</style>\n",
              "\n",
              "    <script>\n",
              "      async function quickchart(key) {\n",
              "        const containerElement = document.querySelector('#' + key);\n",
              "        const charts = await google.colab.kernel.invokeFunction(\n",
              "            'suggestCharts', [key], {});\n",
              "      }\n",
              "    </script>\n",
              "\n",
              "      <script>\n",
              "\n",
              "function displayQuickchartButton(domScope) {\n",
              "  let quickchartButtonEl =\n",
              "    domScope.querySelector('#df-c6711415-3dfc-4890-b438-e67edd310323 button.colab-df-quickchart');\n",
              "  quickchartButtonEl.style.display =\n",
              "    google.colab.kernel.accessAllowed ? 'block' : 'none';\n",
              "}\n",
              "\n",
              "        displayQuickchartButton(document);\n",
              "      </script>\n",
              "      <style>\n",
              "    .colab-df-container {\n",
              "      display:flex;\n",
              "      flex-wrap:wrap;\n",
              "      gap: 12px;\n",
              "    }\n",
              "\n",
              "    .colab-df-convert {\n",
              "      background-color: #E8F0FE;\n",
              "      border: none;\n",
              "      border-radius: 50%;\n",
              "      cursor: pointer;\n",
              "      display: none;\n",
              "      fill: #1967D2;\n",
              "      height: 32px;\n",
              "      padding: 0 0 0 0;\n",
              "      width: 32px;\n",
              "    }\n",
              "\n",
              "    .colab-df-convert:hover {\n",
              "      background-color: #E2EBFA;\n",
              "      box-shadow: 0px 1px 2px rgba(60, 64, 67, 0.3), 0px 1px 3px 1px rgba(60, 64, 67, 0.15);\n",
              "      fill: #174EA6;\n",
              "    }\n",
              "\n",
              "    [theme=dark] .colab-df-convert {\n",
              "      background-color: #3B4455;\n",
              "      fill: #D2E3FC;\n",
              "    }\n",
              "\n",
              "    [theme=dark] .colab-df-convert:hover {\n",
              "      background-color: #434B5C;\n",
              "      box-shadow: 0px 1px 3px 1px rgba(0, 0, 0, 0.15);\n",
              "      filter: drop-shadow(0px 1px 2px rgba(0, 0, 0, 0.3));\n",
              "      fill: #FFFFFF;\n",
              "    }\n",
              "  </style>\n",
              "\n",
              "      <script>\n",
              "        const buttonEl =\n",
              "          document.querySelector('#df-c3ca9c9a-dd8c-4c3b-867a-9bc8749e738a button.colab-df-convert');\n",
              "        buttonEl.style.display =\n",
              "          google.colab.kernel.accessAllowed ? 'block' : 'none';\n",
              "\n",
              "        async function convertToInteractive(key) {\n",
              "          const element = document.querySelector('#df-c3ca9c9a-dd8c-4c3b-867a-9bc8749e738a');\n",
              "          const dataTable =\n",
              "            await google.colab.kernel.invokeFunction('convertToInteractive',\n",
              "                                                     [key], {});\n",
              "          if (!dataTable) return;\n",
              "\n",
              "          const docLinkHtml = 'Like what you see? Visit the ' +\n",
              "            '<a target=\"_blank\" href=https://colab.research.google.com/notebooks/data_table.ipynb>data table notebook</a>'\n",
              "            + ' to learn more about interactive tables.';\n",
              "          element.innerHTML = '';\n",
              "          dataTable['output_type'] = 'display_data';\n",
              "          await google.colab.output.renderOutput(dataTable, element);\n",
              "          const docLink = document.createElement('div');\n",
              "          docLink.innerHTML = docLinkHtml;\n",
              "          element.appendChild(docLink);\n",
              "        }\n",
              "      </script>\n",
              "    </div>\n",
              "  </div>\n"
            ]
          },
          "metadata": {},
          "execution_count": 10
        }
      ]
    },
    {
      "cell_type": "code",
      "source": [
        "df.info()"
      ],
      "metadata": {
        "colab": {
          "base_uri": "https://localhost:8080/"
        },
        "id": "MhC-x4v0chcL",
        "outputId": "9b4d08b1-082a-47b9-cee6-4fd6fc74a043"
      },
      "execution_count": null,
      "outputs": [
        {
          "output_type": "stream",
          "name": "stdout",
          "text": [
            "<class 'pandas.core.frame.DataFrame'>\n",
            "RangeIndex: 4760 entries, 0 to 4759\n",
            "Data columns (total 21 columns):\n",
            " #   Column                    Non-Null Count  Dtype  \n",
            "---  ------                    --------------  -----  \n",
            " 0   Movie_ID                  4760 non-null   int64  \n",
            " 1   Movie_Title               4760 non-null   object \n",
            " 2   Movie_Genre               4760 non-null   object \n",
            " 3   Movie_Language            4760 non-null   object \n",
            " 4   Movie_Budget              4760 non-null   int64  \n",
            " 5   Movie_Popularity          4760 non-null   float64\n",
            " 6   Movie_Release_Date        4760 non-null   object \n",
            " 7   Movie_Revenue             4760 non-null   int64  \n",
            " 8   Movie_Runtime             4758 non-null   float64\n",
            " 9   Movie_Vote                4760 non-null   float64\n",
            " 10  Movie_Vote_Count          4760 non-null   int64  \n",
            " 11  Movie_Homepage            1699 non-null   object \n",
            " 12  Movie_Keywords            4373 non-null   object \n",
            " 13  Movie_Overview            4757 non-null   object \n",
            " 14  Movie_Production_House    4760 non-null   object \n",
            " 15  Movie_Production_Country  4760 non-null   object \n",
            " 16  Movie_Spoken_Language     4760 non-null   object \n",
            " 17  Movie_Tagline             3942 non-null   object \n",
            " 18  Movie_Cast                4733 non-null   object \n",
            " 19  Movie_Crew                4760 non-null   object \n",
            " 20  Movie_Director            4738 non-null   object \n",
            "dtypes: float64(3), int64(4), object(14)\n",
            "memory usage: 781.1+ KB\n"
          ]
        }
      ]
    },
    {
      "cell_type": "code",
      "source": [
        "df.shape"
      ],
      "metadata": {
        "colab": {
          "base_uri": "https://localhost:8080/"
        },
        "id": "3DrAp6q1coQ_",
        "outputId": "c278ce2a-b14e-42ce-dcfe-e003268ca0c5"
      },
      "execution_count": null,
      "outputs": [
        {
          "output_type": "execute_result",
          "data": {
            "text/plain": [
              "(4760, 21)"
            ]
          },
          "metadata": {},
          "execution_count": 12
        }
      ]
    },
    {
      "cell_type": "code",
      "source": [
        "df.columns"
      ],
      "metadata": {
        "colab": {
          "base_uri": "https://localhost:8080/"
        },
        "id": "uSQxhozvcsD4",
        "outputId": "663bc377-55ec-4841-db3a-22fcdb8f3323"
      },
      "execution_count": null,
      "outputs": [
        {
          "output_type": "execute_result",
          "data": {
            "text/plain": [
              "Index(['Movie_ID', 'Movie_Title', 'Movie_Genre', 'Movie_Language',\n",
              "       'Movie_Budget', 'Movie_Popularity', 'Movie_Release_Date',\n",
              "       'Movie_Revenue', 'Movie_Runtime', 'Movie_Vote', 'Movie_Vote_Count',\n",
              "       'Movie_Homepage', 'Movie_Keywords', 'Movie_Overview',\n",
              "       'Movie_Production_House', 'Movie_Production_Country',\n",
              "       'Movie_Spoken_Language', 'Movie_Tagline', 'Movie_Cast', 'Movie_Crew',\n",
              "       'Movie_Director'],\n",
              "      dtype='object')"
            ]
          },
          "metadata": {},
          "execution_count": 13
        }
      ]
    },
    {
      "cell_type": "markdown",
      "source": [
        "**Get Feature Selection**"
      ],
      "metadata": {
        "id": "wUvhAde2cxp6"
      }
    },
    {
      "cell_type": "code",
      "source": [
        "df_features = df[['Movie_Genre','Movie_Keywords','Movie_Tagline','Movie_Cast','Movie_Director']].fillna('')"
      ],
      "metadata": {
        "id": "ZXMbzObsc3f3"
      },
      "execution_count": null,
      "outputs": []
    },
    {
      "cell_type": "markdown",
      "source": [
        "Selected five existing features to recommend movies.It may vary from one project to another.Like one can add vote counts,budget,language,etc."
      ],
      "metadata": {
        "id": "3-1k0eikeAKi"
      }
    },
    {
      "cell_type": "code",
      "source": [
        "df_features.shape"
      ],
      "metadata": {
        "colab": {
          "base_uri": "https://localhost:8080/"
        },
        "id": "Cr7F8zepdnOt",
        "outputId": "f4561ce3-6b80-4d94-9740-56127ebd08a8"
      },
      "execution_count": null,
      "outputs": [
        {
          "output_type": "execute_result",
          "data": {
            "text/plain": [
              "(4760, 5)"
            ]
          },
          "metadata": {},
          "execution_count": 15
        }
      ]
    },
    {
      "cell_type": "code",
      "source": [
        "df_features"
      ],
      "metadata": {
        "colab": {
          "base_uri": "https://localhost:8080/",
          "height": 467
        },
        "id": "JCrXphIBen14",
        "outputId": "fcaa9cac-0c1b-4c42-c3c4-b18f5f312b60"
      },
      "execution_count": null,
      "outputs": [
        {
          "output_type": "execute_result",
          "data": {
            "text/plain": [
              "                           Movie_Genre  \\\n",
              "0                         Crime Comedy   \n",
              "1     Adventure Action Science Fiction   \n",
              "2                     Animation Family   \n",
              "3                 Comedy Drama Romance   \n",
              "4                                Drama   \n",
              "...                                ...   \n",
              "4755                            Horror   \n",
              "4756               Comedy Family Drama   \n",
              "4757                    Thriller Drama   \n",
              "4758                            Family   \n",
              "4759                       Documentary   \n",
              "\n",
              "                                         Movie_Keywords  \\\n",
              "0             hotel new year's eve witch bet hotel room   \n",
              "1           android galaxy hermit death star lightsaber   \n",
              "2     father son relationship harbor underwater fish...   \n",
              "3     vietnam veteran hippie mentally disabled runni...   \n",
              "4     male nudity female nudity adultery midlife cri...   \n",
              "...                                                 ...   \n",
              "4755                                                      \n",
              "4756                                                      \n",
              "4757                     christian film sex trafficking   \n",
              "4758                                                      \n",
              "4759  music actors legendary perfomer classic hollyw...   \n",
              "\n",
              "                                          Movie_Tagline  \\\n",
              "0     Twelve outrageous guests. Four scandalous requ...   \n",
              "1          A long time ago in a galaxy far, far away...   \n",
              "2     There are 3.7 trillion fish in the ocean, they...   \n",
              "3     The world will never be the same, once you've ...   \n",
              "4                                          Look closer.   \n",
              "...                                                 ...   \n",
              "4755                The hot spot where Satan's waitin'.   \n",
              "4756           It’s better to stand out than to fit in.   \n",
              "4757           She never knew it could happen to her...   \n",
              "4758                                                      \n",
              "4759                                                      \n",
              "\n",
              "                                             Movie_Cast     Movie_Director  \n",
              "0     Tim Roth Antonio Banderas Jennifer Beals Madon...     Allison Anders  \n",
              "1     Mark Hamill Harrison Ford Carrie Fisher Peter ...       George Lucas  \n",
              "2     Albert Brooks Ellen DeGeneres Alexander Gould ...     Andrew Stanton  \n",
              "3     Tom Hanks Robin Wright Gary Sinise Mykelti Wil...    Robert Zemeckis  \n",
              "4     Kevin Spacey Annette Bening Thora Birch Wes Be...         Sam Mendes  \n",
              "...                                                 ...                ...  \n",
              "4755  Lisa Hart Carroll Michael Des Barres Paul Drak...         Pece Dingo  \n",
              "4756  Roni Akurati Brighton Sharbino Jason Lee Anjul...       Frank Lotito  \n",
              "4757  Nicole Smolen Kim Baldwin Ariana Stephens Brys...       Jaco Booyens  \n",
              "4758                                                                        \n",
              "4759                                    Tony Oppedisano  Simon Napier-Bell  \n",
              "\n",
              "[4760 rows x 5 columns]"
            ],
            "text/html": [
              "\n",
              "\n",
              "  <div id=\"df-aa9f3ec6-449e-4114-8f99-31a096a1db6e\">\n",
              "    <div class=\"colab-df-container\">\n",
              "      <div>\n",
              "<style scoped>\n",
              "    .dataframe tbody tr th:only-of-type {\n",
              "        vertical-align: middle;\n",
              "    }\n",
              "\n",
              "    .dataframe tbody tr th {\n",
              "        vertical-align: top;\n",
              "    }\n",
              "\n",
              "    .dataframe thead th {\n",
              "        text-align: right;\n",
              "    }\n",
              "</style>\n",
              "<table border=\"1\" class=\"dataframe\">\n",
              "  <thead>\n",
              "    <tr style=\"text-align: right;\">\n",
              "      <th></th>\n",
              "      <th>Movie_Genre</th>\n",
              "      <th>Movie_Keywords</th>\n",
              "      <th>Movie_Tagline</th>\n",
              "      <th>Movie_Cast</th>\n",
              "      <th>Movie_Director</th>\n",
              "    </tr>\n",
              "  </thead>\n",
              "  <tbody>\n",
              "    <tr>\n",
              "      <th>0</th>\n",
              "      <td>Crime Comedy</td>\n",
              "      <td>hotel new year's eve witch bet hotel room</td>\n",
              "      <td>Twelve outrageous guests. Four scandalous requ...</td>\n",
              "      <td>Tim Roth Antonio Banderas Jennifer Beals Madon...</td>\n",
              "      <td>Allison Anders</td>\n",
              "    </tr>\n",
              "    <tr>\n",
              "      <th>1</th>\n",
              "      <td>Adventure Action Science Fiction</td>\n",
              "      <td>android galaxy hermit death star lightsaber</td>\n",
              "      <td>A long time ago in a galaxy far, far away...</td>\n",
              "      <td>Mark Hamill Harrison Ford Carrie Fisher Peter ...</td>\n",
              "      <td>George Lucas</td>\n",
              "    </tr>\n",
              "    <tr>\n",
              "      <th>2</th>\n",
              "      <td>Animation Family</td>\n",
              "      <td>father son relationship harbor underwater fish...</td>\n",
              "      <td>There are 3.7 trillion fish in the ocean, they...</td>\n",
              "      <td>Albert Brooks Ellen DeGeneres Alexander Gould ...</td>\n",
              "      <td>Andrew Stanton</td>\n",
              "    </tr>\n",
              "    <tr>\n",
              "      <th>3</th>\n",
              "      <td>Comedy Drama Romance</td>\n",
              "      <td>vietnam veteran hippie mentally disabled runni...</td>\n",
              "      <td>The world will never be the same, once you've ...</td>\n",
              "      <td>Tom Hanks Robin Wright Gary Sinise Mykelti Wil...</td>\n",
              "      <td>Robert Zemeckis</td>\n",
              "    </tr>\n",
              "    <tr>\n",
              "      <th>4</th>\n",
              "      <td>Drama</td>\n",
              "      <td>male nudity female nudity adultery midlife cri...</td>\n",
              "      <td>Look closer.</td>\n",
              "      <td>Kevin Spacey Annette Bening Thora Birch Wes Be...</td>\n",
              "      <td>Sam Mendes</td>\n",
              "    </tr>\n",
              "    <tr>\n",
              "      <th>...</th>\n",
              "      <td>...</td>\n",
              "      <td>...</td>\n",
              "      <td>...</td>\n",
              "      <td>...</td>\n",
              "      <td>...</td>\n",
              "    </tr>\n",
              "    <tr>\n",
              "      <th>4755</th>\n",
              "      <td>Horror</td>\n",
              "      <td></td>\n",
              "      <td>The hot spot where Satan's waitin'.</td>\n",
              "      <td>Lisa Hart Carroll Michael Des Barres Paul Drak...</td>\n",
              "      <td>Pece Dingo</td>\n",
              "    </tr>\n",
              "    <tr>\n",
              "      <th>4756</th>\n",
              "      <td>Comedy Family Drama</td>\n",
              "      <td></td>\n",
              "      <td>It’s better to stand out than to fit in.</td>\n",
              "      <td>Roni Akurati Brighton Sharbino Jason Lee Anjul...</td>\n",
              "      <td>Frank Lotito</td>\n",
              "    </tr>\n",
              "    <tr>\n",
              "      <th>4757</th>\n",
              "      <td>Thriller Drama</td>\n",
              "      <td>christian film sex trafficking</td>\n",
              "      <td>She never knew it could happen to her...</td>\n",
              "      <td>Nicole Smolen Kim Baldwin Ariana Stephens Brys...</td>\n",
              "      <td>Jaco Booyens</td>\n",
              "    </tr>\n",
              "    <tr>\n",
              "      <th>4758</th>\n",
              "      <td>Family</td>\n",
              "      <td></td>\n",
              "      <td></td>\n",
              "      <td></td>\n",
              "      <td></td>\n",
              "    </tr>\n",
              "    <tr>\n",
              "      <th>4759</th>\n",
              "      <td>Documentary</td>\n",
              "      <td>music actors legendary perfomer classic hollyw...</td>\n",
              "      <td></td>\n",
              "      <td>Tony Oppedisano</td>\n",
              "      <td>Simon Napier-Bell</td>\n",
              "    </tr>\n",
              "  </tbody>\n",
              "</table>\n",
              "<p>4760 rows × 5 columns</p>\n",
              "</div>\n",
              "      <button class=\"colab-df-convert\" onclick=\"convertToInteractive('df-aa9f3ec6-449e-4114-8f99-31a096a1db6e')\"\n",
              "              title=\"Convert this dataframe to an interactive table.\"\n",
              "              style=\"display:none;\">\n",
              "\n",
              "  <svg xmlns=\"http://www.w3.org/2000/svg\" height=\"24px\"viewBox=\"0 0 24 24\"\n",
              "       width=\"24px\">\n",
              "    <path d=\"M0 0h24v24H0V0z\" fill=\"none\"/>\n",
              "    <path d=\"M18.56 5.44l.94 2.06.94-2.06 2.06-.94-2.06-.94-.94-2.06-.94 2.06-2.06.94zm-11 1L8.5 8.5l.94-2.06 2.06-.94-2.06-.94L8.5 2.5l-.94 2.06-2.06.94zm10 10l.94 2.06.94-2.06 2.06-.94-2.06-.94-.94-2.06-.94 2.06-2.06.94z\"/><path d=\"M17.41 7.96l-1.37-1.37c-.4-.4-.92-.59-1.43-.59-.52 0-1.04.2-1.43.59L10.3 9.45l-7.72 7.72c-.78.78-.78 2.05 0 2.83L4 21.41c.39.39.9.59 1.41.59.51 0 1.02-.2 1.41-.59l7.78-7.78 2.81-2.81c.8-.78.8-2.07 0-2.86zM5.41 20L4 18.59l7.72-7.72 1.47 1.35L5.41 20z\"/>\n",
              "  </svg>\n",
              "      </button>\n",
              "\n",
              "\n",
              "\n",
              "    <div id=\"df-b328426d-3dd6-471c-beca-0bce3ef94243\">\n",
              "      <button class=\"colab-df-quickchart\" onclick=\"quickchart('df-b328426d-3dd6-471c-beca-0bce3ef94243')\"\n",
              "              title=\"Suggest charts.\"\n",
              "              style=\"display:none;\">\n",
              "\n",
              "<svg xmlns=\"http://www.w3.org/2000/svg\" height=\"24px\"viewBox=\"0 0 24 24\"\n",
              "     width=\"24px\">\n",
              "    <g>\n",
              "        <path d=\"M19 3H5c-1.1 0-2 .9-2 2v14c0 1.1.9 2 2 2h14c1.1 0 2-.9 2-2V5c0-1.1-.9-2-2-2zM9 17H7v-7h2v7zm4 0h-2V7h2v10zm4 0h-2v-4h2v4z\"/>\n",
              "    </g>\n",
              "</svg>\n",
              "      </button>\n",
              "    </div>\n",
              "\n",
              "<style>\n",
              "  .colab-df-quickchart {\n",
              "    background-color: #E8F0FE;\n",
              "    border: none;\n",
              "    border-radius: 50%;\n",
              "    cursor: pointer;\n",
              "    display: none;\n",
              "    fill: #1967D2;\n",
              "    height: 32px;\n",
              "    padding: 0 0 0 0;\n",
              "    width: 32px;\n",
              "  }\n",
              "\n",
              "  .colab-df-quickchart:hover {\n",
              "    background-color: #E2EBFA;\n",
              "    box-shadow: 0px 1px 2px rgba(60, 64, 67, 0.3), 0px 1px 3px 1px rgba(60, 64, 67, 0.15);\n",
              "    fill: #174EA6;\n",
              "  }\n",
              "\n",
              "  [theme=dark] .colab-df-quickchart {\n",
              "    background-color: #3B4455;\n",
              "    fill: #D2E3FC;\n",
              "  }\n",
              "\n",
              "  [theme=dark] .colab-df-quickchart:hover {\n",
              "    background-color: #434B5C;\n",
              "    box-shadow: 0px 1px 3px 1px rgba(0, 0, 0, 0.15);\n",
              "    filter: drop-shadow(0px 1px 2px rgba(0, 0, 0, 0.3));\n",
              "    fill: #FFFFFF;\n",
              "  }\n",
              "</style>\n",
              "\n",
              "    <script>\n",
              "      async function quickchart(key) {\n",
              "        const containerElement = document.querySelector('#' + key);\n",
              "        const charts = await google.colab.kernel.invokeFunction(\n",
              "            'suggestCharts', [key], {});\n",
              "      }\n",
              "    </script>\n",
              "\n",
              "      <script>\n",
              "\n",
              "function displayQuickchartButton(domScope) {\n",
              "  let quickchartButtonEl =\n",
              "    domScope.querySelector('#df-b328426d-3dd6-471c-beca-0bce3ef94243 button.colab-df-quickchart');\n",
              "  quickchartButtonEl.style.display =\n",
              "    google.colab.kernel.accessAllowed ? 'block' : 'none';\n",
              "}\n",
              "\n",
              "        displayQuickchartButton(document);\n",
              "      </script>\n",
              "      <style>\n",
              "    .colab-df-container {\n",
              "      display:flex;\n",
              "      flex-wrap:wrap;\n",
              "      gap: 12px;\n",
              "    }\n",
              "\n",
              "    .colab-df-convert {\n",
              "      background-color: #E8F0FE;\n",
              "      border: none;\n",
              "      border-radius: 50%;\n",
              "      cursor: pointer;\n",
              "      display: none;\n",
              "      fill: #1967D2;\n",
              "      height: 32px;\n",
              "      padding: 0 0 0 0;\n",
              "      width: 32px;\n",
              "    }\n",
              "\n",
              "    .colab-df-convert:hover {\n",
              "      background-color: #E2EBFA;\n",
              "      box-shadow: 0px 1px 2px rgba(60, 64, 67, 0.3), 0px 1px 3px 1px rgba(60, 64, 67, 0.15);\n",
              "      fill: #174EA6;\n",
              "    }\n",
              "\n",
              "    [theme=dark] .colab-df-convert {\n",
              "      background-color: #3B4455;\n",
              "      fill: #D2E3FC;\n",
              "    }\n",
              "\n",
              "    [theme=dark] .colab-df-convert:hover {\n",
              "      background-color: #434B5C;\n",
              "      box-shadow: 0px 1px 3px 1px rgba(0, 0, 0, 0.15);\n",
              "      filter: drop-shadow(0px 1px 2px rgba(0, 0, 0, 0.3));\n",
              "      fill: #FFFFFF;\n",
              "    }\n",
              "  </style>\n",
              "\n",
              "      <script>\n",
              "        const buttonEl =\n",
              "          document.querySelector('#df-aa9f3ec6-449e-4114-8f99-31a096a1db6e button.colab-df-convert');\n",
              "        buttonEl.style.display =\n",
              "          google.colab.kernel.accessAllowed ? 'block' : 'none';\n",
              "\n",
              "        async function convertToInteractive(key) {\n",
              "          const element = document.querySelector('#df-aa9f3ec6-449e-4114-8f99-31a096a1db6e');\n",
              "          const dataTable =\n",
              "            await google.colab.kernel.invokeFunction('convertToInteractive',\n",
              "                                                     [key], {});\n",
              "          if (!dataTable) return;\n",
              "\n",
              "          const docLinkHtml = 'Like what you see? Visit the ' +\n",
              "            '<a target=\"_blank\" href=https://colab.research.google.com/notebooks/data_table.ipynb>data table notebook</a>'\n",
              "            + ' to learn more about interactive tables.';\n",
              "          element.innerHTML = '';\n",
              "          dataTable['output_type'] = 'display_data';\n",
              "          await google.colab.output.renderOutput(dataTable, element);\n",
              "          const docLink = document.createElement('div');\n",
              "          docLink.innerHTML = docLinkHtml;\n",
              "          element.appendChild(docLink);\n",
              "        }\n",
              "      </script>\n",
              "    </div>\n",
              "  </div>\n"
            ]
          },
          "metadata": {},
          "execution_count": 16
        }
      ]
    },
    {
      "cell_type": "code",
      "source": [
        "x=df_features['Movie_Genre']+' '+df_features['Movie_Keywords']+' '+df_features['Movie_Tagline']+' '+df_features['Movie_Cast']+df_features['Movie_Director']"
      ],
      "metadata": {
        "id": "egmEhvVRgpHS"
      },
      "execution_count": null,
      "outputs": []
    },
    {
      "cell_type": "code",
      "source": [
        "x.shape"
      ],
      "metadata": {
        "colab": {
          "base_uri": "https://localhost:8080/"
        },
        "id": "yv31n3j9hcxI",
        "outputId": "c7c0efbe-e010-4413-9924-312cf83ba5f4"
      },
      "execution_count": null,
      "outputs": [
        {
          "output_type": "execute_result",
          "data": {
            "text/plain": [
              "(4760,)"
            ]
          },
          "metadata": {},
          "execution_count": 18
        }
      ]
    },
    {
      "cell_type": "code",
      "source": [
        "x"
      ],
      "metadata": {
        "colab": {
          "base_uri": "https://localhost:8080/"
        },
        "id": "wr5sl97fhYZH",
        "outputId": "2832aeec-08fb-4d70-f6c6-c53c05106efb"
      },
      "execution_count": null,
      "outputs": [
        {
          "output_type": "execute_result",
          "data": {
            "text/plain": [
              "0       Crime Comedy hotel new year's eve witch bet ho...\n",
              "1       Adventure Action Science Fiction android galax...\n",
              "2       Animation Family father son relationship harbo...\n",
              "3       Comedy Drama Romance vietnam veteran hippie me...\n",
              "4       Drama male nudity female nudity adultery midli...\n",
              "                              ...                        \n",
              "4755    Horror  The hot spot where Satan's waitin'. Li...\n",
              "4756    Comedy Family Drama  It’s better to stand out ...\n",
              "4757    Thriller Drama christian film sex trafficking ...\n",
              "4758                                            Family   \n",
              "4759    Documentary music actors legendary perfomer cl...\n",
              "Length: 4760, dtype: object"
            ]
          },
          "metadata": {},
          "execution_count": 19
        }
      ]
    },
    {
      "cell_type": "markdown",
      "source": [
        "**Get Feature Text Conversion to Tokens**"
      ],
      "metadata": {
        "id": "wtQ3sxJ9hprr"
      }
    },
    {
      "cell_type": "code",
      "source": [
        "from sklearn.feature_extraction.text import TfidfVectorizer"
      ],
      "metadata": {
        "id": "BCRxIk6bh1Lc"
      },
      "execution_count": null,
      "outputs": []
    },
    {
      "cell_type": "code",
      "source": [
        "tfidf = TfidfVectorizer()"
      ],
      "metadata": {
        "id": "wlGhSUUgiA8s"
      },
      "execution_count": null,
      "outputs": []
    },
    {
      "cell_type": "code",
      "source": [
        "x = tfidf.fit_transform(x)"
      ],
      "metadata": {
        "id": "WJDAPCS5iWps"
      },
      "execution_count": null,
      "outputs": []
    },
    {
      "cell_type": "code",
      "source": [
        "x.shape"
      ],
      "metadata": {
        "colab": {
          "base_uri": "https://localhost:8080/"
        },
        "id": "w-sZUZrnigbC",
        "outputId": "0a9bc763-c000-4b3e-b8e6-086ea82d6cc7"
      },
      "execution_count": null,
      "outputs": [
        {
          "output_type": "execute_result",
          "data": {
            "text/plain": [
              "(4760, 20663)"
            ]
          },
          "metadata": {},
          "execution_count": 23
        }
      ]
    },
    {
      "cell_type": "code",
      "source": [
        "print(x)"
      ],
      "metadata": {
        "colab": {
          "base_uri": "https://localhost:8080/"
        },
        "id": "_vi_3j3kimFe",
        "outputId": "a8f01df4-15c3-491b-dcd4-55c5022b311c"
      },
      "execution_count": null,
      "outputs": [
        {
          "output_type": "stream",
          "name": "stdout",
          "text": [
            "  (0, 655)\t0.16262957145774184\n",
            "  (0, 18431)\t0.1962711409320156\n",
            "  (0, 11694)\t0.14164337533513574\n",
            "  (0, 11447)\t0.165264014462748\n",
            "  (0, 1580)\t0.18076757769738178\n",
            "  (0, 9423)\t0.09798087551420058\n",
            "  (0, 1359)\t0.14164337533513574\n",
            "  (0, 791)\t0.13496700839177703\n",
            "  (0, 15749)\t0.1426376240765807\n",
            "  (0, 18370)\t0.11240630649274984\n",
            "  (0, 10918)\t0.08630813208986426\n",
            "  (0, 13470)\t0.062232628720122286\n",
            "  (0, 20032)\t0.17577654512129037\n",
            "  (0, 6638)\t0.08566211133363479\n",
            "  (0, 19985)\t0.10643704814029137\n",
            "  (0, 9505)\t0.13290090230347504\n",
            "  (0, 18206)\t0.09757953526456405\n",
            "  (0, 13559)\t0.07246213547989389\n",
            "  (0, 4620)\t0.11982714282573949\n",
            "  (0, 6499)\t0.11404364072001853\n",
            "  (0, 8506)\t0.19736418022707264\n",
            "  (0, 8998)\t0.14681661831949364\n",
            "  (0, 1700)\t0.1962711409320156\n",
            "  (0, 11113)\t0.1544047030004985\n",
            "  (0, 13561)\t0.08227116414935932\n",
            "  :\t:\n",
            "  (4757, 13230)\t0.1917059258424139\n",
            "  (4757, 6453)\t0.1278233416956338\n",
            "  (4757, 3498)\t0.17043427365383906\n",
            "  (4757, 10211)\t0.24070268624796623\n",
            "  (4757, 8337)\t0.17486057368807015\n",
            "  (4757, 10100)\t0.18223818201928874\n",
            "  (4757, 18314)\t0.07832581222100125\n",
            "  (4757, 18398)\t0.0998144365796161\n",
            "  (4757, 9206)\t0.117467101278103\n",
            "  (4757, 13168)\t0.1488517539356107\n",
            "  (4757, 5315)\t0.05807442979491625\n",
            "  (4758, 6194)\t1.0\n",
            "  (4759, 13584)\t0.34167984405714247\n",
            "  (4759, 16871)\t0.34167984405714247\n",
            "  (4759, 14123)\t0.34167984405714247\n",
            "  (4759, 212)\t0.3258920132175228\n",
            "  (4759, 10738)\t0.3060016986743309\n",
            "  (4759, 3603)\t0.2831147072916264\n",
            "  (4759, 8590)\t0.26591080832993275\n",
            "  (4759, 13011)\t0.3146903689708659\n",
            "  (4759, 6746)\t0.2179341128724163\n",
            "  (4759, 5146)\t0.1842532043388515\n",
            "  (4759, 18451)\t0.2133479262794535\n",
            "  (4759, 1693)\t0.2179341128724163\n",
            "  (4759, 12912)\t0.15991356654874977\n"
          ]
        }
      ]
    },
    {
      "cell_type": "markdown",
      "source": [
        "**Get Similarly Score using Cosine Similarly**\n",
        "\n",
        "cosine_similarity computes the L2-normalized dot product of vectors.Euclidean(L2)normalization projects the vectors onto the until sphere,and their dot product is then the cosine of the angle between the points denoted by the vectors."
      ],
      "metadata": {
        "id": "ZyBPWLEfixYx"
      }
    },
    {
      "cell_type": "code",
      "source": [
        "from sklearn.metrics.pairwise import cosine_similarity"
      ],
      "metadata": {
        "id": "IQL31A2ijrku"
      },
      "execution_count": null,
      "outputs": []
    },
    {
      "cell_type": "code",
      "source": [
        "similarity_score = cosine_similarity(x)"
      ],
      "metadata": {
        "id": "qbZrBpEnj2xU"
      },
      "execution_count": null,
      "outputs": []
    },
    {
      "cell_type": "code",
      "source": [
        "similarity_score"
      ],
      "metadata": {
        "colab": {
          "base_uri": "https://localhost:8080/"
        },
        "id": "lKa5Hl11j_ok",
        "outputId": "be192cff-889f-46df-88da-6b3df9dda74d"
      },
      "execution_count": null,
      "outputs": [
        {
          "output_type": "execute_result",
          "data": {
            "text/plain": [
              "array([[1.        , 0.01337921, 0.03525659, ..., 0.        , 0.        ,\n",
              "        0.        ],\n",
              "       [0.01337921, 1.        , 0.0079559 , ..., 0.        , 0.        ,\n",
              "        0.        ],\n",
              "       [0.03525659, 0.0079559 , 1.        , ..., 0.        , 0.07948776,\n",
              "        0.        ],\n",
              "       ...,\n",
              "       [0.        , 0.        , 0.        , ..., 1.        , 0.        ,\n",
              "        0.        ],\n",
              "       [0.        , 0.        , 0.07948776, ..., 0.        , 1.        ,\n",
              "        0.        ],\n",
              "       [0.        , 0.        , 0.        , ..., 0.        , 0.        ,\n",
              "        1.        ]])"
            ]
          },
          "metadata": {},
          "execution_count": 27
        }
      ]
    },
    {
      "cell_type": "code",
      "source": [
        "similarity_score.shape"
      ],
      "metadata": {
        "colab": {
          "base_uri": "https://localhost:8080/"
        },
        "id": "MOkneUQxkGnZ",
        "outputId": "8b0e2c14-c2b5-429b-bd94-bbb3f8ea819c"
      },
      "execution_count": null,
      "outputs": [
        {
          "output_type": "execute_result",
          "data": {
            "text/plain": [
              "(4760, 4760)"
            ]
          },
          "metadata": {},
          "execution_count": 28
        }
      ]
    },
    {
      "cell_type": "markdown",
      "source": [
        "**Get Movie Name as Input from User and Validate for Closest Spelling**"
      ],
      "metadata": {
        "id": "8jlG90z5kMBr"
      }
    },
    {
      "cell_type": "code",
      "source": [
        "Favourite_Movie_Name = input('enter your favourite movie name :')"
      ],
      "metadata": {
        "colab": {
          "base_uri": "https://localhost:8080/"
        },
        "id": "8dbKeAkQka56",
        "outputId": "787ee90e-0d5d-4763-cc94-5aeb39ea863d"
      },
      "execution_count": null,
      "outputs": [
        {
          "name": "stdout",
          "output_type": "stream",
          "text": [
            "enter your favourite movie name :avatar\n"
          ]
        }
      ]
    },
    {
      "cell_type": "code",
      "source": [
        "All_Movies_Title_List = df['Movie_Title'].tolist()"
      ],
      "metadata": {
        "id": "S-fABkYykyD0"
      },
      "execution_count": null,
      "outputs": []
    },
    {
      "cell_type": "code",
      "source": [
        "import difflib"
      ],
      "metadata": {
        "id": "UM87Kk1-lATy"
      },
      "execution_count": null,
      "outputs": []
    },
    {
      "cell_type": "code",
      "source": [
        "Movie_Recommendation = difflib.get_close_matches(Favourite_Movie_Name,All_Movies_Title_List)\n",
        "print(Movie_Recommendation)"
      ],
      "metadata": {
        "colab": {
          "base_uri": "https://localhost:8080/"
        },
        "id": "TUkNOqLblEkH",
        "outputId": "d0900a94-b7da-4e0c-9cf0-3eb117ded968"
      },
      "execution_count": null,
      "outputs": [
        {
          "output_type": "stream",
          "name": "stdout",
          "text": [
            "['Avatar']\n"
          ]
        }
      ]
    },
    {
      "cell_type": "code",
      "source": [
        "Close_Match = Movie_Recommendation[0]\n",
        "print(Close_Match)"
      ],
      "metadata": {
        "colab": {
          "base_uri": "https://localhost:8080/"
        },
        "id": "Xww5cIpJlkwp",
        "outputId": "d1c20a3b-875b-4d01-dc03-dc869909becd"
      },
      "execution_count": null,
      "outputs": [
        {
          "output_type": "stream",
          "name": "stdout",
          "text": [
            "Avatar\n"
          ]
        }
      ]
    },
    {
      "cell_type": "code",
      "source": [
        "Index_of_Close_Match_Movie = df[df.Movie_Title == Close_Match]['Movie_ID'].values[0]\n",
        "print(Index_of_Close_Match_Movie)"
      ],
      "metadata": {
        "colab": {
          "base_uri": "https://localhost:8080/"
        },
        "id": "Bq1c7Mvpl6kS",
        "outputId": "f0d48a9b-8e48-48b0-98cf-36835975ec84"
      },
      "execution_count": null,
      "outputs": [
        {
          "output_type": "stream",
          "name": "stdout",
          "text": [
            "2692\n"
          ]
        }
      ]
    },
    {
      "cell_type": "code",
      "source": [
        "# getting a list of similar movies\n",
        "Recommendation_Score = list(enumerate(similarity_score[Index_of_Close_Match_Movie]))\n",
        "print(Recommendation_Score)"
      ],
      "metadata": {
        "colab": {
          "base_uri": "https://localhost:8080/"
        },
        "id": "DfYddobhmb2q",
        "outputId": "635ed2cd-c654-4769-adaf-ee4d477a0bd9"
      },
      "execution_count": null,
      "outputs": [
        {
          "output_type": "stream",
          "name": "stdout",
          "text": [
            "[(0, 0.009758882373553546), (1, 0.0), (2, 0.0), (3, 0.007895011959041548), (4, 0.002646117850436645), (5, 0.009711760308286195), (6, 0.004985185092521622), (7, 0.013464555491972799), (8, 0.002764192402006438), (9, 0.006131107271982767), (10, 0.007607893097473656), (11, 0.002591421026419346), (12, 0.002727110102655333), (13, 0.013358343526164034), (14, 0.0), (15, 0.022438006880732456), (16, 0.006089768667124009), (17, 0.0), (18, 0.013328515958953131), (19, 0.008838480746941841), (20, 0.0026378026353235215), (21, 0.015793755266110425), (22, 0.006495501316185061), (23, 0.0026160065933929777), (24, 0.0016873911328124413), (25, 0.026842609291643022), (26, 0.0024777489921199306), (27, 0.0047154226626084424), (28, 0.0), (29, 0.023371113117583945), (30, 0.004580861261423185), (31, 0.006701974138629128), (32, 0.008302553423817353), (33, 0.018682357597363232), (34, 0.007399864999210883), (35, 0.006011264900105254), (36, 0.0), (37, 0.0), (38, 0.008053106075278465), (39, 0.004539612554040745), (40, 0.015283524470743722), (41, 0.002775939024993834), (42, 0.007050971336716383), (43, 0.014662271352094065), (44, 0.03964357411800694), (45, 0.08782285821831268), (46, 0.018471768792083492), (47, 0.010265974397174735), (48, 0.015601274971403937), (49, 0.0), (50, 0.006859150115732682), (51, 0.014946633679296597), (52, 0.013351068858658105), (53, 0.0), (54, 0.0), (55, 0.0), (56, 0.0066325561253584965), (57, 0.010996722266650301), (58, 0.0), (59, 0.0), (60, 0.007870507952844559), (61, 0.017385970861924453), (62, 0.065446117365631), (63, 0.007709740596143702), (64, 0.0), (65, 0.03130751697713389), (66, 0.0025806630448184653), (67, 0.045054311263593036), (68, 0.02223685897042976), (69, 0.005352706681491463), (70, 0.01249947095058676), (71, 0.0025602359159759454), (72, 0.011151930087673938), (73, 0.0), (74, 0.0027451333146382567), (75, 0.013303467099977286), (76, 0.0037177345917875667), (77, 0.003485230189054799), (78, 0.00944425027924753), (79, 0.00895045780608401), (80, 0.004226006669238771), (81, 0.006936476860976448), (82, 0.011919712698243167), (83, 0.018736939983929567), (84, 0.061414458309579645), (85, 0.015586014731701818), (86, 0.011693087337682151), (87, 0.013543862401020757), (88, 0.022127811480121308), (89, 0.041628418231492825), (90, 0.004470160406284602), (91, 0.0), (92, 0.002289082456185881), (93, 0.004519424267144667), (94, 0.004325019981355956), (95, 0.004767433030766618), (96, 0.008915092095146335), (97, 0.0022123076578918297), (98, 0.0024326078674799592), (99, 0.010086400745824745), (100, 0.0), (101, 0.0), (102, 0.004990310054844927), (103, 0.0022523301387708063), (104, 0.008995862246947471), (105, 0.009689215223879718), (106, 0.01747311582556149), (107, 0.007999982976525528), (108, 0.03836793089547321), (109, 0.03828538661766738), (110, 0.08495419169129932), (111, 0.008970146757745047), (112, 0.029552125729207502), (113, 0.007473968307520359), (114, 0.0024809414921506162), (115, 0.0025836184110562834), (116, 0.024456461658093957), (117, 0.0), (118, 0.004562504747985968), (119, 0.008767161340669342), (120, 0.009966408556762972), (121, 0.0023176371556102894), (122, 0.006487238497571814), (123, 0.017922714291584586), (124, 0.024936949392841384), (125, 0.01288964327978259), (126, 0.0379226268642486), (127, 0.002482555359429706), (128, 0.005025554996234532), (129, 0.001764866524035932), (130, 0.011931290573271521), (131, 0.006680249325576059), (132, 0.0022465990519912053), (133, 0.0), (134, 0.0), (135, 0.00455821310108224), (136, 0.002321267392675556), (137, 0.0521569976392735), (138, 0.03424194189504358), (139, 0.00791662136554881), (140, 0.002412322861394687), (141, 0.0), (142, 0.01981343533969084), (143, 0.0076353481687847745), (144, 0.017099225510857977), (145, 0.018931946554894434), (146, 0.0), (147, 0.017968719270714025), (148, 0.010527360565437573), (149, 0.012493778536234797), (150, 0.0), (151, 0.0), (152, 0.00444454998188037), (153, 0.0), (154, 0.00233406145129327), (155, 0.004916199281291565), (156, 0.007419173326036456), (157, 0.002481151101730147), (158, 0.002272229371671671), (159, 0.007252020935011809), (160, 0.018126217570608703), (161, 0.043033125299831616), (162, 0.007772041794891037), (163, 0.0), (164, 0.008752254136867125), (165, 0.0022161863775836226), (166, 0.03225708645274067), (167, 0.0024303863386630604), (168, 0.005198732457466935), (169, 0.0025430908226692843), (170, 0.010722072122138238), (171, 0.0), (172, 0.04220668584225072), (173, 0.01651765469183297), (174, 0.033421026990190436), (175, 0.023439289553191335), (176, 0.02931977480949116), (177, 0.005620110895854673), (178, 0.0026314337186226617), (179, 0.030390863557088293), (180, 0.0074975007155162286), (181, 0.014023728066034353), (182, 0.009082411843633039), (183, 0.008300492203054411), (184, 0.0022389660952328505), (185, 0.04074417450982052), (186, 0.0), (187, 0.004108003694490477), (188, 0.0), (189, 0.004679941732048846), (190, 0.012262634727096353), (191, 0.004101830363130834), (192, 0.0027184308846663176), (193, 0.028933786631903352), (194, 0.0020428927733030506), (195, 0.002146228295591314), (196, 0.0021076410974588088), (197, 0.008746373197699253), (198, 0.0025839718690850045), (199, 0.019090498911958343), (200, 0.006290277621795738), (201, 0.012023055197990316), (202, 0.0016763203906183899), (203, 0.016948824671606758), (204, 0.01852971499762726), (205, 0.0), (206, 0.010040681561341025), (207, 0.013175488116215016), (208, 0.014693944408735875), (209, 0.01678992670899384), (210, 0.04088247145491249), (211, 0.0026015809177949017), (212, 0.016666650591658536), (213, 0.04994120387224261), (214, 0.0), (215, 0.0024333554322936365), (216, 0.009910033400088258), (217, 0.006761048995039743), (218, 0.016068009208689005), (219, 0.0), (220, 0.004858180150691765), (221, 0.0023867249427584458), (222, 0.017831281253785157), (223, 0.0), (224, 0.007306632867185732), (225, 0.0), (226, 0.0025548893778198057), (227, 0.04920008658511518), (228, 0.0019144719695130294), (229, 0.0023182211606906622), (230, 0.006348798090654446), (231, 0.013509144800893219), (232, 0.00695499639631404), (233, 0.0045119313152480285), (234, 0.0038903717508364933), (235, 0.002800444365286041), (236, 0.013429210335296937), (237, 0.0), (238, 0.007278811697844), (239, 0.00481676234263013), (240, 0.028778273981232682), (241, 0.00451492183273678), (242, 0.007930590467221988), (243, 0.009768078599665303), (244, 0.011374544227916266), (245, 0.0), (246, 0.0026772900313672752), (247, 0.0024739285906916924), (248, 0.006132084444618754), (249, 0.0022380681097073835), (250, 0.03139570838475398), (251, 0.014059058692907968), (252, 0.014219135928308124), (253, 0.0027354235094318334), (254, 0.06503547836471146), (255, 0.007376167685312762), (256, 0.007566289525701781), (257, 0.0), (258, 0.0), (259, 0.0), (260, 0.0044635127443143656), (261, 0.022359027981707195), (262, 0.0027126362923378068), (263, 0.00618181631601747), (264, 0.0), (265, 0.0), (266, 0.010559373213377573), (267, 0.0021490127060194053), (268, 0.0022688865159653147), (269, 0.024582854151988538), (270, 0.009822561333536936), (271, 0.0105955049250176), (272, 0.0), (273, 0.010996741157454717), (274, 0.010898559381274507), (275, 0.0), (276, 0.013376809429551832), (277, 0.04275917421041775), (278, 0.0021764892747250784), (279, 0.016484311374168267), (280, 0.016188787172011342), (281, 0.010855215243992657), (282, 0.033351013355360844), (283, 0.0065770521128638), (284, 0.028938197410800646), (285, 0.008587407681844694), (286, 0.002174572685934181), (287, 0.015400871168044237), (288, 0.009490514268868308), (289, 0.0037264826476337783), (290, 0.003807777692461012), (291, 0.010727513353182208), (292, 0.050922679216370705), (293, 0.0018200357376225262), (294, 0.00369975678023385), (295, 0.0037500208660716607), (296, 0.015264644821929274), (297, 0.0), (298, 0.0), (299, 0.0), (300, 0.006217392078006202), (301, 0.006777254061551175), (302, 0.0), (303, 0.004981255497264049), (304, 0.010819007098042094), (305, 0.004546882235066165), (306, 0.004263311067191987), (307, 0.008462473898255928), (308, 0.0027981773243471847), (309, 0.007435410783603113), (310, 0.004400888284177117), (311, 0.006563251833375566), (312, 0.0), (313, 0.011443098576012542), (314, 0.003863888011698759), (315, 0.004504317041425386), (316, 0.00422500791079874), (317, 0.013816220181430684), (318, 0.00280868199917967), (319, 0.0), (320, 0.004780067666855784), (321, 0.010712004038011133), (322, 0.010893859383938165), (323, 0.004070398943953088), (324, 0.002356979419138289), (325, 0.0023560259907815387), (326, 0.0030505252214506227), (327, 0.009932008024578519), (328, 0.04365866341757779), (329, 0.01917883900577064), (330, 0.02017135613683329), (331, 0.0), (332, 0.013050112656783384), (333, 0.010381116740186044), (334, 0.03231445732726011), (335, 0.0), (336, 0.004833644001916375), (337, 0.0), (338, 0.0), (339, 0.0), (340, 0.00693469682596866), (341, 0.011948426736042912), (342, 0.017406606094352774), (343, 0.015632476759549707), (344, 0.0), (345, 0.024379659369703682), (346, 0.008919703174331963), (347, 0.004587789492370932), (348, 0.002460672367493144), (349, 0.0024651964095068267), (350, 0.007676718061964946), (351, 0.0019335816733388827), (352, 0.0), (353, 0.009242941183724776), (354, 0.010127114974996073), (355, 0.002328989865378365), (356, 0.013060245170366047), (357, 0.00217833252139352), (358, 0.015283445370627044), (359, 0.0023130804514961633), (360, 0.04069819652341172), (361, 0.0), (362, 0.0), (363, 0.007012973473031779), (364, 0.017892848394355537), (365, 0.0), (366, 0.0), (367, 0.006669231577912804), (368, 0.008368017395552747), (369, 0.00539899508969636), (370, 0.014216265152508702), (371, 0.027996982113082592), (372, 0.002372701839269819), (373, 0.002432108077067785), (374, 0.015097301588967132), (375, 0.004612875877653715), (376, 0.0), (377, 0.002537769187194709), (378, 0.002544645827281892), (379, 0.0), (380, 0.00527841809404265), (381, 0.025908352959345397), (382, 0.0), (383, 0.021145840872298156), (384, 0.027297204651682474), (385, 0.007700267940648339), (386, 0.006864629684037367), (387, 0.03218333693022817), (388, 0.002359191302294543), (389, 0.0045486154108714235), (390, 0.0), (391, 0.0), (392, 0.0), (393, 0.0), (394, 0.0), (395, 0.00272407137020221), (396, 0.00936092419806391), (397, 0.004242393404529362), (398, 0.023671826865300234), (399, 0.0023487338419642886), (400, 0.002506676445173932), (401, 0.0), (402, 0.010991046631238493), (403, 0.007734718303573947), (404, 0.0), (405, 0.0), (406, 0.013819853584159584), (407, 0.012446586122991979), (408, 0.043853757442649355), (409, 0.016801864361300534), (410, 0.0023471674070784576), (411, 0.0), (412, 0.04499777605203794), (413, 0.006923130463155764), (414, 0.004867023107707295), (415, 0.0), (416, 0.002332664059221858), (417, 0.010593333523197), (418, 0.01213600604880381), (419, 0.0028162547642586367), (420, 0.004849700844192116), (421, 0.028598650883042098), (422, 0.006741760529449878), (423, 0.0), (424, 0.03159810876766351), (425, 0.0051499508129992004), (426, 0.004221372390236282), (427, 0.0), (428, 0.008208750598382566), (429, 0.015245839927307816), (430, 0.029915371733163228), (431, 0.002935499241138564), (432, 0.0021359054800464544), (433, 0.016508465407928424), (434, 0.00903775443363713), (435, 0.009444263200294917), (436, 0.007988977959549903), (437, 0.015217259797671207), (438, 0.04348553724740059), (439, 0.0), (440, 0.0), (441, 0.007575249353608726), (442, 0.021568661790479244), (443, 0.008182041493720989), (444, 0.0027778223413512334), (445, 0.00788132794230941), (446, 0.008934868518683727), (447, 0.014490178478422301), (448, 0.0028925185706059195), (449, 0.008397217288350115), (450, 0.015471708431341363), (451, 0.004510390916712116), (452, 0.011877641838412785), (453, 0.00202874770917687), (454, 0.0), (455, 0.042085554729650726), (456, 0.002659645104066224), (457, 0.0022902948917407242), (458, 0.015772503338473978), (459, 0.026531327060031296), (460, 0.004521529212535695), (461, 0.008300099157123708), (462, 0.0), (463, 0.01922647656976821), (464, 0.008935152722242325), (465, 0.02842071233671727), (466, 0.0024778675051692536), (467, 0.004598960569473526), (468, 0.0104324352161531), (469, 0.003815904469627242), (470, 0.014551431859163733), (471, 0.0023614429690162818), (472, 0.009417265144961731), (473, 0.0023979424216120323), (474, 0.0073056788160507456), (475, 0.0031905315780014574), (476, 0.0027891987713721577), (477, 0.005293224535449547), (478, 0.0028788499597680677), (479, 0.05128300096665066), (480, 0.0022370876442660997), (481, 0.015535623018624524), (482, 0.014296525516191878), (483, 0.010147106986387914), (484, 0.0), (485, 0.010260525445869613), (486, 0.0), (487, 0.002465438046706713), (488, 0.002388935740349214), (489, 0.0030141165486707133), (490, 0.0024986395657262774), (491, 0.0), (492, 0.0), (493, 0.007623045761387568), (494, 0.0070861604009226755), (495, 0.0022718412749071952), (496, 0.013346087966215118), (497, 0.006149072210418932), (498, 0.0), (499, 0.0026716180736285245), (500, 0.011424399495150967), (501, 0.010454048895291794), (502, 0.014631620334757164), (503, 0.006862605336966282), (504, 0.0025701585030911433), (505, 0.0023907604974049068), (506, 0.0), (507, 0.002388034362628277), (508, 0.0028694041182118265), (509, 0.007278680209556226), (510, 0.014270784923384572), (511, 0.016213633117922125), (512, 0.0053642902125866365), (513, 0.004906863783087058), (514, 0.005020869620771117), (515, 0.02243465540610699), (516, 0.0), (517, 0.0), (518, 0.002965096140505688), (519, 0.050262126923677014), (520, 0.0), (521, 0.006280494519007156), (522, 0.002469976994638026), (523, 0.011590438987032003), (524, 0.0023407316060991192), (525, 0.0), (526, 0.0033347412769737022), (527, 0.012562347308941558), (528, 0.0), (529, 0.0), (530, 0.02927397731517281), (531, 0.0), (532, 0.010926931848565333), (533, 0.01584083127242615), (534, 0.014256021371642546), (535, 0.0), (536, 0.0), (537, 0.012388249866352312), (538, 0.01093635611478121), (539, 0.006889894603897377), (540, 0.0348177385786752), (541, 0.0024222406480220475), (542, 0.00994650009748126), (543, 0.014738487542971938), (544, 0.009614504903307413), (545, 0.013376232886267513), (546, 0.0), (547, 0.03387182716759193), (548, 0.0), (549, 0.0), (550, 0.004911302551164751), (551, 0.016240884767716575), (552, 0.0), (553, 0.018753774514009277), (554, 0.0), (555, 0.010720583836352266), (556, 0.0), (557, 0.0), (558, 0.008903689505833704), (559, 0.004191566575381607), (560, 0.011659270488911291), (561, 0.004821282264259828), (562, 0.0054049310308275575), (563, 0.006408123614273837), (564, 0.0026766197958489283), (565, 0.0), (566, 0.018979611869466187), (567, 0.0), (568, 0.006095622321725578), (569, 0.0), (570, 0.0), (571, 0.005454459542016686), (572, 0.0), (573, 0.0), (574, 0.0), (575, 0.0), (576, 0.0028534413368310036), (577, 0.0), (578, 0.03308590480674663), (579, 0.0025631118443817783), (580, 0.0075008854568359784), (581, 0.006376866230970647), (582, 0.007603030340980415), (583, 0.005949039624790873), (584, 0.014565626151830009), (585, 0.0), (586, 0.015577110613759979), (587, 0.0027661578925979816), (588, 0.0026101540027187124), (589, 0.002344359898972635), (590, 0.06267024750327603), (591, 0.0), (592, 0.0), (593, 0.029512661705924665), (594, 0.002275315506617626), (595, 0.004911607675004387), (596, 0.0028371188028211863), (597, 0.008126473062427031), (598, 0.002360340720378122), (599, 0.0), (600, 0.006781069548300663), (601, 0.0), (602, 0.0), (603, 0.0), (604, 0.012882643159323807), (605, 0.002217327139671425), (606, 0.0074498166595753056), (607, 0.001965060084741222), (608, 0.006496906297586884), (609, 0.012523960067835195), (610, 0.0), (611, 0.0041296258363527965), (612, 0.002685932697256962), (613, 0.021912569490861435), (614, 0.002910665746399396), (615, 0.04451097598967312), (616, 0.007594350527459333), (617, 0.0060717048032466175), (618, 0.03128103093998746), (619, 0.0045633959458846), (620, 0.015045695784899728), (621, 0.009839582568634191), (622, 0.014728019763134972), (623, 0.002663096905599098), (624, 0.002367286250323197), (625, 0.0039054836840384), (626, 0.0021237769506845324), (627, 0.0034461352523519604), (628, 0.08167981649537652), (629, 0.029272377907762187), (630, 0.0), (631, 0.009273247206086264), (632, 0.04100383891526237), (633, 0.004612444503591462), (634, 0.00460322829788357), (635, 0.012135113977632287), (636, 0.007272696149694801), (637, 0.04548376613359001), (638, 0.016487728694335693), (639, 0.0038373087028024935), (640, 0.0038925670915398863), (641, 0.006543078670484086), (642, 0.006191644231376072), (643, 0.01977797473889157), (644, 0.00703143873152686), (645, 0.0021246317717349647), (646, 0.002460211499456199), (647, 0.0022424018321673404), (648, 0.012122209341498795), (649, 0.0), (650, 0.0), (651, 0.008844842325599844), (652, 0.014619268891597526), (653, 0.012489841085806738), (654, 0.012190655464603758), (655, 0.002407860618442024), (656, 0.0), (657, 0.024183680805973475), (658, 0.0), (659, 0.0023281380309073656), (660, 0.007330145713236718), (661, 0.004359004227750071), (662, 0.0), (663, 0.0), (664, 0.012115005063144418), (665, 0.0), (666, 0.005153330531589064), (667, 0.012431589360811686), (668, 0.009363052062020769), (669, 0.01899549827995604), (670, 0.027773082711209075), (671, 0.006720774881833727), (672, 0.023373836817108862), (673, 0.015358169976249229), (674, 0.0), (675, 0.06190352591658066), (676, 0.01370082308648517), (677, 0.01666123035283852), (678, 0.012750020646900053), (679, 0.0), (680, 0.002716902367133416), (681, 0.0), (682, 0.042492698465643026), (683, 0.010653603898319774), (684, 0.01183166327113782), (685, 0.004670073913038262), (686, 0.0), (687, 0.00513764529659601), (688, 0.00792347748899656), (689, 0.017992824794915988), (690, 0.004258780053791625), (691, 0.02238747361351695), (692, 0.01565643884873553), (693, 0.0024928454235386963), (694, 0.03547857158203299), (695, 0.010563666670750566), (696, 0.007177104399635393), (697, 0.009051300260029222), (698, 0.0024525456550962077), (699, 0.0), (700, 0.0), (701, 0.015939552300220358), (702, 0.0), (703, 0.0022896010920356916), (704, 0.0), (705, 0.008118273455435213), (706, 0.022678865131764075), (707, 0.0021280741866906254), (708, 0.0), (709, 0.0), (710, 0.03584055705508602), (711, 0.0), (712, 0.0022359641761549834), (713, 0.0), (714, 0.0), (715, 0.010030124438439529), (716, 0.007426843801754453), (717, 0.0026413305971480683), (718, 0.0), (719, 0.01106891575190635), (720, 0.0), (721, 0.034068931257807605), (722, 0.002264639937420269), (723, 0.003873837025019755), (724, 0.0), (725, 0.0), (726, 0.0), (727, 0.006957464151938094), (728, 0.007567160213574892), (729, 0.007856115655632842), (730, 0.0), (731, 0.002394795830179528), (732, 0.012041443314929148), (733, 0.012302407611303055), (734, 0.008507465746289602), (735, 0.0035634512807927584), (736, 0.0), (737, 0.010275565263225865), (738, 0.0037684755366164894), (739, 0.002862513152307031), (740, 0.0017108819411890568), (741, 0.0), (742, 0.012666727149244095), (743, 0.007370591217713641), (744, 0.006566072769391229), (745, 0.006531432756257934), (746, 0.0), (747, 0.0), (748, 0.006813011998117712), (749, 0.002497485200582464), (750, 0.007052707647023475), (751, 0.0), (752, 0.006752672674527578), (753, 0.013420577049928852), (754, 0.0), (755, 0.0024741352782758786), (756, 0.004016254469567296), (757, 0.01795073487016047), (758, 0.006509836812081644), (759, 0.002362024636783001), (760, 0.013943521122237495), (761, 0.03170541968251368), (762, 0.01508277019527416), (763, 0.020565915946619516), (764, 0.0), (765, 0.0047620770935450285), (766, 0.008410844884941248), (767, 0.0023849702692168013), (768, 0.01861996802597942), (769, 0.007147178931235954), (770, 0.0), (771, 0.0), (772, 0.0), (773, 0.0), (774, 0.036346259000791845), (775, 0.013759514748172748), (776, 0.016987401716266937), (777, 0.0030457890237024195), (778, 0.006770135773555762), (779, 0.02022197087156822), (780, 0.0), (781, 0.0), (782, 0.008707397840481794), (783, 0.002636688996338881), (784, 0.0), (785, 0.0), (786, 0.0), (787, 0.015165925479626146), (788, 0.03858976596848749), (789, 0.0), (790, 0.011204143905889096), (791, 0.0027345631347176205), (792, 0.01007471549406173), (793, 0.004690041293917723), (794, 0.016484903710614188), (795, 0.0163322820305915), (796, 0.017590299008451007), (797, 0.0), (798, 0.0023759206045957056), (799, 0.013836720492987488), (800, 0.012070507572911362), (801, 0.010646941941967504), (802, 0.004933768061017463), (803, 0.004122327678890121), (804, 0.006358492989300477), (805, 0.0023163565066187447), (806, 0.009759531816628107), (807, 0.0), (808, 0.017737191290616534), (809, 0.01124736211193016), (810, 0.00424804404814121), (811, 0.004627017982932453), (812, 0.03208999966237983), (813, 0.0028584950168668135), (814, 0.013433004778041857), (815, 0.00227266572632266), (816, 0.008258676893786588), (817, 0.009106039576498194), (818, 0.03449490104076771), (819, 0.0), (820, 0.0), (821, 0.0064726853282743935), (822, 0.0), (823, 0.0029571849156981266), (824, 0.024617291622513745), (825, 0.011299279235051552), (826, 0.002701463198133001), (827, 0.010929639016101299), (828, 0.009139192730935532), (829, 0.012912869732554882), (830, 0.034329673046416674), (831, 0.005246067980115318), (832, 0.02594870160030308), (833, 0.012759908475756754), (834, 0.006491519692061785), (835, 0.006202208245357342), (836, 0.027910067811414026), (837, 0.0), (838, 0.008706689746254099), (839, 0.0), (840, 0.0), (841, 0.0), (842, 0.014504393289436816), (843, 0.0074775351240812275), (844, 0.01231147254596724), (845, 0.007475095352854537), (846, 0.0), (847, 0.01026756630540068), (848, 0.0026018201164887157), (849, 0.004600428548297332), (850, 0.009160921239743065), (851, 0.008511184357202725), (852, 0.0023834735637478103), (853, 0.01586074190872619), (854, 0.002405809804365436), (855, 0.005215599891461491), (856, 0.002258588235633642), (857, 0.0028709351251886574), (858, 0.01935063368718219), (859, 0.0), (860, 0.016231731930128994), (861, 0.006207799600454941), (862, 0.006035598847036754), (863, 0.006549384015093687), (864, 0.03142537682064097), (865, 0.0026134261314276304), (866, 0.013338034575137154), (867, 0.015437154818903195), (868, 0.00660238244159884), (869, 0.007241671808117643), (870, 0.020220350728702888), (871, 0.002617905526757641), (872, 0.0027168888912561017), (873, 0.051384029767644106), (874, 0.013953006922030397), (875, 0.012447619551264472), (876, 0.0159234165872376), (877, 0.05097653350507103), (878, 0.013328205384044327), (879, 0.014573730342702769), (880, 0.006945196139389243), (881, 0.0), (882, 0.0), (883, 0.0024650038831294015), (884, 0.00261638095051027), (885, 0.02583989828634756), (886, 0.0023679927092301596), (887, 0.0027463724949874048), (888, 0.01541872871229251), (889, 0.0032195854533442958), (890, 0.0026479823087467618), (891, 0.00495833428610205), (892, 0.0), (893, 0.0041488077126408335), (894, 0.009680467815374297), (895, 0.01432087990567228), (896, 0.015352196471501708), (897, 0.00916933561686679), (898, 0.004154415167480772), (899, 0.01425125494949376), (900, 0.013055437769171667), (901, 0.002114576366422252), (902, 0.004782810579746968), (903, 0.03096124322865137), (904, 0.04645415083395612), (905, 0.013281776780323851), (906, 0.012863076405768904), (907, 0.0023938718259015716), (908, 0.007306284280090162), (909, 0.0), (910, 0.0064861984535780955), (911, 0.03586316114394198), (912, 0.0), (913, 0.0), (914, 0.0), (915, 0.011182888812001), (916, 0.016854766665650316), (917, 0.02397194708892173), (918, 0.011927271939390926), (919, 0.0048321850292476305), (920, 0.0), (921, 0.009154163449165514), (922, 0.0028858847354476594), (923, 0.007060984119810582), (924, 0.007858901349625665), (925, 0.0028811425567375577), (926, 0.0), (927, 0.004575462908500093), (928, 0.012122764298780037), (929, 0.01591706649981294), (930, 0.007593668882928896), (931, 0.011829093318501575), (932, 0.004049166125957467), (933, 0.0026281329175825837), (934, 0.014061184671486933), (935, 0.03211495738826277), (936, 0.012204703505470198), (937, 0.016468108905842813), (938, 0.0), (939, 0.009026624079698693), (940, 0.006387687152455921), (941, 0.0024046101811352593), (942, 0.024204936216329114), (943, 0.0), (944, 0.002350239992432367), (945, 0.0), (946, 0.0), (947, 0.01997884633654673), (948, 0.008793203338257486), (949, 0.010922208689253043), (950, 0.0), (951, 0.002153595573264884), (952, 0.02888043554297094), (953, 0.005720514404561061), (954, 0.0), (955, 0.0), (956, 0.0), (957, 0.014279689069911419), (958, 0.006081369697654832), (959, 0.0024797430301549826), (960, 0.0), (961, 0.0), (962, 0.00864057585874329), (963, 0.012879860150720098), (964, 0.0), (965, 0.0), (966, 0.008620653764071402), (967, 0.0247374448930276), (968, 0.01854813727319467), (969, 0.0025806869428887705), (970, 0.009547258935325644), (971, 0.0), (972, 0.0), (973, 0.002495465219986813), (974, 0.004330290504461146), (975, 0.0023639085560360597), (976, 0.02840702701732665), (977, 0.0), (978, 0.0), (979, 0.009865046568479025), (980, 0.007202670041944461), (981, 0.006374645722966998), (982, 0.0), (983, 0.0), (984, 0.002411240856110517), (985, 0.002906407986825794), (986, 0.014693018194759187), (987, 0.002611832510947403), (988, 0.013870757858350536), (989, 0.013873560159199386), (990, 0.0), (991, 0.007685671281364952), (992, 0.0048866627062652615), (993, 0.00249813282743298), (994, 0.009783121289221148), (995, 0.0), (996, 0.006510314139610716), (997, 0.004133006115228177), (998, 0.0028124426210585475), (999, 0.002857891077192849), (1000, 0.01283610375161107), (1001, 0.006749052967362546), (1002, 0.0024370098814539714), (1003, 0.020745408788046423), (1004, 0.002257320457055107), (1005, 0.012474413987933565), (1006, 0.009535504970559059), (1007, 0.0026383868891899508), (1008, 0.0), (1009, 0.012189135693322299), (1010, 0.0), (1011, 0.0), (1012, 0.01112581227668433), (1013, 0.0), (1014, 0.007721846498052805), (1015, 0.02228484838078456), (1016, 0.0), (1017, 0.020282059832911852), (1018, 0.015717411065743165), (1019, 0.01135083169602102), (1020, 0.009009318587204348), (1021, 0.0595904600277476), (1022, 0.0), (1023, 0.045558292531153045), (1024, 0.03868642073589751), (1025, 0.0), (1026, 0.0024529530588841123), (1027, 0.0024181466185765237), (1028, 0.0), (1029, 0.0), (1030, 0.05040403154416306), (1031, 0.0), (1032, 0.0024599874355745546), (1033, 0.020979137699520714), (1034, 0.0023818481875562624), (1035, 0.013824218516271696), (1036, 0.0023814934112405812), (1037, 0.007501771600909165), (1038, 0.0), (1039, 0.0), (1040, 0.002132047497371554), (1041, 0.006747896046941964), (1042, 0.0021270209489894797), (1043, 0.029796886233092037), (1044, 0.006779712845964441), (1045, 0.015831053142528757), (1046, 0.02880279021194898), (1047, 0.012123590684441443), (1048, 0.009455743499728626), (1049, 0.003004133172781249), (1050, 0.008254557010002987), (1051, 0.0), (1052, 0.019505808940627152), (1053, 0.011556249069910249), (1054, 0.010860261007548517), (1055, 0.0), (1056, 0.0), (1057, 0.0), (1058, 0.014237595252413518), (1059, 0.027949759751844123), (1060, 0.002433644778394349), (1061, 0.010423860319322766), (1062, 0.0), (1063, 0.03369067273200792), (1064, 0.017037448385316636), (1065, 0.006598206696978606), (1066, 0.0), (1067, 0.0), (1068, 0.031152672585556415), (1069, 0.007372285808345409), (1070, 0.08660981773608298), (1071, 0.007488560880024291), (1072, 0.002521104020604747), (1073, 0.0), (1074, 0.01826640604410256), (1075, 0.009330964559372693), (1076, 0.006658235327123359), (1077, 0.009091669593774585), (1078, 0.008013944538877615), (1079, 0.0023019629119831477), (1080, 0.0022811953094419176), (1081, 0.0), (1082, 0.004383085118452484), (1083, 0.0074366300878698), (1084, 0.0024409664186345018), (1085, 0.03800471423324923), (1086, 0.0), (1087, 0.009031959047977519), (1088, 0.002147137225586142), (1089, 0.0), (1090, 0.011575295195749789), (1091, 0.0), (1092, 0.009765806291610004), (1093, 0.0), (1094, 0.006350312499283052), (1095, 0.02877492368155551), (1096, 0.008787669743031586), (1097, 0.0), (1098, 0.02189634814895776), (1099, 0.01190138545578851), (1100, 0.002476018925684005), (1101, 0.0), (1102, 0.0025141658909101296), (1103, 0.0), (1104, 0.012409204591976822), (1105, 0.0), (1106, 0.0), (1107, 0.013003850506506022), (1108, 0.0), (1109, 0.00282541698258925), (1110, 0.0024606310076284816), (1111, 0.006570740194062738), (1112, 0.017460169761992436), (1113, 0.0), (1114, 0.014220479461311934), (1115, 0.015494616848234343), (1116, 0.014465534481534904), (1117, 0.002439412449292893), (1118, 0.060750999007247015), (1119, 0.015397935452319572), (1120, 0.003878051766415363), (1121, 0.0031301546108341324), (1122, 0.0025722469706721033), (1123, 0.006840865177315188), (1124, 0.009412452184467287), (1125, 0.00733510303830211), (1126, 0.0), (1127, 0.004607193124246472), (1128, 0.01339227419400311), (1129, 0.017593568984765766), (1130, 0.0), (1131, 0.0025226149643153197), (1132, 0.019930187670721022), (1133, 0.0), (1134, 0.061614079917650465), (1135, 0.0), (1136, 0.00802716711899219), (1137, 0.029061180718773463), (1138, 0.007177467997254964), (1139, 0.0), (1140, 0.0076190636270581195), (1141, 0.022358985621951454), (1142, 0.0), (1143, 0.0), (1144, 0.007310060895639413), (1145, 0.0034353908988498595), (1146, 0.03397483506413255), (1147, 0.0), (1148, 0.05083662083671055), (1149, 0.0), (1150, 0.004910229006471234), (1151, 0.0), (1152, 0.0142867397213588), (1153, 0.0033100818033158096), (1154, 0.0041121779244762255), (1155, 0.0), (1156, 0.0), (1157, 0.011955416047691592), (1158, 0.005172515788841545), (1159, 0.0), (1160, 0.009388644922197948), (1161, 0.002408322918417232), (1162, 0.027430178710369), (1163, 0.0025193592345393702), (1164, 0.003729323551236293), (1165, 0.0), (1166, 0.0), (1167, 0.005029133510014753), (1168, 0.0030000882840921428), (1169, 0.0029360091392593123), (1170, 0.0025086837510820883), (1171, 0.0), (1172, 0.006549835971798838), (1173, 0.02990315488630454), (1174, 0.007196301272938661), (1175, 0.01792545772524289), (1176, 0.0025509171499198697), (1177, 0.006740913834826033), (1178, 0.0), (1179, 0.007055788119299983), (1180, 0.0), (1181, 0.004373002091397843), (1182, 0.00939679849763223), (1183, 0.013239472723822332), (1184, 0.015873572749295746), (1185, 0.012172152885150922), (1186, 0.02523992997922054), (1187, 0.0029443082982177223), (1188, 0.007705716382197728), (1189, 0.0), (1190, 0.0), (1191, 0.007092907280298433), (1192, 0.014354434971342266), (1193, 0.0), (1194, 0.011825144944855343), (1195, 0.033611749524082246), (1196, 0.0), (1197, 0.004230533335088133), (1198, 0.0), (1199, 0.002221447803788017), (1200, 0.0), (1201, 0.0), (1202, 0.018832533884264945), (1203, 0.04272929050508753), (1204, 0.002529076128357386), (1205, 0.0), (1206, 0.008535752872225104), (1207, 0.004380150024962057), (1208, 0.0031451744337981833), (1209, 0.002139770059331728), (1210, 0.0033821031246120408), (1211, 0.004437349516531346), (1212, 0.0), (1213, 0.006175453685887428), (1214, 0.005989573328736987), (1215, 0.01177373079996262), (1216, 0.015915152046869954), (1217, 0.002203172019443445), (1218, 0.0), (1219, 0.002274864856108794), (1220, 0.012202933770225945), (1221, 0.0), (1222, 0.0), (1223, 0.007143325568098083), (1224, 0.015293827546936593), (1225, 0.007509627358092998), (1226, 0.017874952990279528), (1227, 0.0), (1228, 0.0), (1229, 0.007574298886668123), (1230, 0.011291141277001739), (1231, 0.006712630433048946), (1232, 0.014326509746043402), (1233, 0.0), (1234, 0.010097242572565005), (1235, 0.0), (1236, 0.010504276080678665), (1237, 0.012803171937865846), (1238, 0.006544973130504278), (1239, 0.013023720201633948), (1240, 0.0), (1241, 0.03755636238584566), (1242, 0.0), (1243, 0.054833959370674534), (1244, 0.0), (1245, 0.017417265797256196), (1246, 0.0), (1247, 0.002450428935114111), (1248, 0.04344812923617739), (1249, 0.011425713403238733), (1250, 0.006702285067302258), (1251, 0.002220612365457281), (1252, 0.014154938569011184), (1253, 0.0), (1254, 0.016027487066075864), (1255, 0.013008822719397302), (1256, 0.0), (1257, 0.020196887925421146), (1258, 0.0), (1259, 0.01076179773147536), (1260, 0.007667433332605679), (1261, 0.020310975364599033), (1262, 0.011046802885525868), (1263, 0.0), (1264, 0.011798757117029362), (1265, 0.0), (1266, 0.011601354432013251), (1267, 0.006224998281787795), (1268, 0.0), (1269, 0.0), (1270, 0.021236778696745433), (1271, 0.0), (1272, 0.034297446259292014), (1273, 0.0023727264244584457), (1274, 0.017618109039007367), (1275, 0.01618446186656046), (1276, 0.00865144142885222), (1277, 0.0019146903506456513), (1278, 0.014716076665718763), (1279, 0.009271980595376457), (1280, 0.004950379657335508), (1281, 0.004181751585510921), (1282, 0.007474150341464606), (1283, 0.023873627970046236), (1284, 0.002414344853041053), (1285, 0.0), (1286, 0.002482757757310957), (1287, 0.0), (1288, 0.0), (1289, 0.0), (1290, 0.01455179965824096), (1291, 0.0), (1292, 0.042445138393662506), (1293, 0.012560249375540808), (1294, 0.002601994855035768), (1295, 0.0), (1296, 0.0), (1297, 0.0), (1298, 0.0024986523963093066), (1299, 0.0), (1300, 0.009861065206170574), (1301, 0.002170239161700419), (1302, 0.04387173801114017), (1303, 0.011413719935105893), (1304, 0.002505362892731117), (1305, 0.002093588455779086), (1306, 0.0066609281262017305), (1307, 0.006124366895014186), (1308, 0.008289355723706936), (1309, 0.003930973288637932), (1310, 0.01171165492041088), (1311, 0.03429835947989963), (1312, 0.007894093077144008), (1313, 0.0024894031882715497), (1314, 0.02589323109405599), (1315, 0.0), (1316, 0.005839253075932101), (1317, 0.013230241917379376), (1318, 0.00224500272686343), (1319, 0.0024961038600896986), (1320, 0.04025855325455546), (1321, 0.0), (1322, 0.0), (1323, 0.0), (1324, 0.002672969936809829), (1325, 0.01566059158960338), (1326, 0.0), (1327, 0.006147555425640981), (1328, 0.0), (1329, 0.006519379434726832), (1330, 0.007087436326154216), (1331, 0.01411668146101836), (1332, 0.00512473904770058), (1333, 0.0), (1334, 0.009599538734396836), (1335, 0.014164280776495985), (1336, 0.0), (1337, 0.014115785424970427), (1338, 0.009352130816851684), (1339, 0.010116677395132953), (1340, 0.002157921103285943), (1341, 0.07732355675692669), (1342, 0.012493091608812694), (1343, 0.013822893672110976), (1344, 0.005734266262824701), (1345, 0.006510855105546552), (1346, 0.0), (1347, 0.004360016621433174), (1348, 0.010125022656736813), (1349, 0.002812251629083443), (1350, 0.002634462631016693), (1351, 0.02532229811338546), (1352, 0.0021804677618435997), (1353, 0.0), (1354, 0.0), (1355, 0.0025779591612938874), (1356, 0.006004625340572008), (1357, 0.002371615957538826), (1358, 0.04344342877629753), (1359, 0.009633269562715699), (1360, 0.013486408582743708), (1361, 0.015474561866660531), (1362, 0.022476008523845924), (1363, 0.028465890381739762), (1364, 0.002641257712246869), (1365, 0.017739976531861233), (1366, 0.002293797973194817), (1367, 0.03356308493371525), (1368, 0.0), (1369, 0.04243059385278874), (1370, 0.00216324574458761), (1371, 0.007825426825330292), (1372, 0.0023640022692383448), (1373, 0.0), (1374, 0.006525324836092309), (1375, 0.006751587067861558), (1376, 0.012375800286853972), (1377, 0.0168252871843197), (1378, 0.002531867417720303), (1379, 0.033946445970172594), (1380, 0.004796703796840423), (1381, 0.005230472753935056), (1382, 0.009357362670641673), (1383, 0.08554061722534646), (1384, 0.0179849827985428), (1385, 0.020088442041880022), (1386, 0.018723879600787367), (1387, 0.008467092417641608), (1388, 0.007207483149752694), (1389, 0.03389066980227771), (1390, 0.0), (1391, 0.005007227042271861), (1392, 0.0022129107781378734), (1393, 0.04062621679590188), (1394, 0.0022263526121378426), (1395, 0.003744229824622431), (1396, 0.01151108707305807), (1397, 0.02325150933529976), (1398, 0.030605398821314023), (1399, 0.0), (1400, 0.0073750770141718484), (1401, 0.01373610423675151), (1402, 0.0026648602313511342), (1403, 0.017025606190636988), (1404, 0.0023982949096258027), (1405, 0.028481933282421327), (1406, 0.011360948014805496), (1407, 0.011698963812180566), (1408, 0.002442656412351115), (1409, 0.0027299892883079985), (1410, 0.002579286827486758), (1411, 0.002591688960620459), (1412, 0.023333661770383228), (1413, 0.01412696210921715), (1414, 0.006275658307050649), (1415, 0.0021097980844741082), (1416, 0.0024443617773774987), (1417, 0.01627625476142988), (1418, 0.010078083303699857), (1419, 0.011656651131012096), (1420, 0.011093570255181769), (1421, 0.006952424587473534), (1422, 0.0024738233950780753), (1423, 0.0022316267477726992), (1424, 0.0), (1425, 0.006583262254711643), (1426, 0.004807498252216066), (1427, 0.002078423184537775), (1428, 0.004347070578766679), (1429, 0.00874065251433323), (1430, 0.004238161124983371), (1431, 0.0046168227133879846), (1432, 0.012005865407186542), (1433, 0.006616008644320786), (1434, 0.0023049054458741196), (1435, 0.004645076312079125), (1436, 0.012125348458058568), (1437, 0.0), (1438, 0.009431563094404145), (1439, 0.0026033644369673407), (1440, 0.00975525414462502), (1441, 0.0), (1442, 0.009722649481310172), (1443, 0.018341873241261304), (1444, 0.0), (1445, 0.015753084830251257), (1446, 0.008701766360846177), (1447, 0.0), (1448, 0.006508057152969192), (1449, 0.004878637437442417), (1450, 0.002167835191128398), (1451, 0.004373185941562933), (1452, 0.004881594900523026), (1453, 0.005299769198239757), (1454, 0.00772156431836764), (1455, 0.011662165767979377), (1456, 0.002325767234879282), (1457, 0.0), (1458, 0.0038576607186455057), (1459, 0.0), (1460, 0.0), (1461, 0.013543026744763775), (1462, 0.006564236420765798), (1463, 0.0024817701998025876), (1464, 0.032785385162337526), (1465, 0.0134755739955716), (1466, 0.0), (1467, 0.0), (1468, 0.0), (1469, 0.004651377146421991), (1470, 0.0), (1471, 0.020322725977268787), (1472, 0.007125260626564543), (1473, 0.0), (1474, 0.0027880913834871656), (1475, 0.009373099569940898), (1476, 0.0025403903971394), (1477, 0.00830286937032028), (1478, 0.013521229658848), (1479, 0.0027670525566796805), (1480, 0.004259298572774727), (1481, 0.013517676138940022), (1482, 0.029162971951102228), (1483, 0.014229620919276499), (1484, 0.007475778254604), (1485, 0.0), (1486, 0.007150658192356189), (1487, 0.0), (1488, 0.007103914390739519), (1489, 0.007964120798417545), (1490, 0.0), (1491, 0.0), (1492, 0.021751592037262703), (1493, 0.017050894548781333), (1494, 0.009455192161064), (1495, 0.0), (1496, 0.0), (1497, 0.0029208964322080502), (1498, 0.008004452339698808), (1499, 0.0028170714303475636), (1500, 0.026664979305265762), (1501, 0.006503129089588645), (1502, 0.004792392074409619), (1503, 0.0023220494040062665), (1504, 0.006996490829139832), (1505, 0.021958155688132187), (1506, 0.04220082860479026), (1507, 0.008080495338497879), (1508, 0.0), (1509, 0.014157773219802992), (1510, 0.02026404497087454), (1511, 0.0), (1512, 0.01537865456976371), (1513, 0.010187008842112336), (1514, 0.008540463836080817), (1515, 0.022082935255983212), (1516, 0.0026021093995289347), (1517, 0.0), (1518, 0.0027298575480118794), (1519, 0.012940604929639048), (1520, 0.0), (1521, 0.0), (1522, 0.0), (1523, 0.015769996222310977), (1524, 0.0), (1525, 0.0), (1526, 0.006453877555016964), (1527, 0.03928778188294795), (1528, 0.0023115927919456127), (1529, 0.0), (1530, 0.0037794574219590636), (1531, 0.0048286817374017235), (1532, 0.0), (1533, 0.0025400422480330825), (1534, 0.0), (1535, 0.0), (1536, 0.0072327644758469695), (1537, 0.007579529850427982), (1538, 0.008295086160074523), (1539, 0.008138212102366257), (1540, 0.008140815803304642), (1541, 0.0), (1542, 0.011919493395640395), (1543, 0.0023142329607007735), (1544, 0.024475707417011102), (1545, 0.0), (1546, 0.004021120331160662), (1547, 0.002975161991546654), (1548, 0.0), (1549, 0.0), (1550, 0.0024473029843886628), (1551, 0.010921424961193521), (1552, 0.0062541871377818446), (1553, 0.007889269343222503), (1554, 0.004944172947197937), (1555, 0.006579248735376407), (1556, 0.0), (1557, 0.0), (1558, 0.0023705043066105263), (1559, 0.003933988131699184), (1560, 0.0), (1561, 0.0), (1562, 0.0043178327777930086), (1563, 0.0), (1564, 0.0), (1565, 0.002294802157027544), (1566, 0.004542823358246493), (1567, 0.012562248319836445), (1568, 0.03392746338831515), (1569, 0.0), (1570, 0.002608867160018073), (1571, 0.007576502870921412), (1572, 0.02498157216236746), (1573, 0.004601440023508053), (1574, 0.0025251897332476854), (1575, 0.004998151658483676), (1576, 0.0037622840664627657), (1577, 0.0), (1578, 0.0), (1579, 0.01725285046374932), (1580, 0.0028260676465143054), (1581, 0.0), (1582, 0.009140303304293117), (1583, 0.00716121998607622), (1584, 0.0), (1585, 0.022582292542740655), (1586, 0.0), (1587, 0.004641047544734272), (1588, 0.004738336514992501), (1589, 0.0), (1590, 0.004001805149241278), (1591, 0.013123983377150629), (1592, 0.0), (1593, 0.0031406349031722776), (1594, 0.0028352762595771188), (1595, 0.013067681763133379), (1596, 0.0), (1597, 0.0024345952421114423), (1598, 0.002517775914034971), (1599, 0.0), (1600, 0.0), (1601, 0.0), (1602, 0.0), (1603, 0.0), (1604, 0.0), (1605, 0.0022881961818511155), (1606, 0.0), (1607, 0.0), (1608, 0.006277720294573536), (1609, 0.01649134744127161), (1610, 0.0), (1611, 0.0), (1612, 0.00899219889758364), (1613, 0.0), (1614, 0.005005091418291376), (1615, 0.0), (1616, 0.0022027675918640335), (1617, 0.00247800740354592), (1618, 0.0), (1619, 0.009677150462510766), (1620, 0.008907225029691337), (1621, 0.013870535408646375), (1622, 0.004611188564417828), (1623, 0.004313035562011199), (1624, 0.0020533638298777476), (1625, 0.0023421602816891054), (1626, 0.0), (1627, 0.0061468619995905215), (1628, 0.0024117949817087387), (1629, 0.021365900853244864), (1630, 0.010959336769888618), (1631, 0.0043454558183471), (1632, 0.004442927924116684), (1633, 0.004342855494874423), (1634, 0.0025025298087768865), (1635, 0.004527293818327947), (1636, 0.0), (1637, 0.0026803374753749964), (1638, 0.0), (1639, 0.0), (1640, 0.0), (1641, 0.0023534723722829424), (1642, 0.0023267643586780927), (1643, 0.007540068402754568), (1644, 0.006471793858347352), (1645, 0.0024468629803167225), (1646, 0.0), (1647, 0.04369744706556896), (1648, 0.03024915100250057), (1649, 0.0), (1650, 0.008279727113144468), (1651, 0.0), (1652, 0.021148284524838405), (1653, 0.007089097636211782), (1654, 0.012507203858117684), (1655, 0.011111463687366553), (1656, 0.0028846987422951383), (1657, 0.022031175083295804), (1658, 0.010171969643633393), (1659, 0.004809873917253385), (1660, 0.0026459176464591404), (1661, 0.005005165233815326), (1662, 0.010405985506220643), (1663, 0.0024337347560697163), (1664, 0.006173100586221584), (1665, 0.013254515832611623), (1666, 0.0024769129925762755), (1667, 0.013162370463246), (1668, 0.0), (1669, 0.0), (1670, 0.00267085205917962), (1671, 0.020935292241616447), (1672, 0.0023246281011747513), (1673, 0.0), (1674, 0.007756377893062152), (1675, 0.04214685008467621), (1676, 0.03653817386160596), (1677, 0.0019855271788675063), (1678, 0.020418520584822738), (1679, 0.0), (1680, 0.013139514064804729), (1681, 0.012675892780688118), (1682, 0.014619054026718068), (1683, 0.0026884518086925024), (1684, 0.005810002433828693), (1685, 0.009626187705844766), (1686, 0.0), (1687, 0.01485528200547204), (1688, 0.00937084049385329), (1689, 0.0), (1690, 0.008240819493388823), (1691, 0.002148977275854789), (1692, 0.006479464022196569), (1693, 0.0023566730482475085), (1694, 0.010327744267258649), (1695, 0.005277957593778175), (1696, 0.010813414330735757), (1697, 0.0), (1698, 0.0), (1699, 0.0040143885119154924), (1700, 0.0), (1701, 0.008659853312288301), (1702, 0.034316232452105674), (1703, 0.002599334655076501), (1704, 0.0), (1705, 0.0075808787562135676), (1706, 0.0025300110501122945), (1707, 0.021588852255986744), (1708, 0.00980399502725132), (1709, 0.0), (1710, 0.008544533719172109), (1711, 0.003188858868929339), (1712, 0.010065288544223519), (1713, 0.01313623751582927), (1714, 0.012040894138977902), (1715, 0.005969919070326054), (1716, 0.01588562472802247), (1717, 0.0025749649694117283), (1718, 0.006916664970233591), (1719, 0.0022673904598115822), (1720, 0.02696741260569086), (1721, 0.026296458017575755), (1722, 0.002542316568830596), (1723, 0.010415891398557399), (1724, 0.004972532807740694), (1725, 0.0), (1726, 0.0), (1727, 0.01010411766366555), (1728, 0.0), (1729, 0.0), (1730, 0.00827194035351313), (1731, 0.0), (1732, 0.00488908171069433), (1733, 0.0027435678306264805), (1734, 0.0), (1735, 0.007518145622478906), (1736, 0.010070759771904731), (1737, 0.006948707328409473), (1738, 0.006583228495031133), (1739, 0.01284661747885918), (1740, 0.014366644362442098), (1741, 0.015084969917501865), (1742, 0.002429399547805487), (1743, 0.007711861060976667), (1744, 0.0023896561477313736), (1745, 0.0), (1746, 0.006100359697629557), (1747, 0.007074668351598675), (1748, 0.002960791493766943), (1749, 0.026963767253759936), (1750, 0.030817606245591732), (1751, 0.0), (1752, 0.012555988794885458), (1753, 0.0040221318047713745), (1754, 0.010530557371314407), (1755, 0.0), (1756, 0.0), (1757, 0.023152103999931704), (1758, 0.0), (1759, 0.017013292852992593), (1760, 0.006603783839015581), (1761, 0.011278639618286184), (1762, 0.008025942366303385), (1763, 0.026038184058086604), (1764, 0.008137784091921651), (1765, 0.0025970331994467854), (1766, 0.0), (1767, 0.0), (1768, 0.002548028118334539), (1769, 0.0), (1770, 0.00709996484402043), (1771, 0.0), (1772, 0.004117353834950625), (1773, 0.011016993471988517), (1774, 0.015882000993499498), (1775, 0.0), (1776, 0.008367633044248687), (1777, 0.0), (1778, 0.0), (1779, 0.014403260328377637), (1780, 0.0016527390912812296), (1781, 0.009768847866704726), (1782, 0.002299596079086501), (1783, 0.0), (1784, 0.004157654392746056), (1785, 0.0), (1786, 0.0), (1787, 0.012197985506031656), (1788, 0.029037718986073963), (1789, 0.010838625687998468), (1790, 0.007676726184308924), (1791, 0.004863130992067573), (1792, 0.0029157384980828026), (1793, 0.008577840640997755), (1794, 0.0), (1795, 0.029482084470687262), (1796, 0.013012194413335221), (1797, 0.006213887021735481), (1798, 0.009943750565013187), (1799, 0.012264519011014855), (1800, 0.0), (1801, 0.0021162987563967724), (1802, 0.013113448601323125), (1803, 0.0), (1804, 0.0), (1805, 0.0027464233098322484), (1806, 0.00748901455013755), (1807, 0.008872148879822942), (1808, 0.0022613027919317153), (1809, 0.05333335385632386), (1810, 0.0), (1811, 0.006916418526082119), (1812, 0.01226454872584337), (1813, 0.0024130063641892726), (1814, 0.0023488004094654857), (1815, 0.013591736323563742), (1816, 0.006385994183589978), (1817, 0.021216253841060996), (1818, 0.006149789447971376), (1819, 0.006793925856536951), (1820, 0.0), (1821, 0.04344559003288091), (1822, 0.0026710088042061946), (1823, 0.0), (1824, 0.0), (1825, 0.0), (1826, 0.0023216632754454146), (1827, 0.0023285368742797527), (1828, 0.0021638013326914338), (1829, 0.0050907540953755125), (1830, 0.002282270814769264), (1831, 0.00256782666311999), (1832, 0.01214407798237827), (1833, 0.007887518642046988), (1834, 0.0), (1835, 0.0), (1836, 0.0), (1837, 0.03259566698946049), (1838, 0.02006249434043536), (1839, 0.0), (1840, 0.004178355486899034), (1841, 0.0067153386052879955), (1842, 0.0), (1843, 0.017892434724940724), (1844, 0.0), (1845, 0.027421028386942232), (1846, 0.004463289052862022), (1847, 0.026248398947853673), (1848, 0.0027178036729253565), (1849, 0.006438906836822626), (1850, 0.04168897816625358), (1851, 0.0026156260577854615), (1852, 0.011046009704517183), (1853, 0.014761587238959763), (1854, 0.009146870943566875), (1855, 0.0), (1856, 0.0), (1857, 0.004574241105331765), (1858, 0.010615841197969399), (1859, 0.004844156145186074), (1860, 0.009261057065431235), (1861, 0.021631840254266472), (1862, 0.002790025275801652), (1863, 0.005726534927540922), (1864, 0.0130836179211028), (1865, 0.023289131322763636), (1866, 0.0076244314070900545), (1867, 0.006409862493863143), (1868, 0.03074307594972561), (1869, 0.0022658776922506283), (1870, 0.011697378432374504), (1871, 0.04139831687862651), (1872, 0.018392076738391154), (1873, 0.011103361902500337), (1874, 0.010386324313026659), (1875, 0.00823689621211486), (1876, 0.013670539397109419), (1877, 0.0023975972714730992), (1878, 0.04840253357326083), (1879, 0.0), (1880, 0.014960489214803169), (1881, 0.004731718449186991), (1882, 0.002435026399407337), (1883, 0.0), (1884, 0.0023823473708744105), (1885, 0.03249340367313685), (1886, 0.0657745423322476), (1887, 0.0028961075340789948), (1888, 0.0), (1889, 0.0), (1890, 0.0027764288914252653), (1891, 0.0024796803269421294), (1892, 0.006700888947272244), (1893, 0.0026681153209838224), (1894, 0.0), (1895, 0.014500525138129931), (1896, 0.0027295564615730733), (1897, 0.014866148107479972), (1898, 0.0), (1899, 0.0), (1900, 0.008979053643285715), (1901, 0.004678494944775757), (1902, 0.0073299599703141195), (1903, 0.006102457762378944), (1904, 0.004925457291341602), (1905, 0.002776562688800536), (1906, 0.015045756984310753), (1907, 0.002728970153347562), (1908, 0.006529976670020352), (1909, 0.0028486778982558273), (1910, 0.003945893927103897), (1911, 0.006788701584208974), (1912, 0.0), (1913, 0.006456586531955014), (1914, 0.004303739210032304), (1915, 0.0), (1916, 0.002641274928728314), (1917, 0.0), (1918, 0.0074775560154907795), (1919, 0.014557782246489912), (1920, 0.008269148820880038), (1921, 0.0022830893519250584), (1922, 0.009599596116420696), (1923, 0.01056779651468754), (1924, 0.007955448691216048), (1925, 0.004004113555504478), (1926, 0.0), (1927, 0.01978438899690451), (1928, 0.0), (1929, 0.002412625988155523), (1930, 0.004761463671706999), (1931, 0.007250498326273822), (1932, 0.0), (1933, 0.004558636910726936), (1934, 0.012164056506953184), (1935, 0.023152602534014646), (1936, 0.00918047578666913), (1937, 0.018435561221395037), (1938, 0.0), (1939, 0.005957462126024431), (1940, 0.005326488421200145), (1941, 0.005408507330366094), (1942, 0.02119845450542527), (1943, 0.0021705344478206664), (1944, 0.0), (1945, 0.013684013844901217), (1946, 0.002645508423483065), (1947, 0.00294865398365975), (1948, 0.009030871314924785), (1949, 0.012355858685734163), (1950, 0.007469521221716752), (1951, 0.009833856370533703), (1952, 0.004932855417852836), (1953, 0.004491463373667027), (1954, 0.0022219466451041292), (1955, 0.0), (1956, 0.0), (1957, 0.011022484896189438), (1958, 0.01185196554124135), (1959, 0.00276670650540573), (1960, 0.007775251777904203), (1961, 0.0), (1962, 0.005227597362841401), (1963, 0.0), (1964, 0.006373394532480614), (1965, 0.0), (1966, 0.0), (1967, 0.013626040059783628), (1968, 0.008163907176147806), (1969, 0.0024448646209058547), (1970, 0.02712826979252175), (1971, 0.008107096662809489), (1972, 0.0), (1973, 0.0065369679925061566), (1974, 0.0), (1975, 0.004796560983314535), (1976, 0.031033056156957818), (1977, 0.07532026375225236), (1978, 0.0), (1979, 0.0), (1980, 0.0022749239448759105), (1981, 0.0059263529550524306), (1982, 0.07325932482302391), (1983, 0.01454179451504569), (1984, 0.0), (1985, 0.020815104331487234), (1986, 0.01332382862080635), (1987, 0.006505539777656451), (1988, 0.012468396517045836), (1989, 0.011407228369121135), (1990, 0.028969101287166864), (1991, 0.0353274586031122), (1992, 0.010854033063555174), (1993, 0.004597715062780077), (1994, 0.08196067514619292), (1995, 0.002732626542244189), (1996, 0.021616482530556723), (1997, 0.023152665435428404), (1998, 0.004675434123509028), (1999, 0.026336835017719783), (2000, 0.012645465823925938), (2001, 0.0), (2002, 0.0), (2003, 0.0), (2004, 0.002376281546050274), (2005, 0.011901375289653427), (2006, 0.0), (2007, 0.0), (2008, 0.013313195313509166), (2009, 0.0), (2010, 0.002008332271983163), (2011, 0.024792501874342565), (2012, 0.04262792165388206), (2013, 0.027922759035429977), (2014, 0.02947510717254833), (2015, 0.004803137309594903), (2016, 0.009980346355885083), (2017, 0.0), (2018, 0.019772245057680115), (2019, 0.0), (2020, 0.0263915806478751), (2021, 0.0), (2022, 0.005178616847713446), (2023, 0.030562204414588644), (2024, 0.01373382019874142), (2025, 0.0), (2026, 0.05183972410373727), (2027, 0.014804850198260505), (2028, 0.0), (2029, 0.009312405947881056), (2030, 0.0), (2031, 0.006455524176033128), (2032, 0.0), (2033, 0.0), (2034, 0.002142615536915055), (2035, 0.01778751503048144), (2036, 0.0), (2037, 0.029173560741939997), (2038, 0.0), (2039, 0.0021139884554946557), (2040, 0.0223769753876576), (2041, 0.0), (2042, 0.0), (2043, 0.0), (2044, 0.0048606873734106356), (2045, 0.01365285172409918), (2046, 0.0), (2047, 0.002220349334411379), (2048, 0.00258659888934896), (2049, 0.01028554935576744), (2050, 0.0), (2051, 0.01029576074887787), (2052, 0.012415899312407736), (2053, 0.015101796166465344), (2054, 0.0), (2055, 0.02059835979675117), (2056, 0.0063215080885844505), (2057, 0.01124964690793694), (2058, 0.005909958635405521), (2059, 0.0), (2060, 0.0024998710145194545), (2061, 0.0071071251390123005), (2062, 0.01080932473904336), (2063, 0.0), (2064, 0.004860370905298173), (2065, 0.00852749208078989), (2066, 0.012825950279642874), (2067, 0.00254437359504656), (2068, 0.0024724781995245342), (2069, 0.006986003267788832), (2070, 0.017645823896477113), (2071, 0.0), (2072, 0.0026090528415039158), (2073, 0.002561141884744439), (2074, 0.0098215600326971), (2075, 0.009196689508554736), (2076, 0.00812255090947868), (2077, 0.008688838217507168), (2078, 0.003684540354949213), (2079, 0.0), (2080, 0.009510891060747616), (2081, 0.0), (2082, 0.033274663439315094), (2083, 0.0025850872358040913), (2084, 0.0049560507414850765), (2085, 0.0), (2086, 0.0), (2087, 0.00881220672583604), (2088, 0.0075234976913822835), (2089, 0.00840077847632415), (2090, 0.0), (2091, 0.007189380097651901), (2092, 0.0), (2093, 0.017575316129726955), (2094, 0.025078329399692727), (2095, 0.0063578554866869095), (2096, 0.022562927025388146), (2097, 0.010515122188053252), (2098, 0.005606080973410511), (2099, 0.0023453535571186417), (2100, 0.03148436064564796), (2101, 0.007142413188954324), (2102, 0.02869745620349015), (2103, 0.008865699828798654), (2104, 0.007549481187336593), (2105, 0.0026593305619615824), (2106, 0.0), (2107, 0.0), (2108, 0.0028804780794087345), (2109, 0.008973040544142077), (2110, 0.016833366904166012), (2111, 0.0024663524496404666), (2112, 0.06363460487718324), (2113, 0.005592530907598027), (2114, 0.02968967915904134), (2115, 0.0), (2116, 0.010210047884889955), (2117, 0.002460293962848158), (2118, 0.0), (2119, 0.016838667895242472), (2120, 0.0), (2121, 0.013061887248481565), (2122, 0.03264835504354678), (2123, 0.03364621233996702), (2124, 0.0), (2125, 0.0), (2126, 0.009915178578059528), (2127, 0.002111379989835409), (2128, 0.0), (2129, 0.0023387139227115804), (2130, 0.00466059237196833), (2131, 0.0024196517146456977), (2132, 0.0021242643286420873), (2133, 0.04980509177129307), (2134, 0.002870272564246342), (2135, 0.0), (2136, 0.004927693862381808), (2137, 0.0035272035933866007), (2138, 0.0), (2139, 0.004314002181565598), (2140, 0.0), (2141, 0.002413980669190284), (2142, 0.0029489159736201293), (2143, 0.008600512805028366), (2144, 0.009422292683784673), (2145, 0.01188556816305913), (2146, 0.0021963836550183266), (2147, 0.031770145375205734), (2148, 0.0026310549398486866), (2149, 0.01668614461457467), (2150, 0.0), (2151, 0.045191455677896654), (2152, 0.0), (2153, 0.0), (2154, 0.02620294161132322), (2155, 0.04033483218022418), (2156, 0.005813250635942479), (2157, 0.024054905356084882), (2158, 0.00806189237383563), (2159, 0.0027219178202219484), (2160, 0.006339554227735659), (2161, 0.01640600106866428), (2162, 0.010574146247762567), (2163, 0.0023301916206185645), (2164, 0.0), (2165, 0.0), (2166, 0.0023598275825905267), (2167, 0.017871249946301973), (2168, 0.0), (2169, 0.002567615180462046), (2170, 0.0), (2171, 0.0), (2172, 0.0), (2173, 0.0024876838039920787), (2174, 0.0203930754594567), (2175, 0.006095774435741459), (2176, 0.0027410929669732698), (2177, 0.013017403924795341), (2178, 0.01128030625943574), (2179, 0.0), (2180, 0.0), (2181, 0.005103076499460923), (2182, 0.0), (2183, 0.0), (2184, 0.006756747337034099), (2185, 0.0058744586256578735), (2186, 0.0), (2187, 0.037782592052199665), (2188, 0.008426670465418427), (2189, 0.0035661995514854566), (2190, 0.002763749486866814), (2191, 0.0510940284838912), (2192, 0.002546445685387299), (2193, 0.008951517139617483), (2194, 0.0), (2195, 0.0025231526209759303), (2196, 0.015164579833759184), (2197, 0.009449390301131285), (2198, 0.030149490544090496), (2199, 0.003261883369987997), (2200, 0.0), (2201, 0.0023617938512641053), (2202, 0.006200425857593387), (2203, 0.005967866097218848), (2204, 0.0), (2205, 0.006112503031563114), (2206, 0.011273695540555233), (2207, 0.01727960048428298), (2208, 0.004861135563169556), (2209, 0.010113806077092669), (2210, 0.02126992137477938), (2211, 0.007657220847604649), (2212, 0.03659302829318431), (2213, 0.002315584427174679), (2214, 0.048696374494422254), (2215, 0.0), (2216, 0.013920100093459602), (2217, 0.0), (2218, 0.0), (2219, 0.0), (2220, 0.0), (2221, 0.0281871015325526), (2222, 0.0), (2223, 0.00285466421227281), (2224, 0.013309844977407576), (2225, 0.0), (2226, 0.00248086342932244), (2227, 0.0), (2228, 0.008946627578884923), (2229, 0.015866492117778637), (2230, 0.0026800305278332714), (2231, 0.005136012447935588), (2232, 0.004440046639452462), (2233, 0.0), (2234, 0.0), (2235, 0.012413202571730696), (2236, 0.00819093399666268), (2237, 0.018499908280149975), (2238, 0.0), (2239, 0.006346332982123502), (2240, 0.002233192478333672), (2241, 0.0), (2242, 0.002384651997575229), (2243, 0.0), (2244, 0.007073878876722814), (2245, 0.004395731588942403), (2246, 0.00467357953325077), (2247, 0.0), (2248, 0.04315862525972579), (2249, 0.0), (2250, 0.009522241217556732), (2251, 0.0035163154090993897), (2252, 0.012664470437904356), (2253, 0.0), (2254, 0.015211603334294685), (2255, 0.009289385895440663), (2256, 0.0), (2257, 0.003286360338857844), (2258, 0.016631895459225464), (2259, 0.0), (2260, 0.0027759169629893434), (2261, 0.0), (2262, 0.0), (2263, 0.0), (2264, 0.00855405233478389), (2265, 0.008407805704731618), (2266, 0.00309876885024158), (2267, 0.0), (2268, 0.002473668312446756), (2269, 0.002968625295808427), (2270, 0.002191726386504059), (2271, 0.0), (2272, 0.0), (2273, 0.005352827163247768), (2274, 0.0), (2275, 0.015859948982596014), (2276, 0.02570971252977733), (2277, 0.009139663950047146), (2278, 0.004596797090519967), (2279, 0.009239511893937949), (2280, 0.011381880119895205), (2281, 0.0), (2282, 0.0), (2283, 0.004948392187806293), (2284, 0.014210863759618157), (2285, 0.008179897296547514), (2286, 0.0032472597363988834), (2287, 0.002088794545663023), (2288, 0.0027737812623095178), (2289, 0.0026166243556354344), (2290, 0.015453159984540398), (2291, 0.005536610800135706), (2292, 0.0026692733654005325), (2293, 0.002774122817163505), (2294, 0.049052170433438874), (2295, 0.01417624302067398), (2296, 0.0), (2297, 0.0), (2298, 0.01488319028239434), (2299, 0.00394823043459701), (2300, 0.0), (2301, 0.020299928947436357), (2302, 0.002877225908685085), (2303, 0.009236008282129653), (2304, 0.007927329577146256), (2305, 0.0), (2306, 0.011399700016467784), (2307, 0.0), (2308, 0.03625217589135726), (2309, 0.00870383855116949), (2310, 0.003381373411637865), (2311, 0.0), (2312, 0.0), (2313, 0.002498606956773413), (2314, 0.005068435648052213), (2315, 0.0), (2316, 0.03641227516038545), (2317, 0.002492364189232456), (2318, 0.05966939011000495), (2319, 0.0026219724099189813), (2320, 0.003001305838741987), (2321, 0.040928429414776334), (2322, 0.0), (2323, 0.002232793893042012), (2324, 0.006606941380538069), (2325, 0.0), (2326, 0.0038617100249410466), (2327, 0.0), (2328, 0.0058414200481482865), (2329, 0.0), (2330, 0.004825116148766468), (2331, 0.0), (2332, 0.0), (2333, 0.0), (2334, 0.01469206911367112), (2335, 0.006647246352662359), (2336, 0.01146228156410784), (2337, 0.0), (2338, 0.002264206070768478), (2339, 0.007282413378464895), (2340, 0.00252655246789727), (2341, 0.0), (2342, 0.0), (2343, 0.0), (2344, 0.007306945109380038), (2345, 0.0), (2346, 0.010800206754029387), (2347, 0.01649083872865928), (2348, 0.00770487213332364), (2349, 0.0034946715174917465), (2350, 0.00331096985482866), (2351, 0.0), (2352, 0.0), (2353, 0.01579022888202157), (2354, 0.0025017541037572802), (2355, 0.006142653030334343), (2356, 0.002827088538805671), (2357, 0.0), (2358, 0.05820450509052857), (2359, 0.0021159921897142054), (2360, 0.0), (2361, 0.0027087730158666234), (2362, 0.020480467099463048), (2363, 0.008912816453507442), (2364, 0.0), (2365, 0.03500150947569708), (2366, 0.013658384289909528), (2367, 0.0023839559985185227), (2368, 0.01852531655216113), (2369, 0.0), (2370, 0.002576505176250855), (2371, 0.036399126598193415), (2372, 0.0), (2373, 0.0), (2374, 0.046866297331687456), (2375, 0.03541068077817682), (2376, 0.015240343841777866), (2377, 0.0), (2378, 0.0029684983590822747), (2379, 0.003577978195009918), (2380, 0.0), (2381, 0.0), (2382, 0.002142299245167867), (2383, 0.012757227429645975), (2384, 0.0), (2385, 0.0025864191772917104), (2386, 0.002589985942177571), (2387, 0.0025601208754689607), (2388, 0.006295517346129298), (2389, 0.0), (2390, 0.0027575567270822494), (2391, 0.002779854456754394), (2392, 0.0034221179150966795), (2393, 0.002635897400529965), (2394, 0.002666345919661692), (2395, 0.0), (2396, 0.002566028341210082), (2397, 0.002543981778941033), (2398, 0.0), (2399, 0.002336535097551966), (2400, 0.0028353141075246955), (2401, 0.002556416232362284), (2402, 0.0024702312298366708), (2403, 0.010418737919020194), (2404, 0.003489189020995873), (2405, 0.00263587040088237), (2406, 0.016196683204061244), (2407, 0.0033585056769422383), (2408, 0.0), (2409, 0.0), (2410, 0.0027921272662482103), (2411, 0.0028932930515800015), (2412, 0.012206785560829353), (2413, 0.031734662158874966), (2414, 0.0), (2415, 0.003294575710911571), (2416, 0.0025083684609272677), (2417, 0.04915660702821214), (2418, 0.009522267568609993), (2419, 0.002609403786122814), (2420, 0.0), (2421, 0.01133609577998146), (2422, 0.0024749793547168097), (2423, 0.003222663179092088), (2424, 0.006507837906284628), (2425, 0.0032310046342377656), (2426, 0.005901684943366939), (2427, 0.008338700360461963), (2428, 0.007928752041113122), (2429, 0.01067010056569857), (2430, 0.002515118978764151), (2431, 0.0), (2432, 0.004384509049390512), (2433, 0.0), (2434, 0.0029471469755191037), (2435, 0.0), (2436, 0.010140646284485542), (2437, 0.0029466308594501556), (2438, 0.003117472014298501), (2439, 0.005740596911724691), (2440, 0.02082093154912678), (2441, 0.0020850932071196995), (2442, 0.00432361944398367), (2443, 0.029583258960623915), (2444, 0.007148762125860115), (2445, 0.0), (2446, 0.00239283322119952), (2447, 0.012114130347986788), (2448, 0.0032716614638054822), (2449, 0.024060694692719865), (2450, 0.0), (2451, 0.0), (2452, 0.0), (2453, 0.002345775776233397), (2454, 0.003109594035766552), (2455, 0.0), (2456, 0.0), (2457, 0.0022831835814395352), (2458, 0.0), (2459, 0.008538448851336236), (2460, 0.013299513197860097), (2461, 0.002427016741938467), (2462, 0.0), (2463, 0.009010497806179255), (2464, 0.011102279688025147), (2465, 0.0), (2466, 0.0025655957431689647), (2467, 0.026600105723732784), (2468, 0.013829066209985549), (2469, 0.01915963265348704), (2470, 0.0), (2471, 0.0), (2472, 0.0), (2473, 0.00860482150655284), (2474, 0.012065513397042996), (2475, 0.002835688536763332), (2476, 0.005228114122996045), (2477, 0.007591430813767137), (2478, 0.0029246469465767514), (2479, 0.0), (2480, 0.0109349030075137), (2481, 0.028532993446814238), (2482, 0.002354213619962015), (2483, 0.0), (2484, 0.02366397060158626), (2485, 0.0), (2486, 0.013389266731302267), (2487, 0.027991689496668394), (2488, 0.0030597915388602247), (2489, 0.009725378433137644), (2490, 0.003626573596741055), (2491, 0.0), (2492, 0.0025737838016382246), (2493, 0.0), (2494, 0.009401556688980885), (2495, 0.0025075047779846166), (2496, 0.006755272898953286), (2497, 0.0), (2498, 0.0), (2499, 0.0), (2500, 0.0), (2501, 0.020028462149508576), (2502, 0.002198941713411996), (2503, 0.0064854466531115715), (2504, 0.0), (2505, 0.010363630308515878), (2506, 0.004802104055978488), (2507, 0.0026966340839699554), (2508, 0.0), (2509, 0.0021627825047554534), (2510, 0.0074946603245382715), (2511, 0.0), (2512, 0.00940846219271459), (2513, 0.01829706506018771), (2514, 0.0), (2515, 0.0), (2516, 0.0), (2517, 0.031974981803784316), (2518, 0.0), (2519, 0.0073156779870867114), (2520, 0.0022065194378764323), (2521, 0.0), (2522, 0.014961422811072666), (2523, 0.0), (2524, 0.019862501806843905), (2525, 0.002344279375139215), (2526, 0.0020832766998676996), (2527, 0.0022187721674217843), (2528, 0.002364599630331484), (2529, 0.00370096226529426), (2530, 0.04513628126892337), (2531, 0.0026943795014853634), (2532, 0.0), (2533, 0.0025784310284402727), (2534, 0.0011306194771999478), (2535, 0.0029408871511731787), (2536, 0.0), (2537, 0.0034032859264108797), (2538, 0.06818383578421024), (2539, 0.0), (2540, 0.03724731843680105), (2541, 0.00389890476304651), (2542, 0.0), (2543, 0.0), (2544, 0.0030697315068883993), (2545, 0.009489630680371366), (2546, 0.010238857020418131), (2547, 0.0), (2548, 0.0), (2549, 0.0), (2550, 0.04811370697709869), (2551, 0.0), (2552, 0.0023623303665278633), (2553, 0.017367152775932287), (2554, 0.002594626552585222), (2555, 0.01081315249583957), (2556, 0.0023597795677002265), (2557, 0.003087164324959937), (2558, 0.08148150683006429), (2559, 0.003330735613489884), (2560, 0.023811180535949147), (2561, 0.002761245315047423), (2562, 0.0), (2563, 0.00759606355154269), (2564, 0.0), (2565, 0.009718613786811506), (2566, 0.0), (2567, 0.00547190280835719), (2568, 0.012369480935325784), (2569, 0.0024998013075110755), (2570, 0.0029959292804826333), (2571, 0.002540104147162171), (2572, 0.008662718692399238), (2573, 0.003774929999630127), (2574, 0.0), (2575, 0.0), (2576, 0.0051902379364405955), (2577, 0.0), (2578, 0.0), (2579, 0.048478510592321014), (2580, 0.006337697609028333), (2581, 0.008484402953360342), (2582, 0.02000062085003843), (2583, 0.0), (2584, 0.0), (2585, 0.0028222100037320745), (2586, 0.0), (2587, 0.008050278740626297), (2588, 0.0), (2589, 0.0), (2590, 0.0), (2591, 0.002274555984139291), (2592, 0.002771241435770813), (2593, 0.0023337876000820695), (2594, 0.0), (2595, 0.0026649134214898357), (2596, 0.0), (2597, 0.0), (2598, 0.02118237907094248), (2599, 0.005006752141438518), (2600, 0.009081828802125904), (2601, 0.009457066881753646), (2602, 0.012057728576174723), (2603, 0.007659843642885569), (2604, 0.0), (2605, 0.0), (2606, 0.0072070902212028245), (2607, 0.018701455348414615), (2608, 0.0), (2609, 0.0026665077714943587), (2610, 0.00261390624985877), (2611, 0.0022484009484874316), (2612, 0.002497565971154833), (2613, 0.002964848025854762), (2614, 0.005395997466738548), (2615, 0.0), (2616, 0.0), (2617, 0.012327023899158483), (2618, 0.019191849462074435), (2619, 0.0030352231295267735), (2620, 0.0), (2621, 0.03107268746498311), (2622, 0.03730821873191956), (2623, 0.002869120720046521), (2624, 0.0027988529375607557), (2625, 0.011023671603933702), (2626, 0.004950831436994141), (2627, 0.0), (2628, 0.0034269516265462165), (2629, 0.002815644515835405), (2630, 0.04956937912568639), (2631, 0.0), (2632, 0.013700340473287692), (2633, 0.009660067576422874), (2634, 0.0024015931327733267), (2635, 0.008184000277791537), (2636, 0.0018907872383178447), (2637, 0.0), (2638, 0.023734327317531737), (2639, 0.01488825090838676), (2640, 0.00937138125194854), (2641, 0.0), (2642, 0.002442039150235307), (2643, 0.003481487672775106), (2644, 0.014641158867547934), (2645, 0.018730458065773607), (2646, 0.02159438897344292), (2647, 0.022466009168467846), (2648, 0.0), (2649, 0.023337601242948338), (2650, 0.018542754839748963), (2651, 0.0024484796797637747), (2652, 0.002573032393098966), (2653, 0.0457615306010955), (2654, 0.016724155429041532), (2655, 0.009585038444454184), (2656, 0.0), (2657, 0.0), (2658, 0.0), (2659, 0.0), (2660, 0.0043171369303937595), (2661, 0.002654055995220591), (2662, 0.0), (2663, 0.0), (2664, 0.002763689360235068), (2665, 0.005443542395939111), (2666, 0.0), (2667, 0.0), (2668, 0.021416077316450288), (2669, 0.0), (2670, 0.0), (2671, 0.0), (2672, 0.0), (2673, 0.003337956637546262), (2674, 0.0023537064650982196), (2675, 0.0), (2676, 0.0), (2677, 0.0), (2678, 0.003753650559081536), (2679, 0.0024144890340626543), (2680, 0.010652950621465856), (2681, 0.0), (2682, 0.00421388872123576), (2683, 0.005206676319947016), (2684, 0.0), (2685, 0.0), (2686, 0.0), (2687, 0.028162774048071073), (2688, 0.011138505349355116), (2689, 0.02426457102844406), (2690, 0.0), (2691, 0.00666376907149733), (2692, 1.0), (2693, 0.0), (2694, 0.04310665118240643), (2695, 0.014368374732564627), (2696, 0.003009087511503964), (2697, 0.011720631194042559), (2698, 0.008887939634901993), (2699, 0.0), (2700, 0.005299034795489), (2701, 0.0), (2702, 0.0028597467534403824), (2703, 0.0), (2704, 0.0), (2705, 0.002828360205429766), (2706, 0.03150661381304651), (2707, 0.0029902193734317093), (2708, 0.006867067739911862), (2709, 0.0), (2710, 0.03065906847368345), (2711, 0.0044031690510967034), (2712, 0.016551441177927135), (2713, 0.0), (2714, 0.007566414258222045), (2715, 0.0), (2716, 0.03560664443073606), (2717, 0.0), (2718, 0.02364930267202789), (2719, 0.0), (2720, 0.0029041776428471726), (2721, 0.002175040661329997), (2722, 0.003495219872714448), (2723, 0.030541785307706466), (2724, 0.006286654951979027), (2725, 0.002662061264393537), (2726, 0.006826048395062191), (2727, 0.013795843911773548), (2728, 0.0022849978296058285), (2729, 0.0), (2730, 0.0), (2731, 0.003412162955030228), (2732, 0.006672117367767699), (2733, 0.005098297695619401), (2734, 0.0), (2735, 0.002359694127202098), (2736, 0.01892600096914135), (2737, 0.0), (2738, 0.002947988033138658), (2739, 0.010372481106212202), (2740, 0.010207439796881886), (2741, 0.0023556669955939915), (2742, 0.01695826416088237), (2743, 0.002227008629107823), (2744, 0.009355633333395154), (2745, 0.017631525354653697), (2746, 0.00260574372321868), (2747, 0.0022615600807699794), (2748, 0.002821965007710137), (2749, 0.0), (2750, 0.0), (2751, 0.03197094732626835), (2752, 0.009296499121185423), (2753, 0.002227110091501341), (2754, 0.0), (2755, 0.002743797558745692), (2756, 0.0), (2757, 0.003908914791734666), (2758, 0.0020967359250924503), (2759, 0.012062435942722938), (2760, 0.01985412943667074), (2761, 0.0021701684678682347), (2762, 0.02577256757855367), (2763, 0.0), (2764, 0.0036148730625453593), (2765, 0.002385205184089122), (2766, 0.0020106769466028073), (2767, 0.02059591075681511), (2768, 0.019650518591130657), (2769, 0.010704928460425221), (2770, 0.0), (2771, 0.011948028300446287), (2772, 0.0029811823457461337), (2773, 0.0), (2774, 0.005249959260741945), (2775, 0.003491079454091916), (2776, 0.0027311012062877964), (2777, 0.02175884751576454), (2778, 0.008748935328677002), (2779, 0.0024275516832790046), (2780, 0.012178194142958329), (2781, 0.0), (2782, 0.03079682030271136), (2783, 0.0026861150850195237), (2784, 0.014205158555388186), (2785, 0.0), (2786, 0.0030541072445524828), (2787, 0.004397270079193192), (2788, 0.011911938381321277), (2789, 0.009477852670134863), (2790, 0.004823591408305185), (2791, 0.027435553808670445), (2792, 0.0026370676443575217), (2793, 0.0), (2794, 0.0), (2795, 0.01754519582667019), (2796, 0.002810306995165601), (2797, 0.003098398605167861), (2798, 0.009338330179330669), (2799, 0.0), (2800, 0.002387384919322194), (2801, 0.003896503791082236), (2802, 0.0024913375279378477), (2803, 0.012354881618817162), (2804, 0.0), (2805, 0.013267021073088414), (2806, 0.0), (2807, 0.03176279304721947), (2808, 0.020266456931130397), (2809, 0.005260493122992779), (2810, 0.0), (2811, 0.0), (2812, 0.008575955852976113), (2813, 0.0), (2814, 0.0), (2815, 0.01403829372871925), (2816, 0.006773798157810517), (2817, 0.0), (2818, 0.0), (2819, 0.004947521254535787), (2820, 0.0097781689898257), (2821, 0.0027421131534677116), (2822, 0.0), (2823, 0.017614170259872303), (2824, 0.0), (2825, 0.006887117021870283), (2826, 0.0025082212734303263), (2827, 0.0), (2828, 0.0), (2829, 0.0), (2830, 0.00278614326645496), (2831, 0.009115067705754496), (2832, 0.0034029307639123992), (2833, 0.006222499199065483), (2834, 0.0031020589691599307), (2835, 0.0), (2836, 0.0), (2837, 0.0), (2838, 0.003227481645832042), (2839, 0.0), (2840, 0.008003215098038112), (2841, 0.019708317189742627), (2842, 0.0), (2843, 0.007283518332502755), (2844, 0.007422890628833832), (2845, 0.002325760450566255), (2846, 0.04107925144338763), (2847, 0.004465057139297668), (2848, 0.0030473140649230363), (2849, 0.010548768986233744), (2850, 0.0), (2851, 0.0), (2852, 0.0), (2853, 0.002559307565262461), (2854, 0.007966082661880109), (2855, 0.0), (2856, 0.0), (2857, 0.00304141643631436), (2858, 0.0035798702969530296), (2859, 0.038683978879633346), (2860, 0.0), (2861, 0.00341572748589934), (2862, 0.002354316635112517), (2863, 0.002648825187162075), (2864, 0.0), (2865, 0.0), (2866, 0.0), (2867, 0.019690082790879256), (2868, 0.03634466043923758), (2869, 0.039277179459943724), (2870, 0.0035311525210841486), (2871, 0.010375424400342536), (2872, 0.002979534548824889), (2873, 0.007328034369782073), (2874, 0.012457459293890888), (2875, 0.0), (2876, 0.028806004591633152), (2877, 0.0), (2878, 0.0026400500061652486), (2879, 0.009016830915183838), (2880, 0.0), (2881, 0.008131312564537155), (2882, 0.0027130743132721784), (2883, 0.003487080556193938), (2884, 0.0028419836586332983), (2885, 0.01686882076691517), (2886, 0.0092947889143563), (2887, 0.02924217136788586), (2888, 0.0027702728781458866), (2889, 0.003366604339627233), (2890, 0.003033279232012766), (2891, 0.0), (2892, 0.002400124119006162), (2893, 0.044782999698202576), (2894, 0.002615106080137263), (2895, 0.003032617949924063), (2896, 0.0), (2897, 0.006719082730013787), (2898, 0.0), (2899, 0.006682989647487092), (2900, 0.002607083199714004), (2901, 0.0033220336253345986), (2902, 0.0018511678395290525), (2903, 0.09989313625883267), (2904, 0.002604998328424938), (2905, 0.0), (2906, 0.0), (2907, 0.0024011043545367657), (2908, 0.03458422671896021), (2909, 0.0024637147888679108), (2910, 0.013464326549335607), (2911, 0.002628759902725516), (2912, 0.002479227478654243), (2913, 0.012163637171225839), (2914, 0.0029529024011125484), (2915, 0.00994234379186097), (2916, 0.0028397363979994223), (2917, 0.015920606117954133), (2918, 0.011345853335484993), (2919, 0.014781247040184015), (2920, 0.02744476942496056), (2921, 0.0), (2922, 0.0), (2923, 0.003431716602774866), (2924, 0.002905859077816147), (2925, 0.011326430434014344), (2926, 0.0026731615364304784), (2927, 0.0), (2928, 0.0), (2929, 0.010065811281411326), (2930, 0.0), (2931, 0.014479989787923425), (2932, 0.0192970502646581), (2933, 0.007872499121529599), (2934, 0.009607171647723407), (2935, 0.005955810846522845), (2936, 0.010207525112866735), (2937, 0.003564420724141999), (2938, 0.0), (2939, 0.014213718885937171), (2940, 0.002674267990460125), (2941, 0.0), (2942, 0.007920424114836747), (2943, 0.002591193073587758), (2944, 0.05250188136175269), (2945, 0.0025217616030538924), (2946, 0.0025909678533588202), (2947, 0.004697035408654324), (2948, 0.009045199889659072), (2949, 0.007710585480735227), (2950, 0.0), (2951, 0.0), (2952, 0.0), (2953, 0.002667096575795015), (2954, 0.002292279428122095), (2955, 0.0), (2956, 0.0), (2957, 0.0031092359943984387), (2958, 0.0), (2959, 0.004960282599777525), (2960, 0.0049464868837456235), (2961, 0.014172071099652444), (2962, 0.0066264740224641116), (2963, 0.012425066679073503), (2964, 0.009607345150054668), (2965, 0.002474496774790962), (2966, 0.0031151113794956457), (2967, 0.0), (2968, 0.0), (2969, 0.013062712308176933), (2970, 0.0027142869269089318), (2971, 0.02716766921531714), (2972, 0.0024383910899316336), (2973, 0.0), (2974, 0.0028582037342864087), (2975, 0.00801202391227566), (2976, 0.002239942650190699), (2977, 0.009435122390677925), (2978, 0.012604596620772802), (2979, 0.0), (2980, 0.009064354711100727), (2981, 0.03563020298576272), (2982, 0.0), (2983, 0.0), (2984, 0.004228770770375274), (2985, 0.05698010016549373), (2986, 0.002958617903207249), (2987, 0.0029626845763670064), (2988, 0.014307456949527089), (2989, 0.0035771238377711764), (2990, 0.0), (2991, 0.004642675235688828), (2992, 0.010464185839616853), (2993, 0.0032132792181777782), (2994, 0.007380932405741667), (2995, 0.019667947625722066), (2996, 0.015241123212230666), (2997, 0.0024280323543784325), (2998, 0.003690850766290916), (2999, 0.002557036670434343), (3000, 0.018129691390039795), (3001, 0.0), (3002, 0.0), (3003, 0.0028282097467982018), (3004, 0.03440265073516993), (3005, 0.004635259476801127), (3006, 0.0), (3007, 0.0028144731668346026), (3008, 0.007232678902245886), (3009, 0.0), (3010, 0.025090044876655532), (3011, 0.004419855033064718), (3012, 0.01605705484393656), (3013, 0.0027880267088873697), (3014, 0.0024114891991564077), (3015, 0.003212643513299171), (3016, 0.002616801813244512), (3017, 0.028703436762506113), (3018, 0.007333720763633657), (3019, 0.017022285546707948), (3020, 0.003124013572856198), (3021, 0.0), (3022, 0.005326240672534904), (3023, 0.0453930491435944), (3024, 0.0021068574575131686), (3025, 0.0), (3026, 0.0028417514014026013), (3027, 0.0023302163358055704), (3028, 0.0024009021969519195), (3029, 0.0), (3030, 0.0034824080055307224), (3031, 0.0030994446758264033), (3032, 0.008029229268901044), (3033, 0.006474216362641436), (3034, 0.0), (3035, 0.007423895065643069), (3036, 0.01693366050579872), (3037, 0.0027737315253783083), (3038, 0.0), (3039, 0.0074238299264938025), (3040, 0.0035595370989108667), (3041, 0.0), (3042, 0.0034723545655000613), (3043, 0.015902257902686498), (3044, 0.0028409384545784113), (3045, 0.035299273142087445), (3046, 0.008807162796934057), (3047, 0.0), (3048, 0.0), (3049, 0.0058014930957225345), (3050, 0.002393394429192793), (3051, 0.003618884665251114), (3052, 0.0033246515205713877), (3053, 0.07690680337650463), (3054, 0.0), (3055, 0.003511337704945412), (3056, 0.0021013100945780705), (3057, 0.0024036093755683443), (3058, 0.0), (3059, 0.0), (3060, 0.0), (3061, 0.0), (3062, 0.00285129594020641), (3063, 0.0), (3064, 0.0028413755817474416), (3065, 0.011898268648106345), (3066, 0.006536778761728396), (3067, 0.009078330642204108), (3068, 0.0), (3069, 0.0024370943439527035), (3070, 0.010531885840559682), (3071, 0.0023344078941970685), (3072, 0.0030269690245333164), (3073, 0.0), (3074, 0.0031233670409455032), (3075, 0.0024961286267824417), (3076, 0.01247383323768723), (3077, 0.0), (3078, 0.0), (3079, 0.004311543394580112), (3080, 0.0), (3081, 0.003156053745308904), (3082, 0.0), (3083, 0.02222225713774342), (3084, 0.0026548219225275382), (3085, 0.017339398111220976), (3086, 0.015241907476615621), (3087, 0.0), (3088, 0.0), (3089, 0.0), (3090, 0.0), (3091, 0.04575906265168582), (3092, 0.0), (3093, 0.002572557643378504), (3094, 0.010651299721730116), (3095, 0.02234511467247828), (3096, 0.007824243635940939), (3097, 0.017945589780968656), (3098, 0.01654100923437442), (3099, 0.010464682363825117), (3100, 0.004364975821737901), (3101, 0.002768433323563011), (3102, 0.03450796728415696), (3103, 0.0), (3104, 0.0), (3105, 0.0), (3106, 0.0), (3107, 0.0), (3108, 0.01225401607994165), (3109, 0.0), (3110, 0.012773203811883151), (3111, 0.018787335033680193), (3112, 0.007524301491212103), (3113, 0.0025958574348701594), (3114, 0.0059769311377777), (3115, 0.0), (3116, 0.0027787296955126472), (3117, 0.005245759192194239), (3118, 0.011175626465797752), (3119, 0.012985953776448716), (3120, 0.008765605174682568), (3121, 0.0), (3122, 0.00696832374800245), (3123, 0.00870362031312692), (3124, 0.004693028318957217), (3125, 0.007197937975549463), (3126, 0.00441984427906353), (3127, 0.03582377661787935), (3128, 0.0033180129750133014), (3129, 0.01706584928934432), (3130, 0.0), (3131, 0.004812979260796869), (3132, 0.0), (3133, 0.004345742368443901), (3134, 0.004814368539631161), (3135, 0.004272751416734816), (3136, 0.004369664178913913), (3137, 0.03227592098903785), (3138, 0.0), (3139, 0.0034818720545383842), (3140, 0.003122709981036047), (3141, 0.0), (3142, 0.010012826053834682), (3143, 0.0042505221698915015), (3144, 0.019413578317625056), (3145, 0.0), (3146, 0.03135180729525015), (3147, 0.002356992573519895), (3148, 0.002852467115335913), (3149, 0.006799785954020909), (3150, 0.0025902038877916008), (3151, 0.008733244049142004), (3152, 0.007266800555178143), (3153, 0.023005693544920394), (3154, 0.025726378336906768), (3155, 0.009552409016218587), (3156, 0.02806199052769647), (3157, 0.03099183108835659), (3158, 0.004948969368570521), (3159, 0.003171068735113715), (3160, 0.004095176459934926), (3161, 0.004647258016016347), (3162, 0.0), (3163, 0.004924018272028675), (3164, 0.0055126821766886555), (3165, 0.002934101720365576), (3166, 0.00345082514532639), (3167, 0.026339138502345004), (3168, 0.0051751586842026616), (3169, 0.0), (3170, 0.0024555509047628184), (3171, 0.009168362568767173), (3172, 0.0), (3173, 0.002530296481038186), (3174, 0.002534183345590931), (3175, 0.0), (3176, 0.0), (3177, 0.0), (3178, 0.003928821351204079), (3179, 0.004719973005894039), (3180, 0.005088742222267306), (3181, 0.0), (3182, 0.0026311652287238033), (3183, 0.002830765772549), (3184, 0.00265251569935659), (3185, 0.006738807815432679), (3186, 0.0028292506676110313), (3187, 0.002742236999398409), (3188, 0.0), (3189, 0.0), (3190, 0.0), (3191, 0.004669226479953757), (3192, 0.00749440877612409), (3193, 0.0), (3194, 0.00237343165411053), (3195, 0.0069041347385978835), (3196, 0.008030100032343017), (3197, 0.0), (3198, 0.002612815273641937), (3199, 0.0020077516008637055), (3200, 0.0021734824356438682), (3201, 0.0), (3202, 0.0), (3203, 0.04932718068743929), (3204, 0.0), (3205, 0.004823505712279093), (3206, 0.003066640687890101), (3207, 0.0), (3208, 0.0), (3209, 0.040338067723669484), (3210, 0.014699128226967825), (3211, 0.0022476710843611332), (3212, 0.0), (3213, 0.016596079211215656), (3214, 0.002468733056218797), (3215, 0.009397984194626003), (3216, 0.0025394330778763987), (3217, 0.0), (3218, 0.009563779668150606), (3219, 0.003312330739344567), (3220, 0.0024410530020815085), (3221, 0.0), (3222, 0.02089246973708652), (3223, 0.0), (3224, 0.0026763539375579903), (3225, 0.0025918861957136127), (3226, 0.016792453504543184), (3227, 0.0073312112400263155), (3228, 0.01624569876800652), (3229, 0.0), (3230, 0.002890262568489395), (3231, 0.0), (3232, 0.010097615703035783), (3233, 0.007340198572106904), (3234, 0.0028127541785846416), (3235, 0.002782706615479671), (3236, 0.0), (3237, 0.009028942567497287), (3238, 0.0021801047856471857), (3239, 0.0030858056661151262), (3240, 0.011120550039301331), (3241, 0.0026230710642516824), (3242, 0.002650196186158106), (3243, 0.0023935261036390518), (3244, 0.005902515030538617), (3245, 0.007381397156189855), (3246, 0.008579230027962952), (3247, 0.00418773832739106), (3248, 0.07232699437248641), (3249, 0.040986660788284696), (3250, 0.0), (3251, 0.0), (3252, 0.0021144319042204615), (3253, 0.014848291701935362), (3254, 0.0020665159011169923), (3255, 0.033811642310570135), (3256, 0.007633884955343212), (3257, 0.003623207474316874), (3258, 0.0028859893154278677), (3259, 0.0074914744849380165), (3260, 0.027643750601648528), (3261, 0.0), (3262, 0.00336076375916157), (3263, 0.005234876269622555), (3264, 0.009723592623622967), (3265, 0.0067220259533853), (3266, 0.0), (3267, 0.00873576603560554), (3268, 0.002467428418120357), (3269, 0.0027451147345372174), (3270, 0.0), (3271, 0.0027329352916513204), (3272, 0.0), (3273, 0.0028024639544424897), (3274, 0.0029197476180484894), (3275, 0.01647105112583324), (3276, 0.04237801287376475), (3277, 0.0), (3278, 0.0023144021887167095), (3279, 0.017506211059004052), (3280, 0.036178143187619194), (3281, 0.0), (3282, 0.0032089144473720953), (3283, 0.0026192496542278942), (3284, 0.018643801550421446), (3285, 0.02546063137299134), (3286, 0.0), (3287, 0.0), (3288, 0.006493854015213112), (3289, 0.0026049014336321174), (3290, 0.002581238290538879), (3291, 0.0035855259345875354), (3292, 0.00324944997020382), (3293, 0.009162718936547357), (3294, 0.046322449716325716), (3295, 0.014195248508962427), (3296, 0.0029721451946843566), (3297, 0.009926612421001527), (3298, 0.002436514920013652), (3299, 0.015510215293546875), (3300, 0.002376268395261545), (3301, 0.001985372889284236), (3302, 0.0030847770807479018), (3303, 0.0073331973430325135), (3304, 0.0022998141840984703), (3305, 0.0), (3306, 0.01535289408907474), (3307, 0.0029223930574983617), (3308, 0.0029603063039122727), (3309, 0.006302401527189919), (3310, 0.0), (3311, 0.002263875417889746), (3312, 0.013376529525198851), (3313, 0.028175134542224343), (3314, 0.002684934638788918), (3315, 0.03380313700562276), (3316, 0.00700651108744128), (3317, 0.011673279840343422), (3318, 0.012784554332910633), (3319, 0.022002740452289053), (3320, 0.0), (3321, 0.0), (3322, 0.003274451844035423), (3323, 0.0), (3324, 0.0), (3325, 0.012769002478000188), (3326, 0.0026659198265681925), (3327, 0.0022528400798752144), (3328, 0.013660492192060083), (3329, 0.008292547646433251), (3330, 0.034679585694842474), (3331, 0.005977707255952426), (3332, 0.0), (3333, 0.0), (3334, 0.057051529059181996), (3335, 0.002552476983608565), (3336, 0.002256986979329016), (3337, 0.0029246909081439808), (3338, 0.004264474767414209), (3339, 0.003964368283878742), (3340, 0.0), (3341, 0.002535619903273343), (3342, 0.006627888681074368), (3343, 0.0), (3344, 0.027336661307092038), (3345, 0.021820673655909496), (3346, 0.009040257460622713), (3347, 0.002145608486984789), (3348, 0.002564769055246172), (3349, 0.00749313697538395), (3350, 0.0), (3351, 0.033923628630666836), (3352, 0.020175921774596168), (3353, 0.002596502494848724), (3354, 0.0032371851357262224), (3355, 0.0029618981370260083), (3356, 0.01402745963830346), (3357, 0.0031683671335210996), (3358, 0.0030699421101622044), (3359, 0.0030011114522903158), (3360, 0.05121071140956012), (3361, 0.004334917335054158), (3362, 0.038324870801205474), (3363, 0.0030815161829236383), (3364, 0.0029327375875956387), (3365, 0.0017960347674227852), (3366, 0.0), (3367, 0.004532620674147123), (3368, 0.0), (3369, 0.002316770782338742), (3370, 0.013509767527781534), (3371, 0.0), (3372, 0.0026708609059878387), (3373, 0.01050050494095597), (3374, 0.0476049984463345), (3375, 0.014923864020332496), (3376, 0.031192900553483033), (3377, 0.0317857307266596), (3378, 0.0), (3379, 0.002458538540880747), (3380, 0.002280409722546663), (3381, 0.0024726845849492264), (3382, 0.009844615197116961), (3383, 0.0), (3384, 0.02115297539438609), (3385, 0.061891026872410215), (3386, 0.00939489048659552), (3387, 0.012217958648982348), (3388, 0.002647365161489124), (3389, 0.008334180131956491), (3390, 0.0024519653765477825), (3391, 0.0056082257981435795), (3392, 0.0016889629505649378), (3393, 0.002207496476230673), (3394, 0.0), (3395, 0.048711556514295325), (3396, 0.0031593827101895028), (3397, 0.0), (3398, 0.004731130481888541), (3399, 0.008633525179210276), (3400, 0.0), (3401, 0.0), (3402, 0.0024433445597715196), (3403, 0.01871766587426787), (3404, 0.004808061522686401), (3405, 0.0038865626114160078), (3406, 0.0027118543934155333), (3407, 0.015575724012023565), (3408, 0.045247336634218885), (3409, 0.007829213771753692), (3410, 0.007314256746998411), (3411, 0.0), (3412, 0.0024084070923611712), (3413, 0.0029662742867458845), (3414, 0.0028580583168283744), (3415, 0.0), (3416, 0.017954090388596484), (3417, 0.0027980161433466487), (3418, 0.008653179805086224), (3419, 0.0030758365666367486), (3420, 0.029227609082715385), (3421, 0.014783942144138503), (3422, 0.0), (3423, 0.010631698683987464), (3424, 0.0), (3425, 0.0028984315251071543), (3426, 0.01053473959774481), (3427, 0.042548403134506634), (3428, 0.02651208603596278), (3429, 0.003131984902791339), (3430, 0.03503190671675914), (3431, 0.0021776837111728824), (3432, 0.004644255733710145), (3433, 0.021385308923294166), (3434, 0.0027841722636353914), (3435, 0.006987986060075184), (3436, 0.007087418685834274), (3437, 0.014904150003369709), (3438, 0.005062059982892675), (3439, 0.0), (3440, 0.005299633580402246), (3441, 0.0024774077779177546), (3442, 0.0), (3443, 0.004553282855024988), (3444, 0.0), (3445, 0.002554166678739945), (3446, 0.02356198194970959), (3447, 0.026447924479119235), (3448, 0.0056059793599902265), (3449, 0.0026846224385835282), (3450, 0.062317142769437034), (3451, 0.004910066280702951), (3452, 0.006760060396968598), (3453, 0.007895492351522204), (3454, 0.0), (3455, 0.0023189883351899545), (3456, 0.007634373321672605), (3457, 0.006871015202788579), (3458, 0.006361937339514528), (3459, 0.0), (3460, 0.006620700682849891), (3461, 0.0), (3462, 0.015345384767520004), (3463, 0.03498162820971881), (3464, 0.007323765356681647), (3465, 0.07537925229598678), (3466, 0.032444575294000785), (3467, 0.0), (3468, 0.004964422888156211), (3469, 0.02033839553201872), (3470, 0.03516408332932406), (3471, 0.020196499635912312), (3472, 0.0), (3473, 0.0), (3474, 0.006521278419002501), (3475, 0.0), (3476, 0.0), (3477, 0.0025276030021622597), (3478, 0.0025524372477337596), (3479, 0.003387077496632), (3480, 0.0670760744517028), (3481, 0.0), (3482, 0.0), (3483, 0.021680130187117595), (3484, 0.003903515424764742), (3485, 0.0), (3486, 0.0372489083408106), (3487, 0.0069016572482143105), (3488, 0.02930628917915213), (3489, 0.0), (3490, 0.0), (3491, 0.002560353480916127), (3492, 0.020877522748551546), (3493, 0.0026462996931086364), (3494, 0.0), (3495, 0.004133845199531138), (3496, 0.0026880481936467212), (3497, 0.0029112645872429077), (3498, 0.035994728186708645), (3499, 0.006814116875149279), (3500, 0.0023649818980752742), (3501, 0.0075690610141445885), (3502, 0.0055147008096051485), (3503, 0.0024128899619207393), (3504, 0.019920303438832488), (3505, 0.0), (3506, 0.002873323678652332), (3507, 0.01215932252110584), (3508, 0.019773463917609015), (3509, 0.00563662489430093), (3510, 0.0), (3511, 0.03782362849482592), (3512, 0.003955493294071544), (3513, 0.0047557231362074185), (3514, 0.0073651168511021485), (3515, 0.007195077426545848), (3516, 0.007557873016956927), (3517, 0.0025523798057483925), (3518, 0.04319480165959025), (3519, 0.0), (3520, 0.004621528809234021), (3521, 0.008679453594178566), (3522, 0.0), (3523, 0.003621137443916538), (3524, 0.010614595778466195), (3525, 0.0), (3526, 0.002613324696225746), (3527, 0.0026853422471984495), (3528, 0.017179580857520357), (3529, 0.0), (3530, 0.0), (3531, 0.006847326025631632), (3532, 0.0), (3533, 0.0), (3534, 0.004247216605037091), (3535, 0.014011948197055202), (3536, 0.009297646411867741), (3537, 0.0031947520731953074), (3538, 0.00205880370174875), (3539, 0.0), (3540, 0.0029441235945396435), (3541, 0.015847566760916382), (3542, 0.0025841605847022136), (3543, 0.0), (3544, 0.003131969840930314), (3545, 0.0), (3546, 0.0018707128778611124), (3547, 0.0), (3548, 0.0020737369911928306), (3549, 0.0), (3550, 0.0), (3551, 0.002562239022054154), (3552, 0.04592279384211177), (3553, 0.020934906625963756), (3554, 0.0), (3555, 0.004449419822908525), (3556, 0.033041772563535715), (3557, 0.0024539767510319767), (3558, 0.01485351294857699), (3559, 0.02576349331181462), (3560, 0.0027857795104165883), (3561, 0.0032313364220120746), (3562, 0.0), (3563, 0.0023274614928971843), (3564, 0.00252330596242236), (3565, 0.0025010711850804047), (3566, 0.0061584869435411405), (3567, 0.0), (3568, 0.0), (3569, 0.0021706473079994115), (3570, 0.0072036228916481), (3571, 0.007230791031606428), (3572, 0.029705078830704338), (3573, 0.0), (3574, 0.02826710031903069), (3575, 0.0020755282461482226), (3576, 0.004818081923967996), (3577, 0.0031032938494286954), (3578, 0.0), (3579, 0.008083328442070638), (3580, 0.015000900241200847), (3581, 0.0), (3582, 0.011313991941230542), (3583, 0.004547071848227898), (3584, 0.005012199105189916), (3585, 0.0), (3586, 0.0075196180194443095), (3587, 0.002847130426499138), (3588, 0.005516032527259792), (3589, 0.0), (3590, 0.0028592590940034806), (3591, 0.0), (3592, 0.0), (3593, 0.002837681510329948), (3594, 0.006685652055535624), (3595, 0.0), (3596, 0.009044737885519885), (3597, 0.029797730504689566), (3598, 0.005783939650833698), (3599, 0.009513335993262118), (3600, 0.0), (3601, 0.0027677166836759973), (3602, 0.004478825069233852), (3603, 0.0), (3604, 0.004954785068051645), (3605, 0.029893812393391953), (3606, 0.0025324469945845513), (3607, 0.0), (3608, 0.0016783244725757098), (3609, 0.0), (3610, 0.0), (3611, 0.00286461226600628), (3612, 0.009526834645791411), (3613, 0.0030978725562690775), (3614, 0.0023289965186156173), (3615, 0.0024631871933519698), (3616, 0.0030956226892626935), (3617, 0.0), (3618, 0.007675197045838199), (3619, 0.00397375541688008), (3620, 0.0030958718321612328), (3621, 0.0029982081506165514), (3622, 0.0), (3623, 0.00736989107797279), (3624, 0.007050737027244406), (3625, 0.0), (3626, 0.0019620625453212865), (3627, 0.0023527043854668704), (3628, 0.0), (3629, 0.0021568027067514544), (3630, 0.013372259617575462), (3631, 0.0), (3632, 0.006588609824124242), (3633, 0.0), (3634, 0.0076627432518289644), (3635, 0.009687088210330137), (3636, 0.0027185852954724147), (3637, 0.012479084451598486), (3638, 0.008723710458432343), (3639, 0.0028449512981372376), (3640, 0.016123845368907225), (3641, 0.002494659118161862), (3642, 0.01517349574580738), (3643, 0.00913679201225566), (3644, 0.0), (3645, 0.007344490494520449), (3646, 0.0024315829958955104), (3647, 0.0025336036475106212), (3648, 0.006726888382880298), (3649, 0.0), (3650, 0.0), (3651, 0.002908126324837618), (3652, 0.039648883799251446), (3653, 0.0073117073392733765), (3654, 0.0026828569605999563), (3655, 0.05115503324357752), (3656, 0.033077828516836855), (3657, 0.002165057662099055), (3658, 0.005962867220893581), (3659, 0.012558723411526715), (3660, 0.013607964371598136), (3661, 0.01566919687180387), (3662, 0.0), (3663, 0.0), (3664, 0.004433550625480221), (3665, 0.020815430058392644), (3666, 0.007384336728943303), (3667, 0.008923455350863085), (3668, 0.002135511861687678), (3669, 0.0022216525358493915), (3670, 0.014091636021220572), (3671, 0.0), (3672, 0.0038802518605135024), (3673, 0.0025712013193084373), (3674, 0.009915954083958756), (3675, 0.016981547481063137), (3676, 0.0), (3677, 0.0027086713984455896), (3678, 0.002747401660220795), (3679, 0.00963604713943944), (3680, 0.008077374603068017), (3681, 0.0), (3682, 0.0), (3683, 0.0), (3684, 0.02600418248144765), (3685, 0.0), (3686, 0.0), (3687, 0.0031651998180513424), (3688, 0.0), (3689, 0.009376808428066962), (3690, 0.0), (3691, 0.002408662239032192), (3692, 0.024276632029807402), (3693, 0.0), (3694, 0.01586446839082977), (3695, 0.0), (3696, 0.00694104804121442), (3697, 0.0), (3698, 0.0), (3699, 0.014658680920220069), (3700, 0.0), (3701, 0.0025965820862284494), (3702, 0.0), (3703, 0.0), (3704, 0.007705632884085151), (3705, 0.006428475626634246), (3706, 0.0024537669479685604), (3707, 0.00258104392980526), (3708, 0.01372335468473182), (3709, 0.0), (3710, 0.0048266303250290065), (3711, 0.024659503696330833), (3712, 0.0), (3713, 0.015468973191662913), (3714, 0.002824989743131714), (3715, 0.006190325491037357), (3716, 0.0), (3717, 0.0), (3718, 0.0), (3719, 0.0029138968817436993), (3720, 0.030423082362487988), (3721, 0.006127478843484589), (3722, 0.0), (3723, 0.00436779609012708), (3724, 0.0), (3725, 0.0023561930793541417), (3726, 0.0), (3727, 0.007172516188290096), (3728, 0.05482030933736881), (3729, 0.0030225627662917864), (3730, 0.0), (3731, 0.03427252263404981), (3732, 0.0), (3733, 0.009214433597119704), (3734, 0.006724327053721519), (3735, 0.0), (3736, 0.0), (3737, 0.0028325416251374596), (3738, 0.0), (3739, 0.0025088405959054804), (3740, 0.0), (3741, 0.013718830595396804), (3742, 0.0022767210575645267), (3743, 0.0), (3744, 0.005527027497570208), (3745, 0.002920452298232265), (3746, 0.0), (3747, 0.011662982961808387), (3748, 0.005814812508098898), (3749, 0.0027389391619914525), (3750, 0.013300974811545536), (3751, 0.028694682384320925), (3752, 0.0055594106787826385), (3753, 0.04693769200430518), (3754, 0.0029371066163135493), (3755, 0.0022807362633082318), (3756, 0.011511054953085966), (3757, 0.0027279950960080743), (3758, 0.0), (3759, 0.0), (3760, 0.0), (3761, 0.0), (3762, 0.003264610020253724), (3763, 0.0029161361122681953), (3764, 0.0), (3765, 0.0024340423350703915), (3766, 0.017618210644247956), (3767, 0.0298106636282986), (3768, 0.012432620763165028), (3769, 0.0047098141850001555), (3770, 0.002734524504185059), (3771, 0.0077380432019873565), (3772, 0.002877939160600202), (3773, 0.0), (3774, 0.004884486547402405), (3775, 0.0107706407618385), (3776, 0.003961245603545906), (3777, 0.014873370332342926), (3778, 0.02182942431166002), (3779, 0.10186325605202706), (3780, 0.007840883103092828), (3781, 0.002716812033195873), (3782, 0.004890664826434198), (3783, 0.0), (3784, 0.008587177789081704), (3785, 0.0), (3786, 0.0), (3787, 0.005065054028236046), (3788, 0.0043127907738928955), (3789, 0.0), (3790, 0.0), (3791, 0.0), (3792, 0.002608532861610819), (3793, 0.04412647311575747), (3794, 0.010941326210303375), (3795, 0.0022290471064402937), (3796, 0.0), (3797, 0.014884790379191687), (3798, 0.0), (3799, 0.0025274583753613737), (3800, 0.0), (3801, 0.024568950064215275), (3802, 0.005155825819568282), (3803, 0.0), (3804, 0.0028209202532252352), (3805, 0.0), (3806, 0.003914573435214169), (3807, 0.01426406590356864), (3808, 0.0), (3809, 0.002549131873094457), (3810, 0.0240959931638891), (3811, 0.0023813695162260163), (3812, 0.0), (3813, 0.0027566449206603903), (3814, 0.0046499277941980536), (3815, 0.004727607346291744), (3816, 0.0), (3817, 0.0), (3818, 0.0), (3819, 0.013532024664323856), (3820, 0.0), (3821, 0.007765482977267374), (3822, 0.009893302607637084), (3823, 0.004366032792502036), (3824, 0.004409490654055695), (3825, 0.005992749669889147), (3826, 0.008724044762357365), (3827, 0.0025419275644756024), (3828, 0.017676387358057474), (3829, 0.008328976540652181), (3830, 0.0), (3831, 0.0), (3832, 0.0031202696960513274), (3833, 0.004730609347895109), (3834, 0.0), (3835, 0.025500414728752616), (3836, 0.0), (3837, 0.0), (3838, 0.0), (3839, 0.02272666317851413), (3840, 0.0), (3841, 0.006518355882592189), (3842, 0.006405536969904125), (3843, 0.0), (3844, 0.005667676381855301), (3845, 0.002624148652450636), (3846, 0.0), (3847, 0.0), (3848, 0.0032666661844117247), (3849, 0.012225481780368797), (3850, 0.03237659871084385), (3851, 0.0), (3852, 0.02750192244124006), (3853, 0.018547687905016114), (3854, 0.013044686466315302), (3855, 0.0021518469419141983), (3856, 0.0), (3857, 0.019699881937959), (3858, 0.0), (3859, 0.0), (3860, 0.010706960753072975), (3861, 0.013704880166655843), (3862, 0.014953437529103972), (3863, 0.0022949598228813703), (3864, 0.00605794912310371), (3865, 0.00589560049476717), (3866, 0.002860337891253584), (3867, 0.039729594642522), (3868, 0.02483368071612487), (3869, 0.0), (3870, 0.0), (3871, 0.02816119411033436), (3872, 0.0), (3873, 0.002736063209435135), (3874, 0.003148153795453313), (3875, 0.017967969157729594), (3876, 0.006501246832824627), (3877, 0.002859393773680244), (3878, 0.0033122580274520213), (3879, 0.0), (3880, 0.008111132150096782), (3881, 0.004611467427945411), (3882, 0.002649242132826419), (3883, 0.016290082305214462), (3884, 0.0029361184400005422), (3885, 0.0), (3886, 0.0044191547878571335), (3887, 0.0), (3888, 0.009428505990005985), (3889, 0.002773051936636661), (3890, 0.0024756048517222433), (3891, 0.0), (3892, 0.0032800827739615343), (3893, 0.0027438567093563916), (3894, 0.002277103823546275), (3895, 0.015661879824545363), (3896, 0.0), (3897, 0.005004036831198832), (3898, 0.0024549742602234296), (3899, 0.008051002081322367), (3900, 0.002501629179171666), (3901, 0.00854775814394718), (3902, 0.0026355902543007924), (3903, 0.010348474963123787), (3904, 0.027995484657460313), (3905, 0.007461654676382057), (3906, 0.0024757476336505443), (3907, 0.004726772374329462), (3908, 0.004617515117436175), (3909, 0.006112285649457752), (3910, 0.006356730546010356), (3911, 0.002945207641049979), (3912, 0.0), (3913, 0.024232183790716434), (3914, 0.0), (3915, 0.0027136949430134937), (3916, 0.0), (3917, 0.002479372437832043), (3918, 0.0), (3919, 0.009696280790582438), (3920, 0.0026722539217173677), (3921, 0.0), (3922, 0.003280402466717164), (3923, 0.021438195502408573), (3924, 0.010547599993568458), (3925, 0.0036868491336711183), (3926, 0.0065401626555349375), (3927, 0.020790703400268524), (3928, 0.0021253126572358593), (3929, 0.0), (3930, 0.0), (3931, 0.0), (3932, 0.004731712460623241), (3933, 0.0), (3934, 0.019716208843084823), (3935, 0.0029386027780102164), (3936, 0.0), (3937, 0.0), (3938, 0.004944786334034676), (3939, 0.0032548518653931677), (3940, 0.005391695377769303), (3941, 0.008906589385611119), (3942, 0.005613423254588683), (3943, 0.0), (3944, 0.0037065297544057784), (3945, 0.007076895716931186), (3946, 0.06693398962973597), (3947, 0.03996794889823666), (3948, 0.0), (3949, 0.009955383124914377), (3950, 0.0), (3951, 0.010623276750868388), (3952, 0.0030109482158914257), (3953, 0.0023128784438710484), (3954, 0.008544409448365823), (3955, 0.03927200743653633), (3956, 0.008547283563660583), (3957, 0.011335010969359535), (3958, 0.015075427182606922), (3959, 0.02711252868891448), (3960, 0.00804676341619687), (3961, 0.03229837179574416), (3962, 0.0028021039029533777), (3963, 0.0), (3964, 0.0), (3965, 0.0), (3966, 0.004304573645571716), (3967, 0.0029219282797782486), (3968, 0.0), (3969, 0.0), (3970, 0.004406213539910209), (3971, 0.0), (3972, 0.0), (3973, 0.04205102354241295), (3974, 0.04674903776474896), (3975, 0.005889763907871322), (3976, 0.016834982138215708), (3977, 0.0), (3978, 0.020592699996808322), (3979, 0.0), (3980, 0.0), (3981, 0.0), (3982, 0.0), (3983, 0.03526713102814068), (3984, 0.010576331520677525), (3985, 0.0), (3986, 0.0023119201990434617), (3987, 0.002658941777337258), (3988, 0.0), (3989, 0.003680596476802413), (3990, 0.003461076357315229), (3991, 0.0), (3992, 0.010761092920202466), (3993, 0.010686674558770549), (3994, 0.0), (3995, 0.004782539176664054), (3996, 0.0), (3997, 0.005012697643785269), (3998, 0.006304527611353125), (3999, 0.011912995997785357), (4000, 0.014096478444254651), (4001, 0.006716377045714607), (4002, 0.0030406609725017486), (4003, 0.0), (4004, 0.029653313453591002), (4005, 0.03646792430405763), (4006, 0.0), (4007, 0.01907571150210479), (4008, 0.006780993977304264), (4009, 0.006064417008349421), (4010, 0.0), (4011, 0.0023724007649987095), (4012, 0.018460291214543127), (4013, 0.007526085587014328), (4014, 0.0026571907640489923), (4015, 0.0020995911502027804), (4016, 0.02085273154625119), (4017, 0.003424009989747593), (4018, 0.0), (4019, 0.003345390522252748), (4020, 0.00249528638716839), (4021, 0.0), (4022, 0.0), (4023, 0.04132236925895962), (4024, 0.0027661173332870423), (4025, 0.009477378468608978), (4026, 0.0), (4027, 0.0), (4028, 0.01806265347080268), (4029, 0.0), (4030, 0.003094188924566016), (4031, 0.0), (4032, 0.010572260437364773), (4033, 0.009949889344623349), (4034, 0.0), (4035, 0.029484335293495357), (4036, 0.0024709095742761226), (4037, 0.0), (4038, 0.007617650603526466), (4039, 0.0044899856191165785), (4040, 0.0), (4041, 0.0), (4042, 0.002818866090789567), (4043, 0.0050187657855676245), (4044, 0.00429953959013596), (4045, 0.007310110586196114), (4046, 0.00777078464530377), (4047, 0.005849787356580478), (4048, 0.010707705867524606), (4049, 0.002556726626307248), (4050, 0.02278667763225954), (4051, 0.0028119810589432126), (4052, 0.009745478878945842), (4053, 0.024769861985338718), (4054, 0.0026377864614375154), (4055, 0.005914166649000518), (4056, 0.0025735010283054055), (4057, 0.005925441153414041), (4058, 0.0), (4059, 0.0024106746789777592), (4060, 0.009139449636198805), (4061, 0.007017651891351481), (4062, 0.05747693173880889), (4063, 0.0), (4064, 0.039413248587607974), (4065, 0.0), (4066, 0.002252485383308236), (4067, 0.0), (4068, 0.014309521743934777), (4069, 0.0024169297417616156), (4070, 0.0), (4071, 0.004466823963289668), (4072, 0.0), (4073, 0.0), (4074, 0.0022656432406814816), (4075, 0.002979109822613904), (4076, 0.0049040315276081044), (4077, 0.007187156502313294), (4078, 0.0), (4079, 0.0027190288467055187), (4080, 0.002433564201576552), (4081, 0.01772173032903252), (4082, 0.0035988076268581083), (4083, 0.0026315443391707527), (4084, 0.0), (4085, 0.002449389816696474), (4086, 0.0), (4087, 0.0027365025375997664), (4088, 0.018651557888109835), (4089, 0.007325412246477894), (4090, 0.004928157528853045), (4091, 0.0050081152296663585), (4092, 0.008059039297532955), (4093, 0.00730012202786503), (4094, 0.00758096832196693), (4095, 0.011982284812504247), (4096, 0.010039481625442107), (4097, 0.0), (4098, 0.007750839932795255), (4099, 0.006617286213745887), (4100, 0.0), (4101, 0.002801491985340087), (4102, 0.003295800752680752), (4103, 0.004572445305377128), (4104, 0.025750848975803542), (4105, 0.008137144937599632), (4106, 0.009960181287101702), (4107, 0.0032024785375661573), (4108, 0.0), (4109, 0.0), (4110, 0.005853106777499908), (4111, 0.0027002000301447923), (4112, 0.0), (4113, 0.0027242806152587033), (4114, 0.0), (4115, 0.0), (4116, 0.015226479625205059), (4117, 0.002874881002092895), (4118, 0.007614068790473063), (4119, 0.005029102007599148), (4120, 0.005174751481075426), (4121, 0.013193490920915336), (4122, 0.008752643524887315), (4123, 0.014960817971628501), (4124, 0.013536156645222026), (4125, 0.0), (4126, 0.002977274317311657), (4127, 0.0), (4128, 0.02365096956317496), (4129, 0.00251900340172983), (4130, 0.00277024919270776), (4131, 0.0), (4132, 0.0027552134220144254), (4133, 0.007749301387279048), (4134, 0.015578990653738368), (4135, 0.0025356915068570573), (4136, 0.0026384657436876223), (4137, 0.03947511346209145), (4138, 0.0027476012781570422), (4139, 0.002515506695197149), (4140, 0.002775083300759131), (4141, 0.027130839839154843), (4142, 0.0031563443445955623), (4143, 0.0022844779266929264), (4144, 0.0), (4145, 0.0029410226703515618), (4146, 0.0), (4147, 0.0029863015775344302), (4148, 0.011612032393771015), (4149, 0.018909670795848363), (4150, 0.0), (4151, 0.004396568617488945), (4152, 0.03355622659595973), (4153, 0.0), (4154, 0.006494850823807451), (4155, 0.0024255587971282588), (4156, 0.019330976044547723), (4157, 0.0), (4158, 0.009568664582851182), (4159, 0.0), (4160, 0.002756341235736149), (4161, 0.0027374379076044526), (4162, 0.0053022395568221485), (4163, 0.008594210227588571), (4164, 0.010596218771501544), (4165, 0.03587078718793553), (4166, 0.0), (4167, 0.0), (4168, 0.0), (4169, 0.0027452812719798484), (4170, 0.0), (4171, 0.0018241317787362403), (4172, 0.003503880101093653), (4173, 0.0), (4174, 0.0023059740054909702), (4175, 0.00269375742659227), (4176, 0.020576815962035578), (4177, 0.02894007862646791), (4178, 0.014665494263007787), (4179, 0.0), (4180, 0.0), (4181, 0.0), (4182, 0.007004528417098502), (4183, 0.0024237963260441723), (4184, 0.007149057707442913), (4185, 0.0), (4186, 0.0), (4187, 0.010619128445625427), (4188, 0.0), (4189, 0.02052262660529992), (4190, 0.0), (4191, 0.0), (4192, 0.009158650875690108), (4193, 0.004236236087413807), (4194, 0.0), (4195, 0.03286161220602958), (4196, 0.007049234847350058), (4197, 0.0025329168145820785), (4198, 0.0), (4199, 0.0), (4200, 0.0021092140929147092), (4201, 0.0), (4202, 0.0035615116843732363), (4203, 0.018398711757092005), (4204, 0.0), (4205, 0.008314716791969833), (4206, 0.0024221148356371874), (4207, 0.0), (4208, 0.006011898117494348), (4209, 0.0030010855660245776), (4210, 0.006596829513357173), (4211, 0.004477018759936746), (4212, 0.0), (4213, 0.002452817103114504), (4214, 0.0), (4215, 0.0), (4216, 0.011190645567039465), (4217, 0.006355560963563177), (4218, 0.0), (4219, 0.006041864830893834), (4220, 0.002294849070912113), (4221, 0.003247145282730145), (4222, 0.003428535563169777), (4223, 0.0), (4224, 0.0), (4225, 0.0026454343879736032), (4226, 0.007141989967655634), (4227, 0.01244388591984082), (4228, 0.0025063091988372396), (4229, 0.0), (4230, 0.0031884986169068235), (4231, 0.014997193519379993), (4232, 0.008438608564805444), (4233, 0.007594090774401854), (4234, 0.0), (4235, 0.010799610162839327), (4236, 0.006125452057518248), (4237, 0.0), (4238, 0.0), (4239, 0.0), (4240, 0.005075645269921609), (4241, 0.0), (4242, 0.026753315811222485), (4243, 0.003001470217820713), (4244, 0.01684978082101269), (4245, 0.0028061479285219426), (4246, 0.01576229490259828), (4247, 0.0022319991499478095), (4248, 0.004571331837007962), (4249, 0.00733306861802683), (4250, 0.0), (4251, 0.004669298283813511), (4252, 0.060523171610650434), (4253, 0.0), (4254, 0.002450400614541764), (4255, 0.013953077593872994), (4256, 0.0), (4257, 0.008566473830530219), (4258, 0.0), (4259, 0.0027768502257466843), (4260, 0.0), (4261, 0.005245222672043355), (4262, 0.0026409519820739286), (4263, 0.0027303158689940127), (4264, 0.00450328239117574), (4265, 0.012254915193976664), (4266, 0.0024916258234818772), (4267, 0.0029286555100946393), (4268, 0.049088263988344386), (4269, 0.0027268800245208768), (4270, 0.0), (4271, 0.0), (4272, 0.006251634835142975), (4273, 0.0026183132422741696), (4274, 0.0042410801963333345), (4275, 0.004886236390825365), (4276, 0.0), (4277, 0.0023130600869355365), (4278, 0.0), (4279, 0.0), (4280, 0.002923159251529564), (4281, 0.023466165556037134), (4282, 0.006750129649422216), (4283, 0.026081167043468648), (4284, 0.007113937688592602), (4285, 0.005386288972176425), (4286, 0.002672967122872718), (4287, 0.0026374310830103056), (4288, 0.02192708458810873), (4289, 0.007498896825983682), (4290, 0.00416611383505207), (4291, 0.0), (4292, 0.004455994578843448), (4293, 0.010926804773281909), (4294, 0.0), (4295, 0.002906165236585631), (4296, 0.002266391876514918), (4297, 0.0), (4298, 0.0031861253114959715), (4299, 0.006835436572250428), (4300, 0.0), (4301, 0.001911476936795212), (4302, 0.0), (4303, 0.0063239613987021515), (4304, 0.002445685707398438), (4305, 0.0), (4306, 0.003124439095280256), (4307, 0.005109223314001823), (4308, 0.002849753315687476), (4309, 0.006944082673060731), (4310, 0.004556230351634091), (4311, 0.00211167048153913), (4312, 0.005028977479012297), (4313, 0.0), (4314, 0.015041088816469811), (4315, 0.0), (4316, 0.0), (4317, 0.0), (4318, 0.0026533552408221917), (4319, 0.0), (4320, 0.0025326519278863332), (4321, 0.01696689996989628), (4322, 0.004211258714592223), (4323, 0.0), (4324, 0.0), (4325, 0.010932350790752006), (4326, 0.0025375035594151943), (4327, 0.0), (4328, 0.004295975756617414), (4329, 0.0), (4330, 0.0025193852209321366), (4331, 0.005386503395515215), (4332, 0.0), (4333, 0.002926032027006742), (4334, 0.0026204394659809834), (4335, 0.007951785859735874), (4336, 0.00887211227097717), (4337, 0.011995215277082059), (4338, 0.0), (4339, 0.004230644549460946), (4340, 0.0025922850082200125), (4341, 0.0), (4342, 0.0060796574781572105), (4343, 0.0022815009118732697), (4344, 0.011529400043598596), (4345, 0.002382367532909125), (4346, 0.0), (4347, 0.0), (4348, 0.0023671969422472618), (4349, 0.017776423847042838), (4350, 0.0022622118316933154), (4351, 0.007126731794144372), (4352, 0.0), (4353, 0.0), (4354, 0.00264397364263237), (4355, 0.0027528601938903185), (4356, 0.0024293290812924667), (4357, 0.002682787385490823), (4358, 0.0), (4359, 0.0023248636075942288), (4360, 0.004543692591012169), (4361, 0.0026572535619061133), (4362, 0.03690546937822182), (4363, 0.0026967453036279127), (4364, 0.0), (4365, 0.004125456776767467), (4366, 0.010449654667626516), (4367, 0.006466955166456474), (4368, 0.002837559870605591), (4369, 0.0029038839232109516), (4370, 0.0), (4371, 0.009848148812138469), (4372, 0.0), (4373, 0.00500077295732044), (4374, 0.013302831551871112), (4375, 0.09091089846185603), (4376, 0.004700916957627675), (4377, 0.004798649914011855), (4378, 0.07848904883764266), (4379, 0.014690921813047176), (4380, 0.01938917371394532), (4381, 0.0024462445279692475), (4382, 0.020071747587541534), (4383, 0.004646561487157581), (4384, 0.004935240983727791), (4385, 0.005683142763564907), (4386, 0.0022891216315229835), (4387, 0.014005649694306632), (4388, 0.00657910334776104), (4389, 0.06116506132030777), (4390, 0.007418250756160614), (4391, 0.0025591033947911816), (4392, 0.004861145645464364), (4393, 0.0), (4394, 0.0024787349790455528), (4395, 0.022449464670711947), (4396, 0.036399177742229144), (4397, 0.0028820775948757912), (4398, 0.05933287524499305), (4399, 0.01700920397015526), (4400, 0.0032079125920463215), (4401, 0.0027887978956383556), (4402, 0.030887023536141686), (4403, 0.03666923852377671), (4404, 0.0), (4405, 0.0), (4406, 0.0), (4407, 0.0033073812355967984), (4408, 0.0), (4409, 0.00248463360069058), (4410, 0.0), (4411, 0.0022080424646920556), (4412, 0.008319326392608573), (4413, 0.0), (4414, 0.0), (4415, 0.0), (4416, 0.0030129461250410043), (4417, 0.0), (4418, 0.003222550107538189), (4419, 0.002719335448609696), (4420, 0.002696821403648539), (4421, 0.0), (4422, 0.0026294427360046657), (4423, 0.003445795527968099), (4424, 0.0), (4425, 0.0), (4426, 0.00397934206999845), (4427, 0.002494356164903516), (4428, 0.002431451506443884), (4429, 0.002230839821893885), (4430, 0.007417616910353694), (4431, 0.007651053746168175), (4432, 0.006249235603065001), (4433, 0.0), (4434, 0.0), (4435, 0.009959425093133821), (4436, 0.020028213985938726), (4437, 0.0), (4438, 0.004420996620712255), (4439, 0.0), (4440, 0.01693724447016682), (4441, 0.004310228957562386), (4442, 0.009364931162748039), (4443, 0.03669513565815526), (4444, 0.009252682443192887), (4445, 0.0019207975386324957), (4446, 0.00272456409148412), (4447, 0.0), (4448, 0.0026979543672620916), (4449, 0.0), (4450, 0.027008217155857016), (4451, 0.0), (4452, 0.03823412966695315), (4453, 0.0), (4454, 0.0), (4455, 0.0), (4456, 0.04429065029178789), (4457, 0.0), (4458, 0.003187060313683638), (4459, 0.00619640084642586), (4460, 0.0), (4461, 0.00256813244634868), (4462, 0.005138284238996433), (4463, 0.0), (4464, 0.00604614057301147), (4465, 0.018725557140515617), (4466, 0.020551464464730263), (4467, 0.0066796580472208095), (4468, 0.004104864171400346), (4469, 0.011962644387534268), (4470, 0.007435938742219177), (4471, 0.0027895300377757054), (4472, 0.002411231717925819), (4473, 0.0022005779751269063), (4474, 0.014830732124772008), (4475, 0.013500996402449936), (4476, 0.002169707524927426), (4477, 0.011388452725554452), (4478, 0.0), (4479, 0.002318606278427395), (4480, 0.0), (4481, 0.011328115792536987), (4482, 0.015084910224322358), (4483, 0.0), (4484, 0.003271434176865662), (4485, 0.0), (4486, 0.013763206851859552), (4487, 0.002511327685004313), (4488, 0.04078309888330139), (4489, 0.0026614109552627364), (4490, 0.00844156601915344), (4491, 0.0), (4492, 0.01951216348882165), (4493, 0.0), (4494, 0.008064025144214816), (4495, 0.002717370206623205), (4496, 0.0), (4497, 0.0027081331496874015), (4498, 0.0), (4499, 0.0), (4500, 0.0), (4501, 0.002642137368049669), (4502, 0.00886631843977762), (4503, 0.014306396769217994), (4504, 0.017411485070279856), (4505, 0.002641691801624409), (4506, 0.0), (4507, 0.002858588969346384), (4508, 0.0), (4509, 0.0), (4510, 0.01238247720875068), (4511, 0.008847497391925429), (4512, 0.012855691053074523), (4513, 0.0039037834109920846), (4514, 0.005453464782239066), (4515, 0.005026124158855985), (4516, 0.0028578958837238958), (4517, 0.007519655732321566), (4518, 0.00548619269775286), (4519, 0.0), (4520, 0.0026027432110470486), (4521, 0.0031683498289934394), (4522, 0.008095006673228317), (4523, 0.006786894555530212), (4524, 0.012991040043389048), (4525, 0.0), (4526, 0.0), (4527, 0.005313905577409308), (4528, 0.002761598281581423), (4529, 0.003377178062952125), (4530, 0.00250800772659186), (4531, 0.015651266522432518), (4532, 0.0), (4533, 0.03345609511378315), (4534, 0.022411122469524383), (4535, 0.002828817170799314), (4536, 0.0024298408081013054), (4537, 0.006064091063116666), (4538, 0.0), (4539, 0.0), (4540, 0.0027309904957101357), (4541, 0.0), (4542, 0.0), (4543, 0.011480775948996942), (4544, 0.003253940717926459), (4545, 0.0027455835746555694), (4546, 0.009647973480794011), (4547, 0.0), (4548, 0.02880029070132395), (4549, 0.0), (4550, 0.0024595195348474817), (4551, 0.010336533131030869), (4552, 0.004689429768314749), (4553, 0.01037098468802996), (4554, 0.024320328008029097), (4555, 0.0038606499710236416), (4556, 0.0), (4557, 0.0073466386564355795), (4558, 0.0), (4559, 0.0), (4560, 0.0), (4561, 0.0), (4562, 0.0), (4563, 0.0025819653000399567), (4564, 0.006322600063965311), (4565, 0.0), (4566, 0.0026215908505509834), (4567, 0.0024541141055085514), (4568, 0.0), (4569, 0.0), (4570, 0.0), (4571, 0.004028423019031219), (4572, 0.003120440437878732), (4573, 0.0025494796087382372), (4574, 0.002668510542856652), (4575, 0.0027770359980853494), (4576, 0.01324597810422765), (4577, 0.0), (4578, 0.0), (4579, 0.007708676437675581), (4580, 0.0), (4581, 0.007066244511938934), (4582, 0.004091733995248686), (4583, 0.015682203822968005), (4584, 0.0029935051497323654), (4585, 0.00429834391115837), (4586, 0.004881688643291706), (4587, 0.004365776006744743), (4588, 0.04021355664322326), (4589, 0.002987896156339955), (4590, 0.03043720537456709), (4591, 0.006668143765250439), (4592, 0.0), (4593, 0.008010378631204202), (4594, 0.03392508860200054), (4595, 0.004910294994799244), (4596, 0.01141451920478715), (4597, 0.0), (4598, 0.0020958137727665593), (4599, 0.0), (4600, 0.0), (4601, 0.0077686265856986535), (4602, 0.032215310408773505), (4603, 0.008721055027937692), (4604, 0.002560375976338789), (4605, 0.010125009023628966), (4606, 0.0032869515863996734), (4607, 0.0037771248408503552), (4608, 0.023150740148436096), (4609, 0.0), (4610, 0.013651196935671194), (4611, 0.0032644371582292164), (4612, 0.009180749090830321), (4613, 0.0), (4614, 0.0940948172633009), (4615, 0.0), (4616, 0.0023591732279071025), (4617, 0.013029866141770926), (4618, 0.0), (4619, 0.01085148290266693), (4620, 0.0023079153072196393), (4621, 0.00483073799944511), (4622, 0.0), (4623, 0.01152524472204856), (4624, 0.007459594494860059), (4625, 0.002759985855858409), (4626, 0.002102054738966996), (4627, 0.015377397225922967), (4628, 0.0), (4629, 0.007499043229826361), (4630, 0.004983928423924887), (4631, 0.0), (4632, 0.0029651335087123964), (4633, 0.0029347218310817693), (4634, 0.0023669493334174127), (4635, 0.0), (4636, 0.002176259616990478), (4637, 0.017435004444350578), (4638, 0.002397126704264959), (4639, 0.0048473650777299), (4640, 0.017630157080967025), (4641, 0.03404188789579572), (4642, 0.005392640148098447), (4643, 0.002616317303925454), (4644, 0.0), (4645, 0.0), (4646, 0.006222134861124675), (4647, 0.0), (4648, 0.0), (4649, 0.008251533339065963), (4650, 0.002863748346927824), (4651, 0.0), (4652, 0.007434131610692769), (4653, 0.005513257527053221), (4654, 0.0), (4655, 0.0), (4656, 0.007588487889258912), (4657, 0.002749528079458911), (4658, 0.01983006256784381), (4659, 0.025530817760738452), (4660, 0.009014744440451413), (4661, 0.006372262075154421), (4662, 0.0), (4663, 0.007156125823184987), (4664, 0.00863480424233276), (4665, 0.00457938256674157), (4666, 0.006181678206141674), (4667, 0.0), (4668, 0.03024088275183471), (4669, 0.015480941874531438), (4670, 0.006943339257724341), (4671, 0.0), (4672, 0.0), (4673, 0.014018486747657814), (4674, 0.005759462956802483), (4675, 0.0), (4676, 0.0), (4677, 0.007130136488620726), (4678, 0.004642211839193839), (4679, 0.019197615680286006), (4680, 0.0027030707668748892), (4681, 0.0), (4682, 0.049460236735972524), (4683, 0.0), (4684, 0.027454978374735085), (4685, 0.009386546950491294), (4686, 0.0025809235379095864), (4687, 0.002465090832503856), (4688, 0.0), (4689, 0.0424494649378072), (4690, 0.0), (4691, 0.006354021579073186), (4692, 0.0030522483736099824), (4693, 0.0025545938165962723), (4694, 0.003021129817062015), (4695, 0.01159324993741748), (4696, 0.0033055410596479224), (4697, 0.004335376392916812), (4698, 0.005636834945005656), (4699, 0.008152903375402346), (4700, 0.0), (4701, 0.02661994917872925), (4702, 0.0), (4703, 0.033872733443701564), (4704, 0.0033037630830102136), (4705, 0.003660605759694892), (4706, 0.0028008566623474356), (4707, 0.008168009276892789), (4708, 0.004572545807376826), (4709, 0.015477053230169329), (4710, 0.008949282031119284), (4711, 0.0), (4712, 0.0022461897352833494), (4713, 0.002919601004375781), (4714, 0.0), (4715, 0.007416439940374747), (4716, 0.0), (4717, 0.003048514552523758), (4718, 0.002798902403604623), (4719, 0.004910173031360855), (4720, 0.0), (4721, 0.0384639557498118), (4722, 0.018052020303557476), (4723, 0.0031000312203020393), (4724, 0.01735464147556258), (4725, 0.0), (4726, 0.005809312246993326), (4727, 0.03295621958838248), (4728, 0.0), (4729, 0.0024438608707778348), (4730, 0.0), (4731, 0.026106609696443853), (4732, 0.002765581716312349), (4733, 0.006077189670855713), (4734, 0.0027551987348534038), (4735, 0.016749320675206243), (4736, 0.0), (4737, 0.0), (4738, 0.006670556795175896), (4739, 0.03298213256960124), (4740, 0.0), (4741, 0.0), (4742, 0.0), (4743, 0.0024840385367584893), (4744, 0.00209569949719475), (4745, 0.0), (4746, 0.005301762028458732), (4747, 0.013398552267768732), (4748, 0.00789503172901868), (4749, 0.003363934042381229), (4750, 0.0), (4751, 0.0), (4752, 0.0018058768941024734), (4753, 0.0029896937520382115), (4754, 0.0), (4755, 0.0), (4756, 0.0026099386098689184), (4757, 0.007680025310303054), (4758, 0.0), (4759, 0.0)]\n"
          ]
        }
      ]
    },
    {
      "cell_type": "code",
      "source": [
        "len(Recommendation_Score)"
      ],
      "metadata": {
        "colab": {
          "base_uri": "https://localhost:8080/"
        },
        "id": "HPjd3KxindW4",
        "outputId": "455c2d73-1235-4e8e-d052-fd26136e7880"
      },
      "execution_count": null,
      "outputs": [
        {
          "output_type": "execute_result",
          "data": {
            "text/plain": [
              "4760"
            ]
          },
          "metadata": {},
          "execution_count": 36
        }
      ]
    },
    {
      "cell_type": "markdown",
      "source": [
        "**Get All Movies Sort Based on Recommendation Score ert Favourite Movie**"
      ],
      "metadata": {
        "id": "_mfVic-ZnmQb"
      }
    },
    {
      "cell_type": "code",
      "source": [
        "# sorting the movies based on their similarity score\n",
        "Sorted_Similar_Movies = sorted(Recommendation_Score,key = lambda x:x[1], reverse = True)\n",
        "print(Sorted_Similar_Movies)"
      ],
      "metadata": {
        "colab": {
          "base_uri": "https://localhost:8080/"
        },
        "id": "XWf6nbeKn-7s",
        "outputId": "a6ba5ecb-238c-4803-f6aa-c32659e2c0fe"
      },
      "execution_count": null,
      "outputs": [
        {
          "output_type": "stream",
          "name": "stdout",
          "text": [
            "[(2692, 1.0), (3779, 0.10186325605202706), (2903, 0.09989313625883267), (4614, 0.0940948172633009), (4375, 0.09091089846185603), (45, 0.08782285821831268), (1070, 0.08660981773608298), (1383, 0.08554061722534646), (110, 0.08495419169129932), (1994, 0.08196067514619292), (628, 0.08167981649537652), (2558, 0.08148150683006429), (4378, 0.07848904883764266), (1341, 0.07732355675692669), (3053, 0.07690680337650463), (3465, 0.07537925229598678), (1977, 0.07532026375225236), (1982, 0.07325932482302391), (3248, 0.07232699437248641), (2538, 0.06818383578421024), (3480, 0.0670760744517028), (3946, 0.06693398962973597), (1886, 0.0657745423322476), (62, 0.065446117365631), (254, 0.06503547836471146), (2112, 0.06363460487718324), (590, 0.06267024750327603), (3450, 0.062317142769437034), (675, 0.06190352591658066), (3385, 0.061891026872410215), (1134, 0.061614079917650465), (84, 0.061414458309579645), (4389, 0.06116506132030777), (1118, 0.060750999007247015), (4252, 0.060523171610650434), (2318, 0.05966939011000495), (1021, 0.0595904600277476), (4398, 0.05933287524499305), (2358, 0.05820450509052857), (4062, 0.05747693173880889), (3334, 0.057051529059181996), (2985, 0.05698010016549373), (1243, 0.054833959370674534), (3728, 0.05482030933736881), (1809, 0.05333335385632386), (2944, 0.05250188136175269), (137, 0.0521569976392735), (2026, 0.05183972410373727), (873, 0.051384029767644106), (479, 0.05128300096665066), (3360, 0.05121071140956012), (3655, 0.05115503324357752), (2191, 0.0510940284838912), (877, 0.05097653350507103), (292, 0.050922679216370705), (1148, 0.05083662083671055), (1030, 0.05040403154416306), (519, 0.050262126923677014), (213, 0.04994120387224261), (2133, 0.04980509177129307), (2630, 0.04956937912568639), (4682, 0.049460236735972524), (3203, 0.04932718068743929), (227, 0.04920008658511518), (2417, 0.04915660702821214), (4268, 0.049088263988344386), (2294, 0.049052170433438874), (3395, 0.048711556514295325), (2214, 0.048696374494422254), (2579, 0.048478510592321014), (1878, 0.04840253357326083), (2550, 0.04811370697709869), (3374, 0.0476049984463345), (3753, 0.04693769200430518), (2374, 0.046866297331687456), (3974, 0.04674903776474896), (904, 0.04645415083395612), (3294, 0.046322449716325716), (3552, 0.04592279384211177), (2653, 0.0457615306010955), (3091, 0.04575906265168582), (1023, 0.045558292531153045), (637, 0.04548376613359001), (3023, 0.0453930491435944), (3408, 0.045247336634218885), (2151, 0.045191455677896654), (2530, 0.04513628126892337), (67, 0.045054311263593036), (412, 0.04499777605203794), (2893, 0.044782999698202576), (615, 0.04451097598967312), (4456, 0.04429065029178789), (3793, 0.04412647311575747), (1302, 0.04387173801114017), (408, 0.043853757442649355), (1647, 0.04369744706556896), (328, 0.04365866341757779), (438, 0.04348553724740059), (1248, 0.04344812923617739), (1821, 0.04344559003288091), (1358, 0.04344342877629753), (3518, 0.04319480165959025), (2248, 0.04315862525972579), (2694, 0.04310665118240643), (161, 0.043033125299831616), (277, 0.04275917421041775), (1203, 0.04272929050508753), (2012, 0.04262792165388206), (3427, 0.042548403134506634), (682, 0.042492698465643026), (4689, 0.0424494649378072), (1292, 0.042445138393662506), (1369, 0.04243059385278874), (3276, 0.04237801287376475), (172, 0.04220668584225072), (1506, 0.04220082860479026), (1675, 0.04214685008467621), (455, 0.042085554729650726), (3973, 0.04205102354241295), (1850, 0.04168897816625358), (89, 0.041628418231492825), (1871, 0.04139831687862651), (4023, 0.04132236925895962), (2846, 0.04107925144338763), (632, 0.04100383891526237), (3249, 0.040986660788284696), (2321, 0.040928429414776334), (210, 0.04088247145491249), (4488, 0.04078309888330139), (185, 0.04074417450982052), (360, 0.04069819652341172), (1393, 0.04062621679590188), (3209, 0.040338067723669484), (2155, 0.04033483218022418), (1320, 0.04025855325455546), (4588, 0.04021355664322326), (3947, 0.03996794889823666), (3867, 0.039729594642522), (3652, 0.039648883799251446), (44, 0.03964357411800694), (4137, 0.03947511346209145), (4064, 0.039413248587607974), (1527, 0.03928778188294795), (2869, 0.039277179459943724), (3955, 0.03927200743653633), (1024, 0.03868642073589751), (2859, 0.038683978879633346), (788, 0.03858976596848749), (4721, 0.0384639557498118), (108, 0.03836793089547321), (3362, 0.038324870801205474), (109, 0.03828538661766738), (4452, 0.03823412966695315), (1085, 0.03800471423324923), (126, 0.0379226268642486), (3511, 0.03782362849482592), (2187, 0.037782592052199665), (1241, 0.03755636238584566), (2622, 0.03730821873191956), (3486, 0.0372489083408106), (2540, 0.03724731843680105), (4362, 0.03690546937822182), (4443, 0.03669513565815526), (4403, 0.03666923852377671), (2212, 0.03659302829318431), (1676, 0.03653817386160596), (4005, 0.03646792430405763), (2316, 0.03641227516038545), (4396, 0.036399177742229144), (2371, 0.036399126598193415), (774, 0.036346259000791845), (2868, 0.03634466043923758), (2308, 0.03625217589135726), (3280, 0.036178143187619194), (3498, 0.035994728186708645), (4165, 0.03587078718793553), (911, 0.03586316114394198), (710, 0.03584055705508602), (3127, 0.03582377661787935), (2981, 0.03563020298576272), (2716, 0.03560664443073606), (694, 0.03547857158203299), (2375, 0.03541068077817682), (1991, 0.0353274586031122), (3045, 0.035299273142087445), (3983, 0.03526713102814068), (3470, 0.03516408332932406), (3430, 0.03503190671675914), (2365, 0.03500150947569708), (3463, 0.03498162820971881), (540, 0.0348177385786752), (3330, 0.034679585694842474), (2908, 0.03458422671896021), (3102, 0.03450796728415696), (818, 0.03449490104076771), (3004, 0.03440265073516993), (830, 0.034329673046416674), (1702, 0.034316232452105674), (1311, 0.03429835947989963), (1272, 0.034297446259292014), (3731, 0.03427252263404981), (138, 0.03424194189504358), (721, 0.034068931257807605), (4641, 0.03404188789579572), (1146, 0.03397483506413255), (1379, 0.033946445970172594), (1568, 0.03392746338831515), (4594, 0.03392508860200054), (3351, 0.033923628630666836), (1389, 0.03389066980227771), (4703, 0.033872733443701564), (547, 0.03387182716759193), (3255, 0.033811642310570135), (3315, 0.03380313700562276), (1063, 0.03369067273200792), (2123, 0.03364621233996702), (1195, 0.033611749524082246), (1367, 0.03356308493371525), (4152, 0.03355622659595973), (4533, 0.03345609511378315), (174, 0.033421026990190436), (282, 0.033351013355360844), (2082, 0.033274663439315094), (578, 0.03308590480674663), (3656, 0.033077828516836855), (3556, 0.033041772563535715), (4739, 0.03298213256960124), (4727, 0.03295621958838248), (4195, 0.03286161220602958), (1464, 0.032785385162337526), (2122, 0.03264835504354678), (1837, 0.03259566698946049), (1885, 0.03249340367313685), (3466, 0.032444575294000785), (3850, 0.03237659871084385), (334, 0.03231445732726011), (3961, 0.03229837179574416), (3137, 0.03227592098903785), (166, 0.03225708645274067), (4602, 0.032215310408773505), (387, 0.03218333693022817), (935, 0.03211495738826277), (812, 0.03208999966237983), (2517, 0.031974981803784316), (2751, 0.03197094732626835), (3377, 0.0317857307266596), (2147, 0.031770145375205734), (2807, 0.03176279304721947), (2413, 0.031734662158874966), (761, 0.03170541968251368), (424, 0.03159810876766351), (2706, 0.03150661381304651), (2100, 0.03148436064564796), (864, 0.03142537682064097), (250, 0.03139570838475398), (3146, 0.03135180729525015), (65, 0.03130751697713389), (618, 0.03128103093998746), (3376, 0.031192900553483033), (1068, 0.031152672585556415), (2621, 0.03107268746498311), (1976, 0.031033056156957818), (3157, 0.03099183108835659), (903, 0.03096124322865137), (4402, 0.030887023536141686), (1750, 0.030817606245591732), (2782, 0.03079682030271136), (1868, 0.03074307594972561), (2710, 0.03065906847368345), (1398, 0.030605398821314023), (2023, 0.030562204414588644), (2723, 0.030541785307706466), (4590, 0.03043720537456709), (3720, 0.030423082362487988), (179, 0.030390863557088293), (1648, 0.03024915100250057), (4668, 0.03024088275183471), (2198, 0.030149490544090496), (430, 0.029915371733163228), (1173, 0.02990315488630454), (3605, 0.029893812393391953), (3767, 0.0298106636282986), (3597, 0.029797730504689566), (1043, 0.029796886233092037), (3572, 0.029705078830704338), (2114, 0.02968967915904134), (4004, 0.029653313453591002), (2443, 0.029583258960623915), (112, 0.029552125729207502), (593, 0.029512661705924665), (4035, 0.029484335293495357), (1795, 0.029482084470687262), (2014, 0.02947510717254833), (176, 0.02931977480949116), (3488, 0.02930628917915213), (530, 0.02927397731517281), (629, 0.029272377907762187), (2887, 0.02924217136788586), (3420, 0.029227609082715385), (2037, 0.029173560741939997), (1482, 0.029162971951102228), (1137, 0.029061180718773463), (1788, 0.029037718986073963), (1990, 0.028969101287166864), (4177, 0.02894007862646791), (284, 0.028938197410800646), (193, 0.028933786631903352), (952, 0.02888043554297094), (2876, 0.028806004591633152), (1046, 0.02880279021194898), (4548, 0.02880029070132395), (240, 0.028778273981232682), (1095, 0.02877492368155551), (3017, 0.028703436762506113), (2102, 0.02869745620349015), (3751, 0.028694682384320925), (421, 0.028598650883042098), (2481, 0.028532993446814238), (1405, 0.028481933282421327), (1363, 0.028465890381739762), (465, 0.02842071233671727), (976, 0.02840702701732665), (3574, 0.02826710031903069), (2221, 0.0281871015325526), (3313, 0.028175134542224343), (2687, 0.028162774048071073), (3871, 0.02816119411033436), (3156, 0.02806199052769647), (371, 0.027996982113082592), (3904, 0.027995484657460313), (2487, 0.027991689496668394), (1059, 0.027949759751844123), (2013, 0.027922759035429977), (836, 0.027910067811414026), (670, 0.027773082711209075), (3260, 0.027643750601648528), (3852, 0.02750192244124006), (4684, 0.027454978374735085), (2920, 0.02744476942496056), (2791, 0.027435553808670445), (1162, 0.027430178710369), (1845, 0.027421028386942232), (3344, 0.027336661307092038), (384, 0.027297204651682474), (2971, 0.02716766921531714), (4141, 0.027130839839154843), (1970, 0.02712826979252175), (3959, 0.02711252868891448), (4450, 0.027008217155857016), (1720, 0.02696741260569086), (1749, 0.026963767253759936), (25, 0.026842609291643022), (4242, 0.026753315811222485), (1500, 0.026664979305265762), (4701, 0.02661994917872925), (2467, 0.026600105723732784), (459, 0.026531327060031296), (3428, 0.02651208603596278), (3447, 0.026447924479119235), (2020, 0.0263915806478751), (3167, 0.026339138502345004), (1999, 0.026336835017719783), (1721, 0.026296458017575755), (1847, 0.026248398947853673), (2154, 0.02620294161132322), (4731, 0.026106609696443853), (4283, 0.026081167043468648), (1763, 0.026038184058086604), (3684, 0.02600418248144765), (832, 0.02594870160030308), (381, 0.025908352959345397), (1314, 0.02589323109405599), (885, 0.02583989828634756), (2762, 0.02577256757855367), (3559, 0.02576349331181462), (4104, 0.025750848975803542), (3154, 0.025726378336906768), (2276, 0.02570971252977733), (4659, 0.025530817760738452), (3835, 0.025500414728752616), (3285, 0.02546063137299134), (1351, 0.02532229811338546), (1186, 0.02523992997922054), (3010, 0.025090044876655532), (2094, 0.025078329399692727), (1572, 0.02498157216236746), (124, 0.024936949392841384), (3868, 0.02483368071612487), (2011, 0.024792501874342565), (4053, 0.024769861985338718), (967, 0.0247374448930276), (3711, 0.024659503696330833), (824, 0.024617291622513745), (269, 0.024582854151988538), (3801, 0.024568950064215275), (1544, 0.024475707417011102), (116, 0.024456461658093957), (345, 0.024379659369703682), (4554, 0.024320328008029097), (3692, 0.024276632029807402), (2689, 0.02426457102844406), (3913, 0.024232183790716434), (942, 0.024204936216329114), (657, 0.024183680805973475), (3810, 0.0240959931638891), (2449, 0.024060694692719865), (2157, 0.024054905356084882), (917, 0.02397194708892173), (1283, 0.023873627970046236), (2560, 0.023811180535949147), (2638, 0.023734327317531737), (398, 0.023671826865300234), (2484, 0.02366397060158626), (4128, 0.02365096956317496), (2718, 0.02364930267202789), (3446, 0.02356198194970959), (4281, 0.023466165556037134), (175, 0.023439289553191335), (672, 0.023373836817108862), (29, 0.023371113117583945), (2649, 0.023337601242948338), (1412, 0.023333661770383228), (1865, 0.023289131322763636), (1397, 0.02325150933529976), (1997, 0.023152665435428404), (1935, 0.023152602534014646), (1757, 0.023152103999931704), (4608, 0.023150740148436096), (3153, 0.023005693544920394), (4050, 0.02278667763225954), (3839, 0.02272666317851413), (706, 0.022678865131764075), (1585, 0.022582292542740655), (2096, 0.022562927025388146), (1362, 0.022476008523845924), (2647, 0.022466009168467846), (4395, 0.022449464670711947), (15, 0.022438006880732456), (515, 0.02243465540610699), (4534, 0.022411122469524383), (691, 0.02238747361351695), (2040, 0.0223769753876576), (261, 0.022359027981707195), (1141, 0.022358985621951454), (3095, 0.02234511467247828), (1015, 0.02228484838078456), (68, 0.02223685897042976), (3083, 0.02222225713774342), (88, 0.022127811480121308), (1515, 0.022082935255983212), (1657, 0.022031175083295804), (3319, 0.022002740452289053), (1505, 0.021958155688132187), (4288, 0.02192708458810873), (613, 0.021912569490861435), (1098, 0.02189634814895776), (3778, 0.02182942431166002), (3345, 0.021820673655909496), (2777, 0.02175884751576454), (1492, 0.021751592037262703), (3483, 0.021680130187117595), (1861, 0.021631840254266472), (1996, 0.021616482530556723), (2646, 0.02159438897344292), (1707, 0.021588852255986744), (442, 0.021568661790479244), (3923, 0.021438195502408573), (2668, 0.021416077316450288), (3433, 0.021385308923294166), (1629, 0.021365900853244864), (2210, 0.02126992137477938), (1270, 0.021236778696745433), (1817, 0.021216253841060996), (1942, 0.02119845450542527), (2598, 0.02118237907094248), (3384, 0.02115297539438609), (1652, 0.021148284524838405), (383, 0.021145840872298156), (1033, 0.020979137699520714), (1671, 0.020935292241616447), (3553, 0.020934906625963756), (3222, 0.02089246973708652), (3492, 0.020877522748551546), (4016, 0.02085273154625119), (2440, 0.02082093154912678), (3665, 0.020815430058392644), (1985, 0.020815104331487234), (3927, 0.020790703400268524), (1003, 0.020745408788046423), (2055, 0.02059835979675117), (2767, 0.02059591075681511), (3978, 0.020592699996808322), (4176, 0.020576815962035578), (763, 0.020565915946619516), (4466, 0.020551464464730263), (4189, 0.02052262660529992), (2362, 0.020480467099463048), (1678, 0.020418520584822738), (2174, 0.0203930754594567), (3469, 0.02033839553201872), (1471, 0.020322725977268787), (1261, 0.020310975364599033), (2301, 0.020299928947436357), (1017, 0.020282059832911852), (2808, 0.020266456931130397), (1510, 0.02026404497087454), (779, 0.02022197087156822), (870, 0.020220350728702888), (1257, 0.020196887925421146), (3471, 0.020196499635912312), (3352, 0.020175921774596168), (330, 0.02017135613683329), (1385, 0.020088442041880022), (4382, 0.020071747587541534), (1838, 0.02006249434043536), (2501, 0.020028462149508576), (4436, 0.020028213985938726), (2582, 0.02000062085003843), (947, 0.01997884633654673), (1132, 0.019930187670721022), (3504, 0.019920303438832488), (2524, 0.019862501806843905), (2760, 0.01985412943667074), (4658, 0.01983006256784381), (142, 0.01981343533969084), (1927, 0.01978438899690451), (643, 0.01977797473889157), (3508, 0.019773463917609015), (2018, 0.019772245057680115), (3934, 0.019716208843084823), (2841, 0.019708317189742627), (3857, 0.019699881937959), (2867, 0.019690082790879256), (2995, 0.019667947625722066), (2768, 0.019650518591130657), (4492, 0.01951216348882165), (1052, 0.019505808940627152), (3144, 0.019413578317625056), (4380, 0.01938917371394532), (858, 0.01935063368718219), (4156, 0.019330976044547723), (2932, 0.0192970502646581), (463, 0.01922647656976821), (4679, 0.019197615680286006), (2618, 0.019191849462074435), (329, 0.01917883900577064), (2469, 0.01915963265348704), (199, 0.019090498911958343), (4007, 0.01907571150210479), (669, 0.01899549827995604), (566, 0.018979611869466187), (145, 0.018931946554894434), (2736, 0.01892600096914135), (4149, 0.018909670795848363), (1202, 0.018832533884264945), (3111, 0.018787335033680193), (553, 0.018753774514009277), (83, 0.018736939983929567), (2645, 0.018730458065773607), (4465, 0.018725557140515617), (1386, 0.018723879600787367), (3403, 0.01871766587426787), (2607, 0.018701455348414615), (33, 0.018682357597363232), (4088, 0.018651557888109835), (3284, 0.018643801550421446), (768, 0.01861996802597942), (968, 0.01854813727319467), (3853, 0.018547687905016114), (2650, 0.018542754839748963), (204, 0.01852971499762726), (2368, 0.01852531655216113), (2237, 0.018499908280149975), (46, 0.018471768792083492), (4012, 0.018460291214543127), (1937, 0.018435561221395037), (4203, 0.018398711757092005), (1872, 0.018392076738391154), (1443, 0.018341873241261304), (2513, 0.01829706506018771), (1074, 0.01826640604410256), (3000, 0.018129691390039795), (160, 0.018126217570608703), (4028, 0.01806265347080268), (4722, 0.018052020303557476), (689, 0.017992824794915988), (1384, 0.0179849827985428), (147, 0.017968719270714025), (3875, 0.017967969157729594), (3416, 0.017954090388596484), (757, 0.01795073487016047), (3097, 0.017945589780968656), (1175, 0.01792545772524289), (123, 0.017922714291584586), (364, 0.017892848394355537), (1843, 0.017892434724940724), (1226, 0.017874952990279528), (2167, 0.017871249946301973), (222, 0.017831281253785157), (2035, 0.01778751503048144), (4349, 0.017776423847042838), (1365, 0.017739976531861233), (808, 0.017737191290616534), (4081, 0.01772173032903252), (3828, 0.017676387358057474), (2070, 0.017645823896477113), (2745, 0.017631525354653697), (4640, 0.017630157080967025), (3766, 0.017618210644247956), (1274, 0.017618109039007367), (2823, 0.017614170259872303), (1129, 0.017593568984765766), (796, 0.017590299008451007), (2093, 0.017575316129726955), (2795, 0.01754519582667019), (3279, 0.017506211059004052), (106, 0.01747311582556149), (1112, 0.017460169761992436), (4637, 0.017435004444350578), (1245, 0.017417265797256196), (4504, 0.017411485070279856), (342, 0.017406606094352774), (61, 0.017385970861924453), (2553, 0.017367152775932287), (4724, 0.01735464147556258), (3085, 0.017339398111220976), (2207, 0.01727960048428298), (1579, 0.01725285046374932), (3528, 0.017179580857520357), (144, 0.017099225510857977), (3129, 0.01706584928934432), (1493, 0.017050894548781333), (1064, 0.017037448385316636), (1403, 0.017025606190636988), (3019, 0.017022285546707948), (1759, 0.017013292852992593), (4399, 0.01700920397015526), (776, 0.016987401716266937), (3675, 0.016981547481063137), (4321, 0.01696689996989628), (2742, 0.01695826416088237), (203, 0.016948824671606758), (4440, 0.01693724447016682), (3036, 0.01693366050579872), (2885, 0.01686882076691517), (916, 0.016854766665650316), (4244, 0.01684978082101269), (2119, 0.016838667895242472), (3976, 0.016834982138215708), (2110, 0.016833366904166012), (1377, 0.0168252871843197), (409, 0.016801864361300534), (3226, 0.016792453504543184), (209, 0.01678992670899384), (4735, 0.016749320675206243), (2654, 0.016724155429041532), (2149, 0.01668614461457467), (212, 0.016666650591658536), (677, 0.01666123035283852), (2258, 0.016631895459225464), (3213, 0.016596079211215656), (2712, 0.016551441177927135), (3098, 0.01654100923437442), (173, 0.01651765469183297), (433, 0.016508465407928424), (1609, 0.01649134744127161), (2347, 0.01649083872865928), (638, 0.016487728694335693), (794, 0.016484903710614188), (279, 0.016484311374168267), (3275, 0.01647105112583324), (937, 0.016468108905842813), (2161, 0.01640600106866428), (795, 0.0163322820305915), (3883, 0.016290082305214462), (1417, 0.01627625476142988), (3228, 0.01624569876800652), (551, 0.016240884767716575), (860, 0.016231731930128994), (511, 0.016213633117922125), (2406, 0.016196683204061244), (280, 0.016188787172011342), (1275, 0.01618446186656046), (3640, 0.016123845368907225), (218, 0.016068009208689005), (3012, 0.01605705484393656), (1254, 0.016027487066075864), (701, 0.015939552300220358), (876, 0.0159234165872376), (2917, 0.015920606117954133), (929, 0.01591706649981294), (1216, 0.015915152046869954), (3043, 0.015902257902686498), (1716, 0.01588562472802247), (1774, 0.015882000993499498), (1184, 0.015873572749295746), (2229, 0.015866492117778637), (3694, 0.01586446839082977), (853, 0.01586074190872619), (2275, 0.015859948982596014), (3541, 0.015847566760916382), (533, 0.01584083127242615), (1045, 0.015831053142528757), (21, 0.015793755266110425), (2353, 0.01579022888202157), (458, 0.015772503338473978), (1523, 0.015769996222310977), (4246, 0.01576229490259828), (1445, 0.015753084830251257), (1018, 0.015717411065743165), (4583, 0.015682203822968005), (3661, 0.01566919687180387), (3895, 0.015661879824545363), (1325, 0.01566059158960338), (692, 0.01565643884873553), (4531, 0.015651266522432518), (343, 0.015632476759549707), (48, 0.015601274971403937), (85, 0.015586014731701818), (4134, 0.015578990653738368), (586, 0.015577110613759979), (3407, 0.015575724012023565), (481, 0.015535623018624524), (3299, 0.015510215293546875), (1115, 0.015494616848234343), (4669, 0.015480941874531438), (4709, 0.015477053230169329), (1361, 0.015474561866660531), (450, 0.015471708431341363), (3713, 0.015468973191662913), (2290, 0.015453159984540398), (867, 0.015437154818903195), (888, 0.01541872871229251), (287, 0.015400871168044237), (1119, 0.015397935452319572), (1512, 0.01537865456976371), (4627, 0.015377397225922967), (673, 0.015358169976249229), (3306, 0.01535289408907474), (896, 0.015352196471501708), (3462, 0.015345384767520004), (1224, 0.015293827546936593), (40, 0.015283524470743722), (358, 0.015283445370627044), (296, 0.015264644821929274), (429, 0.015245839927307816), (3086, 0.015241907476615621), (2996, 0.015241123212230666), (2376, 0.015240343841777866), (4116, 0.015226479625205059), (437, 0.015217259797671207), (2254, 0.015211603334294685), (3642, 0.01517349574580738), (787, 0.015165925479626146), (2196, 0.015164579833759184), (2053, 0.015101796166465344), (374, 0.015097301588967132), (1741, 0.015084969917501865), (4482, 0.015084910224322358), (762, 0.01508277019527416), (3958, 0.015075427182606922), (1906, 0.015045756984310753), (620, 0.015045695784899728), (4314, 0.015041088816469811), (3580, 0.015000900241200847), (4231, 0.014997193519379993), (2522, 0.014961422811072666), (4123, 0.014960817971628501), (1880, 0.014960489214803169), (3862, 0.014953437529103972), (51, 0.014946633679296597), (3375, 0.014923864020332496), (3437, 0.014904150003369709), (2639, 0.01488825090838676), (3797, 0.014884790379191687), (2298, 0.01488319028239434), (3777, 0.014873370332342926), (1897, 0.014866148107479972), (1687, 0.01485528200547204), (3558, 0.01485351294857699), (3253, 0.014848291701935362), (4474, 0.014830732124772008), (2027, 0.014804850198260505), (3421, 0.014783942144138503), (2919, 0.014781247040184015), (1853, 0.014761587238959763), (543, 0.014738487542971938), (622, 0.014728019763134972), (1278, 0.014716076665718763), (3210, 0.014699128226967825), (208, 0.014693944408735875), (986, 0.014693018194759187), (2334, 0.01469206911367112), (4379, 0.014690921813047176), (4178, 0.014665494263007787), (43, 0.014662271352094065), (3699, 0.014658680920220069), (2644, 0.014641158867547934), (502, 0.014631620334757164), (652, 0.014619268891597526), (1682, 0.014619054026718068), (879, 0.014573730342702769), (584, 0.014565626151830009), (1919, 0.014557782246489912), (1290, 0.01455179965824096), (470, 0.014551431859163733), (1983, 0.01454179451504569), (842, 0.014504393289436816), (1895, 0.014500525138129931), (447, 0.014490178478422301), (2931, 0.014479989787923425), (1116, 0.014465534481534904), (1779, 0.014403260328377637), (2695, 0.014368374732564627), (1740, 0.014366644362442098), (1192, 0.014354434971342266), (1232, 0.014326509746043402), (895, 0.01432087990567228), (4068, 0.014309521743934777), (2988, 0.014307456949527089), (4503, 0.014306396769217994), (482, 0.014296525516191878), (1152, 0.0142867397213588), (957, 0.014279689069911419), (510, 0.014270784923384572), (3807, 0.01426406590356864), (534, 0.014256021371642546), (899, 0.01425125494949376), (1058, 0.014237595252413518), (1483, 0.014229620919276499), (1114, 0.014220479461311934), (252, 0.014219135928308124), (370, 0.014216265152508702), (2939, 0.014213718885937171), (2284, 0.014210863759618157), (2784, 0.014205158555388186), (3295, 0.014195248508962427), (2295, 0.01417624302067398), (2961, 0.014172071099652444), (1335, 0.014164280776495985), (1509, 0.014157773219802992), (1252, 0.014154938569011184), (1413, 0.01412696210921715), (1331, 0.01411668146101836), (1337, 0.014115785424970427), (4000, 0.014096478444254651), (3670, 0.014091636021220572), (934, 0.014061184671486933), (251, 0.014059058692907968), (2815, 0.01403829372871925), (3356, 0.01402745963830346), (181, 0.014023728066034353), (4673, 0.014018486747657814), (3535, 0.014011948197055202), (4387, 0.014005649694306632), (4255, 0.013953077593872994), (874, 0.013953006922030397), (760, 0.013943521122237495), (2216, 0.013920100093459602), (989, 0.013873560159199386), (988, 0.013870757858350536), (1621, 0.013870535408646375), (799, 0.013836720492987488), (2468, 0.013829066209985549), (1035, 0.013824218516271696), (1343, 0.013822893672110976), (406, 0.013819853584159584), (317, 0.013816220181430684), (2727, 0.013795843911773548), (4486, 0.013763206851859552), (775, 0.013759514748172748), (1401, 0.01373610423675151), (2024, 0.01373382019874142), (3708, 0.01372335468473182), (3741, 0.013718830595396804), (3861, 0.013704880166655843), (676, 0.01370082308648517), (2632, 0.013700340473287692), (1945, 0.013684013844901217), (1876, 0.013670539397109419), (3328, 0.013660492192060083), (2366, 0.013658384289909528), (2045, 0.01365285172409918), (4610, 0.013651196935671194), (1967, 0.013626040059783628), (3660, 0.013607964371598136), (1815, 0.013591736323563742), (87, 0.013543862401020757), (1461, 0.013543026744763775), (4124, 0.013536156645222026), (3819, 0.013532024664323856), (1478, 0.013521229658848), (1481, 0.013517676138940022), (3370, 0.013509767527781534), (231, 0.013509144800893219), (4475, 0.013500996402449936), (1360, 0.013486408582743708), (1465, 0.0134755739955716), (7, 0.013464555491972799), (2910, 0.013464326549335607), (814, 0.013433004778041857), (236, 0.013429210335296937), (753, 0.013420577049928852), (4747, 0.013398552267768732), (1128, 0.01339227419400311), (2486, 0.013389266731302267), (276, 0.013376809429551832), (3312, 0.013376529525198851), (545, 0.013376232886267513), (3630, 0.013372259617575462), (13, 0.013358343526164034), (52, 0.013351068858658105), (496, 0.013346087966215118), (866, 0.013338034575137154), (18, 0.013328515958953131), (878, 0.013328205384044327), (1986, 0.01332382862080635), (2008, 0.013313195313509166), (2224, 0.013309844977407576), (75, 0.013303467099977286), (4374, 0.013302831551871112), (3750, 0.013300974811545536), (2460, 0.013299513197860097), (905, 0.013281776780323851), (2805, 0.013267021073088414), (1665, 0.013254515832611623), (4576, 0.01324597810422765), (1183, 0.013239472723822332), (1317, 0.013230241917379376), (4121, 0.013193490920915336), (207, 0.013175488116215016), (1667, 0.013162370463246), (1680, 0.013139514064804729), (1713, 0.01313623751582927), (1591, 0.013123983377150629), (1802, 0.013113448601323125), (1864, 0.0130836179211028), (1595, 0.013067681763133379), (2969, 0.013062712308176933), (2121, 0.013061887248481565), (356, 0.013060245170366047), (900, 0.013055437769171667), (332, 0.013050112656783384), (3854, 0.013044686466315302), (4617, 0.013029866141770926), (1239, 0.013023720201633948), (2177, 0.013017403924795341), (1796, 0.013012194413335221), (1255, 0.013008822719397302), (1107, 0.013003850506506022), (4524, 0.012991040043389048), (3119, 0.012985953776448716), (1519, 0.012940604929639048), (829, 0.012912869732554882), (125, 0.01288964327978259), (604, 0.012882643159323807), (963, 0.012879860150720098), (906, 0.012863076405768904), (4512, 0.012855691053074523), (1739, 0.01284661747885918), (1000, 0.01283610375161107), (2066, 0.012825950279642874), (1237, 0.012803171937865846), (3318, 0.012784554332910633), (3110, 0.012773203811883151), (3325, 0.012769002478000188), (833, 0.012759908475756754), (2383, 0.012757227429645975), (678, 0.012750020646900053), (1681, 0.012675892780688118), (742, 0.012666727149244095), (2252, 0.012664470437904356), (2000, 0.012645465823925938), (2978, 0.012604596620772802), (527, 0.012562347308941558), (1567, 0.012562248319836445), (1293, 0.012560249375540808), (3659, 0.012558723411526715), (1752, 0.012555988794885458), (609, 0.012523960067835195), (1654, 0.012507203858117684), (70, 0.01249947095058676), (149, 0.012493778536234797), (1342, 0.012493091608812694), (653, 0.012489841085806738), (3637, 0.012479084451598486), (1005, 0.012474413987933565), (3076, 0.01247383323768723), (1988, 0.012468396517045836), (2874, 0.012457459293890888), (875, 0.012447619551264472), (407, 0.012446586122991979), (4227, 0.01244388591984082), (3768, 0.012432620763165028), (667, 0.012431589360811686), (2963, 0.012425066679073503), (2052, 0.012415899312407736), (2235, 0.012413202571730696), (1104, 0.012409204591976822), (537, 0.012388249866352312), (4510, 0.01238247720875068), (1376, 0.012375800286853972), (2568, 0.012369480935325784), (1949, 0.012355858685734163), (2803, 0.012354881618817162), (2617, 0.012327023899158483), (844, 0.01231147254596724), (733, 0.012302407611303055), (1812, 0.01226454872584337), (1799, 0.012264519011014855), (190, 0.012262634727096353), (4265, 0.012254915193976664), (3108, 0.01225401607994165), (3849, 0.012225481780368797), (3387, 0.012217958648982348), (2412, 0.012206785560829353), (936, 0.012204703505470198), (1220, 0.012202933770225945), (1787, 0.012197985506031656), (654, 0.012190655464603758), (1009, 0.012189135693322299), (2780, 0.012178194142958329), (1185, 0.012172152885150922), (1934, 0.012164056506953184), (2913, 0.012163637171225839), (3507, 0.01215932252110584), (1832, 0.01214407798237827), (418, 0.01213600604880381), (635, 0.012135113977632287), (1436, 0.012125348458058568), (1047, 0.012123590684441443), (928, 0.012122764298780037), (648, 0.012122209341498795), (664, 0.012115005063144418), (2447, 0.012114130347986788), (800, 0.012070507572911362), (2474, 0.012065513397042996), (2759, 0.012062435942722938), (2602, 0.012057728576174723), (732, 0.012041443314929148), (1714, 0.012040894138977902), (201, 0.012023055197990316), (1432, 0.012005865407186542), (4337, 0.011995215277082059), (4095, 0.011982284812504247), (4469, 0.011962644387534268), (1157, 0.011955416047691592), (341, 0.011948426736042912), (2771, 0.011948028300446287), (130, 0.011931290573271521), (918, 0.011927271939390926), (82, 0.011919712698243167), (1542, 0.011919493395640395), (3999, 0.011912995997785357), (2788, 0.011911938381321277), (1099, 0.01190138545578851), (2005, 0.011901375289653427), (3065, 0.011898268648106345), (2145, 0.01188556816305913), (452, 0.011877641838412785), (1958, 0.01185196554124135), (684, 0.01183166327113782), (931, 0.011829093318501575), (1194, 0.011825144944855343), (1264, 0.011798757117029362), (1215, 0.01177373079996262), (2697, 0.011720631194042559), (1310, 0.01171165492041088), (1407, 0.011698963812180566), (1870, 0.011697378432374504), (86, 0.011693087337682151), (3317, 0.011673279840343422), (3747, 0.011662982961808387), (1455, 0.011662165767979377), (560, 0.011659270488911291), (1419, 0.011656651131012096), (4148, 0.011612032393771015), (1266, 0.011601354432013251), (4695, 0.01159324993741748), (523, 0.011590438987032003), (1090, 0.011575295195749789), (1053, 0.011556249069910249), (4344, 0.011529400043598596), (4623, 0.01152524472204856), (1396, 0.01151108707305807), (3756, 0.011511054953085966), (4543, 0.011480775948996942), (2336, 0.01146228156410784), (313, 0.011443098576012542), (1249, 0.011425713403238733), (500, 0.011424399495150967), (4596, 0.01141451920478715), (1303, 0.011413719935105893), (1989, 0.011407228369121135), (2306, 0.011399700016467784), (4477, 0.011388452725554452), (2280, 0.011381880119895205), (244, 0.011374544227916266), (1406, 0.011360948014805496), (1019, 0.01135083169602102), (2918, 0.011345853335484993), (2421, 0.01133609577998146), (3957, 0.011335010969359535), (4481, 0.011328115792536987), (2925, 0.011326430434014344), (3582, 0.011313991941230542), (825, 0.011299279235051552), (1230, 0.011291141277001739), (2178, 0.01128030625943574), (1761, 0.011278639618286184), (2206, 0.011273695540555233), (2057, 0.01124964690793694), (809, 0.01124736211193016), (790, 0.011204143905889096), (4216, 0.011190645567039465), (915, 0.011182888812001), (3118, 0.011175626465797752), (72, 0.011151930087673938), (2688, 0.011138505349355116), (1012, 0.01112581227668433), (3240, 0.011120550039301331), (1655, 0.011111463687366553), (1873, 0.011103361902500337), (2464, 0.011102279688025147), (1420, 0.011093570255181769), (719, 0.01106891575190635), (1262, 0.011046802885525868), (1852, 0.011046009704517183), (2625, 0.011023671603933702), (1957, 0.011022484896189438), (1773, 0.011016993471988517), (273, 0.010996741157454717), (57, 0.010996722266650301), (402, 0.010991046631238493), (1630, 0.010959336769888618), (3794, 0.010941326210303375), (538, 0.01093635611478121), (2480, 0.0109349030075137), (4325, 0.010932350790752006), (827, 0.010929639016101299), (532, 0.010926931848565333), (4293, 0.010926804773281909), (949, 0.010922208689253043), (1551, 0.010921424961193521), (274, 0.010898559381274507), (322, 0.010893859383938165), (1054, 0.010860261007548517), (281, 0.010855215243992657), (1992, 0.010854033063555174), (4619, 0.01085148290266693), (1789, 0.010838625687998468), (304, 0.010819007098042094), (1696, 0.010813414330735757), (2555, 0.01081315249583957), (2062, 0.01080932473904336), (2346, 0.010800206754029387), (4235, 0.010799610162839327), (3775, 0.0107706407618385), (1259, 0.01076179773147536), (3992, 0.010761092920202466), (291, 0.010727513353182208), (170, 0.010722072122138238), (555, 0.010720583836352266), (321, 0.010712004038011133), (4048, 0.010707705867524606), (3860, 0.010706960753072975), (2769, 0.010704928460425221), (3993, 0.010686674558770549), (2429, 0.01067010056569857), (683, 0.010653603898319774), (2680, 0.010652950621465856), (3094, 0.010651299721730116), (801, 0.010646941941967504), (3423, 0.010631698683987464), (3951, 0.010623276750868388), (4187, 0.010619128445625427), (1858, 0.010615841197969399), (3524, 0.010614595778466195), (4164, 0.010596218771501544), (271, 0.0105955049250176), (417, 0.010593333523197), (3984, 0.010576331520677525), (2162, 0.010574146247762567), (4032, 0.010572260437364773), (1923, 0.01056779651468754), (695, 0.010563666670750566), (266, 0.010559373213377573), (2849, 0.010548768986233744), (3924, 0.010547599993568458), (3426, 0.01053473959774481), (3070, 0.010531885840559682), (1754, 0.010530557371314407), (148, 0.010527360565437573), (2097, 0.010515122188053252), (1236, 0.010504276080678665), (3373, 0.01050050494095597), (3099, 0.010464682363825117), (2992, 0.010464185839616853), (501, 0.010454048895291794), (4366, 0.010449654667626516), (468, 0.0104324352161531), (1061, 0.010423860319322766), (2403, 0.010418737919020194), (1723, 0.010415891398557399), (1662, 0.010405985506220643), (1874, 0.010386324313026659), (333, 0.010381116740186044), (2871, 0.010375424400342536), (2739, 0.010372481106212202), (4553, 0.01037098468802996), (2505, 0.010363630308515878), (3903, 0.010348474963123787), (4551, 0.010336533131030869), (1694, 0.010327744267258649), (2051, 0.01029576074887787), (2049, 0.01028554935576744), (737, 0.010275565263225865), (847, 0.01026756630540068), (47, 0.010265974397174735), (485, 0.010260525445869613), (2546, 0.010238857020418131), (2116, 0.010210047884889955), (2936, 0.010207525112866735), (2740, 0.010207439796881886), (1513, 0.010187008842112336), (1658, 0.010171969643633393), (483, 0.010147106986387914), (2436, 0.010140646284485542), (354, 0.010127114974996073), (1348, 0.010125022656736813), (4605, 0.010125009023628966), (1339, 0.010116677395132953), (2209, 0.010113806077092669), (1727, 0.01010411766366555), (3232, 0.010097615703035783), (1234, 0.010097242572565005), (99, 0.010086400745824745), (1418, 0.010078083303699857), (792, 0.01007471549406173), (1736, 0.010070759771904731), (2929, 0.010065811281411326), (1712, 0.010065288544223519), (206, 0.010040681561341025), (4096, 0.010039481625442107), (715, 0.010030124438439529), (3142, 0.010012826053834682), (2016, 0.009980346355885083), (120, 0.009966408556762972), (4106, 0.009960181287101702), (4435, 0.009959425093133821), (3949, 0.009955383124914377), (4033, 0.009949889344623349), (542, 0.00994650009748126), (1798, 0.009943750565013187), (2915, 0.00994234379186097), (327, 0.009932008024578519), (3297, 0.009926612421001527), (3674, 0.009915954083958756), (2126, 0.009915178578059528), (216, 0.009910033400088258), (3822, 0.009893302607637084), (979, 0.009865046568479025), (1300, 0.009861065206170574), (4371, 0.009848148812138469), (3382, 0.009844615197116961), (621, 0.009839582568634191), (1951, 0.009833856370533703), (270, 0.009822561333536936), (2074, 0.0098215600326971), (1708, 0.00980399502725132), (994, 0.009783121289221148), (2820, 0.0097781689898257), (1781, 0.009768847866704726), (243, 0.009768078599665303), (1092, 0.009765806291610004), (806, 0.009759531816628107), (0, 0.009758882373553546), (1440, 0.00975525414462502), (4052, 0.009745478878945842), (2489, 0.009725378433137644), (3264, 0.009723592623622967), (1442, 0.009722649481310172), (2565, 0.009718613786811506), (5, 0.009711760308286195), (3919, 0.009696280790582438), (105, 0.009689215223879718), (3635, 0.009687088210330137), (894, 0.009680467815374297), (1619, 0.009677150462510766), (2633, 0.009660067576422874), (4546, 0.009647973480794011), (3679, 0.00963604713943944), (1359, 0.009633269562715699), (1685, 0.009626187705844766), (544, 0.009614504903307413), (2964, 0.009607345150054668), (2934, 0.009607171647723407), (1922, 0.009599596116420696), (1334, 0.009599538734396836), (2655, 0.009585038444454184), (4158, 0.009568664582851182), (3218, 0.009563779668150606), (3155, 0.009552409016218587), (970, 0.009547258935325644), (1006, 0.009535504970559059), (3612, 0.009526834645791411), (2418, 0.009522267568609993), (2250, 0.009522241217556732), (3599, 0.009513335993262118), (2080, 0.009510891060747616), (288, 0.009490514268868308), (2545, 0.009489630680371366), (2789, 0.009477852670134863), (4025, 0.009477378468608978), (2601, 0.009457066881753646), (1048, 0.009455743499728626), (1494, 0.009455192161064), (2197, 0.009449390301131285), (435, 0.009444263200294917), (78, 0.00944425027924753), (2977, 0.009435122390677925), (1438, 0.009431563094404145), (3888, 0.009428505990005985), (2144, 0.009422292683784673), (472, 0.009417265144961731), (1124, 0.009412452184467287), (2512, 0.00940846219271459), (2494, 0.009401556688980885), (3215, 0.009397984194626003), (1182, 0.00939679849763223), (3386, 0.00939489048659552), (1160, 0.009388644922197948), (4685, 0.009386546950491294), (3689, 0.009376808428066962), (1475, 0.009373099569940898), (2640, 0.00937138125194854), (1688, 0.00937084049385329), (4442, 0.009364931162748039), (668, 0.009363052062020769), (396, 0.00936092419806391), (1382, 0.009357362670641673), (2744, 0.009355633333395154), (1338, 0.009352130816851684), (2798, 0.009338330179330669), (1075, 0.009330964559372693), (2029, 0.009312405947881056), (3536, 0.009297646411867741), (2752, 0.009296499121185423), (2886, 0.0092947889143563), (2255, 0.009289385895440663), (631, 0.009273247206086264), (1279, 0.009271980595376457), (1860, 0.009261057065431235), (4444, 0.009252682443192887), (353, 0.009242941183724776), (2279, 0.009239511893937949), (2303, 0.009236008282129653), (3733, 0.009214433597119704), (2075, 0.009196689508554736), (4612, 0.009180749090830321), (1936, 0.00918047578666913), (897, 0.00916933561686679), (3171, 0.009168362568767173), (3293, 0.009162718936547357), (850, 0.009160921239743065), (4192, 0.009158650875690108), (921, 0.009154163449165514), (1854, 0.009146870943566875), (1582, 0.009140303304293117), (2277, 0.009139663950047146), (4060, 0.009139449636198805), (828, 0.009139192730935532), (3643, 0.00913679201225566), (2831, 0.009115067705754496), (817, 0.009106039576498194), (1077, 0.009091669593774585), (182, 0.009082411843633039), (2600, 0.009081828802125904), (3067, 0.009078330642204108), (2980, 0.009064354711100727), (697, 0.009051300260029222), (2948, 0.009045199889659072), (3596, 0.009044737885519885), (3346, 0.009040257460622713), (434, 0.00903775443363713), (1087, 0.009031959047977519), (1948, 0.009030871314924785), (3237, 0.009028942567497287), (939, 0.009026624079698693), (2879, 0.009016830915183838), (4660, 0.009014744440451413), (2463, 0.009010497806179255), (1020, 0.009009318587204348), (104, 0.008995862246947471), (1612, 0.00899219889758364), (1900, 0.008979053643285715), (2109, 0.008973040544142077), (111, 0.008970146757745047), (2193, 0.008951517139617483), (79, 0.00895045780608401), (4710, 0.008949282031119284), (2228, 0.008946627578884923), (464, 0.008935152722242325), (446, 0.008934868518683727), (3667, 0.008923455350863085), (346, 0.008919703174331963), (96, 0.008915092095146335), (2363, 0.008912816453507442), (1620, 0.008907225029691337), (3941, 0.008906589385611119), (558, 0.008903689505833704), (2698, 0.008887939634901993), (1807, 0.008872148879822942), (4336, 0.00887211227097717), (4502, 0.00886631843977762), (2103, 0.008865699828798654), (4511, 0.008847497391925429), (651, 0.008844842325599844), (19, 0.008838480746941841), (2087, 0.00881220672583604), (3046, 0.008807162796934057), (948, 0.008793203338257486), (1096, 0.008787669743031586), (119, 0.008767161340669342), (3120, 0.008765605174682568), (4122, 0.008752643524887315), (164, 0.008752254136867125), (2778, 0.008748935328677002), (197, 0.008746373197699253), (1429, 0.00874065251433323), (3267, 0.00873576603560554), (3151, 0.008733244049142004), (3826, 0.008724044762357365), (3638, 0.008723710458432343), (4603, 0.008721055027937692), (782, 0.008707397840481794), (838, 0.008706689746254099), (2309, 0.00870383855116949), (3123, 0.00870362031312692), (1446, 0.008701766360846177), (2077, 0.008688838217507168), (3521, 0.008679453594178566), (2572, 0.008662718692399238), (1701, 0.008659853312288301), (3418, 0.008653179805086224), (1276, 0.00865144142885222), (962, 0.00864057585874329), (4664, 0.00863480424233276), (3399, 0.008633525179210276), (966, 0.008620653764071402), (2473, 0.00860482150655284), (2143, 0.008600512805028366), (4163, 0.008594210227588571), (285, 0.008587407681844694), (3784, 0.008587177789081704), (3246, 0.008579230027962952), (1793, 0.008577840640997755), (2812, 0.008575955852976113), (4257, 0.008566473830530219), (2264, 0.00855405233478389), (3901, 0.00854775814394718), (3956, 0.008547283563660583), (1710, 0.008544533719172109), (3954, 0.008544409448365823), (1514, 0.008540463836080817), (2459, 0.008538448851336236), (1206, 0.008535752872225104), (2065, 0.00852749208078989), (851, 0.008511184357202725), (734, 0.008507465746289602), (2581, 0.008484402953360342), (1387, 0.008467092417641608), (307, 0.008462473898255928), (4490, 0.00844156601915344), (4232, 0.008438608564805444), (2188, 0.008426670465418427), (766, 0.008410844884941248), (2265, 0.008407805704731618), (2089, 0.00840077847632415), (449, 0.008397217288350115), (368, 0.008368017395552747), (1776, 0.008367633044248687), (2427, 0.008338700360461963), (3389, 0.008334180131956491), (3829, 0.008328976540652181), (4412, 0.008319326392608573), (4205, 0.008314716791969833), (1477, 0.00830286937032028), (32, 0.008302553423817353), (183, 0.008300492203054411), (461, 0.008300099157123708), (1538, 0.008295086160074523), (3329, 0.008292547646433251), (1308, 0.008289355723706936), (1650, 0.008279727113144468), (1730, 0.00827194035351313), (1920, 0.008269148820880038), (816, 0.008258676893786588), (1050, 0.008254557010002987), (4649, 0.008251533339065963), (1690, 0.008240819493388823), (1875, 0.00823689621211486), (428, 0.008208750598382566), (2236, 0.00819093399666268), (2635, 0.008184000277791537), (443, 0.008182041493720989), (2285, 0.008179897296547514), (4707, 0.008168009276892789), (1968, 0.008163907176147806), (4699, 0.008152903375402346), (1540, 0.008140815803304642), (1539, 0.008138212102366257), (1764, 0.008137784091921651), (4105, 0.008137144937599632), (2881, 0.008131312564537155), (597, 0.008126473062427031), (2076, 0.00812255090947868), (705, 0.008118273455435213), (3880, 0.008111132150096782), (1971, 0.008107096662809489), (4522, 0.008095006673228317), (3579, 0.008083328442070638), (1507, 0.008080495338497879), (3680, 0.008077374603068017), (4494, 0.008064025144214816), (2158, 0.00806189237383563), (4092, 0.008059039297532955), (38, 0.008053106075278465), (3899, 0.008051002081322367), (2587, 0.008050278740626297), (3960, 0.00804676341619687), (3196, 0.008030100032343017), (3032, 0.008029229268901044), (1136, 0.00802716711899219), (1762, 0.008025942366303385), (1078, 0.008013944538877615), (2975, 0.00801202391227566), (4593, 0.008010378631204202), (1498, 0.008004452339698808), (2840, 0.008003215098038112), (107, 0.007999982976525528), (436, 0.007988977959549903), (2854, 0.007966082661880109), (1489, 0.007964120798417545), (1924, 0.007955448691216048), (4335, 0.007951785859735874), (242, 0.007930590467221988), (2428, 0.007928752041113122), (2304, 0.007927329577146256), (688, 0.00792347748899656), (2942, 0.007920424114836747), (139, 0.00791662136554881), (3453, 0.007895492351522204), (4748, 0.00789503172901868), (3, 0.007895011959041548), (1312, 0.007894093077144008), (1553, 0.007889269343222503), (1833, 0.007887518642046988), (445, 0.00788132794230941), (2933, 0.007872499121529599), (60, 0.007870507952844559), (924, 0.007858901349625665), (729, 0.007856115655632842), (3780, 0.007840883103092828), (3409, 0.007829213771753692), (1371, 0.007825426825330292), (3096, 0.007824243635940939), (1960, 0.007775251777904203), (162, 0.007772041794891037), (4046, 0.00777078464530377), (4601, 0.0077686265856986535), (3821, 0.007765482977267374), (1674, 0.007756377893062152), (4098, 0.007750839932795255), (4133, 0.007749301387279048), (3771, 0.0077380432019873565), (403, 0.007734718303573947), (1014, 0.007721846498052805), (1454, 0.00772156431836764), (1743, 0.007711861060976667), (2949, 0.007710585480735227), (63, 0.007709740596143702), (4579, 0.007708676437675581), (1188, 0.007705716382197728), (3704, 0.007705632884085151), (2348, 0.00770487213332364), (385, 0.007700267940648339), (991, 0.007685671281364952), (4757, 0.007680025310303054), (1790, 0.007676726184308924), (350, 0.007676718061964946), (3618, 0.007675197045838199), (1260, 0.007667433332605679), (3634, 0.0076627432518289644), (2603, 0.007659843642885569), (2211, 0.007657220847604649), (4431, 0.007651053746168175), (143, 0.0076353481687847745), (3456, 0.007634373321672605), (3256, 0.007633884955343212), (1866, 0.0076244314070900545), (493, 0.007623045761387568), (1140, 0.0076190636270581195), (4038, 0.007617650603526466), (4118, 0.007614068790473063), (10, 0.007607893097473656), (582, 0.007603030340980415), (2563, 0.00759606355154269), (616, 0.007594350527459333), (4233, 0.007594090774401854), (930, 0.007593668882928896), (2477, 0.007591430813767137), (4656, 0.007588487889258912), (4094, 0.00758096832196693), (1705, 0.0075808787562135676), (1537, 0.007579529850427982), (1571, 0.007576502870921412), (441, 0.007575249353608726), (1229, 0.007574298886668123), (3501, 0.0075690610141445885), (728, 0.007567160213574892), (2714, 0.007566414258222045), (256, 0.007566289525701781), (3516, 0.007557873016956927), (2104, 0.007549481187336593), (1643, 0.007540068402754568), (4013, 0.007526085587014328), (3112, 0.007524301491212103), (2088, 0.0075234976913822835), (4517, 0.007519655732321566), (3586, 0.0075196180194443095), (1735, 0.007518145622478906), (1225, 0.007509627358092998), (1037, 0.007501771600909165), (580, 0.0075008854568359784), (4629, 0.007499043229826361), (4289, 0.007498896825983682), (180, 0.0074975007155162286), (2510, 0.0074946603245382715), (3192, 0.00749440877612409), (3349, 0.00749313697538395), (3259, 0.0074914744849380165), (1806, 0.00748901455013755), (1071, 0.007488560880024291), (1918, 0.0074775560154907795), (843, 0.0074775351240812275), (1484, 0.007475778254604), (845, 0.007475095352854537), (1282, 0.007474150341464606), (113, 0.007473968307520359), (1950, 0.007469521221716752), (3905, 0.007461654676382057), (4624, 0.007459594494860059), (606, 0.0074498166595753056), (1083, 0.0074366300878698), (4470, 0.007435938742219177), (309, 0.007435410783603113), (4652, 0.007434131610692769), (716, 0.007426843801754453), (3035, 0.007423895065643069), (3039, 0.0074238299264938025), (2844, 0.007422890628833832), (156, 0.007419173326036456), (4390, 0.007418250756160614), (4430, 0.007417616910353694), (4715, 0.007416439940374747), (34, 0.007399864999210883), (3666, 0.007384336728943303), (3245, 0.007381397156189855), (2994, 0.007380932405741667), (255, 0.007376167685312762), (1400, 0.0073750770141718484), (1069, 0.007372285808345409), (743, 0.007370591217713641), (3623, 0.00736989107797279), (3514, 0.0073651168511021485), (4557, 0.0073466386564355795), (3645, 0.007344490494520449), (3233, 0.007340198572106904), (1125, 0.00733510303830211), (3018, 0.007333720763633657), (3303, 0.0073331973430325135), (4249, 0.00733306861802683), (3227, 0.0073312112400263155), (660, 0.007330145713236718), (1902, 0.0073299599703141195), (2873, 0.007328034369782073), (4089, 0.007325412246477894), (3464, 0.007323765356681647), (2519, 0.0073156779870867114), (3410, 0.007314256746998411), (3653, 0.0073117073392733765), (4045, 0.007310110586196114), (1144, 0.007310060895639413), (2344, 0.007306945109380038), (224, 0.007306632867185732), (908, 0.007306284280090162), (474, 0.0073056788160507456), (4093, 0.00730012202786503), (2843, 0.007283518332502755), (2339, 0.007282413378464895), (238, 0.007278811697844), (509, 0.007278680209556226), (636, 0.007272696149694801), (3152, 0.007266800555178143), (159, 0.007252020935011809), (1931, 0.007250498326273822), (869, 0.007241671808117643), (1536, 0.0072327644758469695), (3008, 0.007232678902245886), (3571, 0.007230791031606428), (1388, 0.007207483149752694), (2606, 0.0072070902212028245), (3570, 0.0072036228916481), (980, 0.007202670041944461), (3125, 0.007197937975549463), (1174, 0.007196301272938661), (3515, 0.007195077426545848), (2091, 0.007189380097651901), (4077, 0.007187156502313294), (1138, 0.007177467997254964), (696, 0.007177104399635393), (3727, 0.007172516188290096), (1583, 0.00716121998607622), (4663, 0.007156125823184987), (1486, 0.007150658192356189), (4184, 0.007149057707442913), (2444, 0.007148762125860115), (769, 0.007147178931235954), (1223, 0.007143325568098083), (2101, 0.007142413188954324), (4226, 0.007141989967655634), (4677, 0.007130136488620726), (4351, 0.007126731794144372), (1472, 0.007125260626564543), (4284, 0.007113937688592602), (2061, 0.0071071251390123005), (1488, 0.007103914390739519), (1770, 0.00709996484402043), (1191, 0.007092907280298433), (1653, 0.007089097636211782), (1330, 0.007087436326154216), (3436, 0.007087418685834274), (494, 0.0070861604009226755), (3945, 0.007076895716931186), (1747, 0.007074668351598675), (2244, 0.007073878876722814), (4581, 0.007066244511938934), (923, 0.007060984119810582), (1179, 0.007055788119299983), (750, 0.007052707647023475), (42, 0.007050971336716383), (3624, 0.007050737027244406), (4196, 0.007049234847350058), (644, 0.00703143873152686), (4061, 0.007017651891351481), (363, 0.007012973473031779), (3316, 0.00700651108744128), (4182, 0.007004528417098502), (1504, 0.006996490829139832), (3435, 0.006987986060075184), (2069, 0.006986003267788832), (3122, 0.00696832374800245), (727, 0.006957464151938094), (232, 0.00695499639631404), (1421, 0.006952424587473534), (1737, 0.006948707328409473), (880, 0.006945196139389243), (4309, 0.006944082673060731), (4670, 0.006943339257724341), (3696, 0.00694104804121442), (81, 0.006936476860976448), (340, 0.00693469682596866), (413, 0.006923130463155764), (1718, 0.006916664970233591), (1811, 0.006916418526082119), (3195, 0.0069041347385978835), (3487, 0.0069016572482143105), (539, 0.006889894603897377), (2825, 0.006887117021870283), (3457, 0.006871015202788579), (2708, 0.006867067739911862), (386, 0.006864629684037367), (503, 0.006862605336966282), (50, 0.006859150115732682), (3531, 0.006847326025631632), (1123, 0.006840865177315188), (4299, 0.006835436572250428), (2726, 0.006826048395062191), (3499, 0.006814116875149279), (748, 0.006813011998117712), (3149, 0.006799785954020909), (1819, 0.006793925856536951), (1911, 0.006788701584208974), (4523, 0.006786894555530212), (600, 0.006781069548300663), (4008, 0.006780993977304264), (1044, 0.006779712845964441), (301, 0.006777254061551175), (2816, 0.006773798157810517), (778, 0.006770135773555762), (217, 0.006761048995039743), (3452, 0.006760060396968598), (2184, 0.006756747337034099), (2496, 0.006755272898953286), (752, 0.006752672674527578), (1375, 0.006751587067861558), (4282, 0.006750129649422216), (1001, 0.006749052967362546), (1041, 0.006747896046941964), (422, 0.006741760529449878), (1177, 0.006740913834826033), (3185, 0.006738807815432679), (3648, 0.006726888382880298), (3734, 0.006724327053721519), (3265, 0.0067220259533853), (671, 0.006720774881833727), (2897, 0.006719082730013787), (4001, 0.006716377045714607), (1841, 0.0067153386052879955), (1231, 0.006712630433048946), (1250, 0.006702285067302258), (31, 0.006701974138629128), (1892, 0.006700888947272244), (3594, 0.006685652055535624), (2899, 0.006682989647487092), (131, 0.006680249325576059), (4467, 0.0066796580472208095), (2732, 0.006672117367767699), (4738, 0.006670556795175896), (367, 0.006669231577912804), (4591, 0.006668143765250439), (2691, 0.00666376907149733), (1306, 0.0066609281262017305), (1076, 0.006658235327123359), (2335, 0.006647246352662359), (56, 0.0066325561253584965), (3342, 0.006627888681074368), (2962, 0.0066264740224641116), (3460, 0.006620700682849891), (4099, 0.006617286213745887), (1433, 0.006616008644320786), (2324, 0.006606941380538069), (1760, 0.006603783839015581), (868, 0.00660238244159884), (1065, 0.006598206696978606), (4210, 0.006596829513357173), (3632, 0.006588609824124242), (1425, 0.006583262254711643), (1738, 0.006583228495031133), (1555, 0.006579248735376407), (4388, 0.00657910334776104), (283, 0.0065770521128638), (1111, 0.006570740194062738), (744, 0.006566072769391229), (1462, 0.006564236420765798), (311, 0.006563251833375566), (1172, 0.006549835971798838), (863, 0.006549384015093687), (1238, 0.006544973130504278), (641, 0.006543078670484086), (3926, 0.0065401626555349375), (1973, 0.0065369679925061566), (3066, 0.006536778761728396), (745, 0.006531432756257934), (1908, 0.006529976670020352), (1374, 0.006525324836092309), (3474, 0.006521278419002501), (1329, 0.006519379434726832), (3841, 0.006518355882592189), (1345, 0.006510855105546552), (996, 0.006510314139610716), (758, 0.006509836812081644), (1448, 0.006508057152969192), (2424, 0.006507837906284628), (1987, 0.006505539777656451), (1501, 0.006503129089588645), (3876, 0.006501246832824627), (608, 0.006496906297586884), (22, 0.006495501316185061), (4154, 0.006494850823807451), (3288, 0.006493854015213112), (834, 0.006491519692061785), (122, 0.006487238497571814), (910, 0.0064861984535780955), (2503, 0.0064854466531115715), (1692, 0.006479464022196569), (3033, 0.006474216362641436), (821, 0.0064726853282743935), (1644, 0.006471793858347352), (4367, 0.006466955166456474), (1913, 0.006456586531955014), (2031, 0.006455524176033128), (1526, 0.006453877555016964), (1849, 0.006438906836822626), (3705, 0.006428475626634246), (1867, 0.006409862493863143), (563, 0.006408123614273837), (3842, 0.006405536969904125), (940, 0.006387687152455921), (1816, 0.006385994183589978), (581, 0.006376866230970647), (981, 0.006374645722966998), (1964, 0.006373394532480614), (4661, 0.006372262075154421), (3458, 0.006361937339514528), (804, 0.006358492989300477), (2095, 0.0063578554866869095), (3910, 0.006356730546010356), (4217, 0.006355560963563177), (4691, 0.006354021579073186), (1094, 0.006350312499283052), (230, 0.006348798090654446), (2239, 0.006346332982123502), (2160, 0.006339554227735659), (2580, 0.006337697609028333), (4303, 0.0063239613987021515), (4564, 0.006322600063965311), (2056, 0.0063215080885844505), (3998, 0.006304527611353125), (3309, 0.006302401527189919), (2388, 0.006295517346129298), (200, 0.006290277621795738), (2724, 0.006286654951979027), (521, 0.006280494519007156), (1608, 0.006277720294573536), (1414, 0.006275658307050649), (1552, 0.0062541871377818446), (4272, 0.006251634835142975), (4432, 0.006249235603065001), (1267, 0.006224998281787795), (2833, 0.006222499199065483), (4646, 0.006222134861124675), (300, 0.006217392078006202), (1797, 0.006213887021735481), (861, 0.006207799600454941), (835, 0.006202208245357342), (2202, 0.006200425857593387), (4459, 0.00619640084642586), (642, 0.006191644231376072), (3715, 0.006190325491037357), (263, 0.00618181631601747), (4666, 0.006181678206141674), (1213, 0.006175453685887428), (1664, 0.006173100586221584), (3566, 0.0061584869435411405), (1818, 0.006149789447971376), (497, 0.006149072210418932), (1327, 0.006147555425640981), (1627, 0.0061468619995905215), (2355, 0.006142653030334343), (248, 0.006132084444618754), (9, 0.006131107271982767), (3721, 0.006127478843484589), (4236, 0.006125452057518248), (1307, 0.006124366895014186), (2205, 0.006112503031563114), (3909, 0.006112285649457752), (1903, 0.006102457762378944), (1746, 0.006100359697629557), (2175, 0.006095774435741459), (568, 0.006095622321725578), (16, 0.006089768667124009), (958, 0.006081369697654832), (4342, 0.0060796574781572105), (4733, 0.006077189670855713), (617, 0.0060717048032466175), (4009, 0.006064417008349421), (4537, 0.006064091063116666), (3864, 0.00605794912310371), (4464, 0.00604614057301147), (4219, 0.006041864830893834), (862, 0.006035598847036754), (4208, 0.006011898117494348), (35, 0.006011264900105254), (1356, 0.006004625340572008), (3825, 0.005992749669889147), (1214, 0.005989573328736987), (3331, 0.005977707255952426), (3114, 0.0059769311377777), (1715, 0.005969919070326054), (2203, 0.005967866097218848), (3658, 0.005962867220893581), (1939, 0.005957462126024431), (2935, 0.005955810846522845), (583, 0.005949039624790873), (1981, 0.0059263529550524306), (4057, 0.005925441153414041), (4055, 0.005914166649000518), (2058, 0.005909958635405521), (3244, 0.005902515030538617), (2426, 0.005901684943366939), (3865, 0.00589560049476717), (3975, 0.005889763907871322), (2185, 0.0058744586256578735), (4110, 0.005853106777499908), (4047, 0.005849787356580478), (2328, 0.0058414200481482865), (1316, 0.005839253075932101), (3748, 0.005814812508098898), (2156, 0.005813250635942479), (1684, 0.005810002433828693), (4726, 0.005809312246993326), (3049, 0.0058014930957225345), (3598, 0.005783939650833698), (4674, 0.005759462956802483), (2439, 0.005740596911724691), (1344, 0.005734266262824701), (1863, 0.005726534927540922), (953, 0.005720514404561061), (4385, 0.005683142763564907), (3844, 0.005667676381855301), (4698, 0.005636834945005656), (3509, 0.00563662489430093), (177, 0.005620110895854673), (3942, 0.005613423254588683), (3391, 0.0056082257981435795), (2098, 0.005606080973410511), (3448, 0.0056059793599902265), (2113, 0.005592530907598027), (3752, 0.0055594106787826385), (2291, 0.005536610800135706), (3744, 0.005527027497570208), (3588, 0.005516032527259792), (3502, 0.0055147008096051485), (4653, 0.005513257527053221), (3164, 0.0055126821766886555), (4518, 0.00548619269775286), (2567, 0.00547190280835719), (571, 0.005454459542016686), (4514, 0.005453464782239066), (2665, 0.005443542395939111), (1941, 0.005408507330366094), (562, 0.0054049310308275575), (369, 0.00539899508969636), (2614, 0.005395997466738548), (4642, 0.005392640148098447), (3940, 0.005391695377769303), (4331, 0.005386503395515215), (4285, 0.005386288972176425), (512, 0.0053642902125866365), (2273, 0.005352827163247768), (69, 0.005352706681491463), (1940, 0.005326488421200145), (3022, 0.005326240672534904), (4527, 0.005313905577409308), (4162, 0.0053022395568221485), (4746, 0.005301762028458732), (1453, 0.005299769198239757), (3440, 0.005299633580402246), (2700, 0.005299034795489), (477, 0.005293224535449547), (380, 0.00527841809404265), (1695, 0.005277957593778175), (2809, 0.005260493122992779), (2774, 0.005249959260741945), (831, 0.005246067980115318), (3117, 0.005245759192194239), (4261, 0.005245222672043355), (3263, 0.005234876269622555), (1381, 0.005230472753935056), (2476, 0.005228114122996045), (1962, 0.005227597362841401), (855, 0.005215599891461491), (2683, 0.005206676319947016), (168, 0.005198732457466935), (2576, 0.0051902379364405955), (2022, 0.005178616847713446), (3168, 0.0051751586842026616), (4120, 0.005174751481075426), (1158, 0.005172515788841545), (3802, 0.005155825819568282), (666, 0.005153330531589064), (425, 0.0051499508129992004), (4462, 0.005138284238996433), (687, 0.00513764529659601), (2231, 0.005136012447935588), (1332, 0.00512473904770058), (4307, 0.005109223314001823), (2181, 0.005103076499460923), (2733, 0.005098297695619401), (1829, 0.0050907540953755125), (3180, 0.005088742222267306), (4240, 0.005075645269921609), (2314, 0.005068435648052213), (3787, 0.005065054028236046), (3438, 0.005062059982892675), (1167, 0.005029133510014753), (4119, 0.005029102007599148), (4312, 0.005028977479012297), (4515, 0.005026124158855985), (128, 0.005025554996234532), (514, 0.005020869620771117), (4043, 0.0050187657855676245), (3997, 0.005012697643785269), (3584, 0.005012199105189916), (4091, 0.0050081152296663585), (1391, 0.005007227042271861), (2599, 0.005006752141438518), (1661, 0.005005165233815326), (1614, 0.005005091418291376), (3897, 0.005004036831198832), (4373, 0.00500077295732044), (1575, 0.004998151658483676), (102, 0.004990310054844927), (6, 0.004985185092521622), (4630, 0.004983928423924887), (303, 0.004981255497264049), (1724, 0.004972532807740694), (3468, 0.004964422888156211), (2959, 0.004960282599777525), (891, 0.00495833428610205), (2084, 0.0049560507414850765), (3604, 0.004954785068051645), (2626, 0.004950831436994141), (1280, 0.004950379657335508), (3158, 0.004948969368570521), (2283, 0.004948392187806293), (2819, 0.004947521254535787), (2960, 0.0049464868837456235), (3938, 0.004944786334034676), (1554, 0.004944172947197937), (4384, 0.004935240983727791), (802, 0.004933768061017463), (1952, 0.004932855417852836), (4090, 0.004928157528853045), (2136, 0.004927693862381808), (1904, 0.004925457291341602), (3163, 0.004924018272028675), (155, 0.004916199281291565), (595, 0.004911607675004387), (550, 0.004911302551164751), (4595, 0.004910294994799244), (1150, 0.004910229006471234), (4719, 0.004910173031360855), (3451, 0.004910066280702951), (513, 0.004906863783087058), (4076, 0.0049040315276081044), (3782, 0.004890664826434198), (1732, 0.00488908171069433), (992, 0.0048866627062652615), (4275, 0.004886236390825365), (3774, 0.004884486547402405), (4586, 0.004881688643291706), (1452, 0.004881594900523026), (1449, 0.004878637437442417), (414, 0.004867023107707295), (1791, 0.004863130992067573), (4392, 0.004861145645464364), (2208, 0.004861135563169556), (2044, 0.0048606873734106356), (2064, 0.004860370905298173), (220, 0.004858180150691765), (420, 0.004849700844192116), (4639, 0.0048473650777299), (1859, 0.004844156145186074), (336, 0.004833644001916375), (919, 0.0048321850292476305), (4621, 0.00483073799944511), (1531, 0.0048286817374017235), (3710, 0.0048266303250290065), (2330, 0.004825116148766468), (2790, 0.004823591408305185), (3205, 0.004823505712279093), (561, 0.004821282264259828), (3576, 0.004818081923967996), (239, 0.00481676234263013), (3134, 0.004814368539631161), (3131, 0.004812979260796869), (1659, 0.004809873917253385), (3404, 0.004808061522686401), (1426, 0.004807498252216066), (2015, 0.004803137309594903), (2506, 0.004802104055978488), (4377, 0.004798649914011855), (1380, 0.004796703796840423), (1975, 0.004796560983314535), (1502, 0.004792392074409619), (902, 0.004782810579746968), (3995, 0.004782539176664054), (320, 0.004780067666855784), (95, 0.004767433030766618), (765, 0.0047620770935450285), (1930, 0.004761463671706999), (3513, 0.0047557231362074185), (1588, 0.004738336514992501), (1881, 0.004731718449186991), (3932, 0.004731712460623241), (3398, 0.004731130481888541), (3833, 0.004730609347895109), (3815, 0.004727607346291744), (3907, 0.004726772374329462), (3179, 0.004719973005894039), (27, 0.0047154226626084424), (3769, 0.0047098141850001555), (4376, 0.004700916957627675), (2947, 0.004697035408654324), (3124, 0.004693028318957217), (793, 0.004690041293917723), (4552, 0.004689429768314749), (189, 0.004679941732048846), (1901, 0.004678494944775757), (1998, 0.004675434123509028), (2246, 0.00467357953325077), (685, 0.004670073913038262), (4251, 0.004669298283813511), (3191, 0.004669226479953757), (2130, 0.00466059237196833), (1469, 0.004651377146421991), (3814, 0.0046499277941980536), (3161, 0.004647258016016347), (4383, 0.004646561487157581), (1435, 0.004645076312079125), (3432, 0.004644255733710145), (2991, 0.004642675235688828), (4678, 0.004642211839193839), (1587, 0.004641047544734272), (3005, 0.004635259476801127), (811, 0.004627017982932453), (3520, 0.004621528809234021), (3908, 0.004617515117436175), (1431, 0.0046168227133879846), (375, 0.004612875877653715), (633, 0.004612444503591462), (3881, 0.004611467427945411), (1622, 0.004611188564417828), (1127, 0.004607193124246472), (634, 0.00460322829788357), (1573, 0.004601440023508053), (849, 0.004600428548297332), (467, 0.004598960569473526), (1993, 0.004597715062780077), (2278, 0.004596797090519967), (347, 0.004587789492370932), (30, 0.004580861261423185), (4665, 0.00457938256674157), (927, 0.004575462908500093), (1857, 0.004574241105331765), (4708, 0.004572545807376826), (4103, 0.004572445305377128), (4248, 0.004571331837007962), (619, 0.0045633959458846), (118, 0.004562504747985968), (1933, 0.004558636910726936), (135, 0.00455821310108224), (4310, 0.004556230351634091), (3443, 0.004553282855024988), (389, 0.0045486154108714235), (3583, 0.004547071848227898), (305, 0.004546882235066165), (4360, 0.004543692591012169), (1566, 0.004542823358246493), (39, 0.004539612554040745), (3367, 0.004532620674147123), (1635, 0.004527293818327947), (460, 0.004521529212535695), (93, 0.004519424267144667), (241, 0.00451492183273678), (233, 0.0045119313152480285), (451, 0.004510390916712116), (315, 0.004504317041425386), (4264, 0.00450328239117574), (1953, 0.004491463373667027), (4039, 0.0044899856191165785), (3602, 0.004478825069233852), (4211, 0.004477018759936746), (90, 0.004470160406284602), (4071, 0.004466823963289668), (2847, 0.004465057139297668), (260, 0.0044635127443143656), (1846, 0.004463289052862022), (4292, 0.004455994578843448), (3555, 0.004449419822908525), (152, 0.00444454998188037), (1632, 0.004442927924116684), (2232, 0.004440046639452462), (1211, 0.004437349516531346), (3664, 0.004433550625480221), (4438, 0.004420996620712255), (3011, 0.004419855033064718), (3126, 0.00441984427906353), (3886, 0.0044191547878571335), (3824, 0.004409490654055695), (3970, 0.004406213539910209), (2711, 0.0044031690510967034), (310, 0.004400888284177117), (2787, 0.004397270079193192), (4151, 0.004396568617488945), (2245, 0.004395731588942403), (2432, 0.004384509049390512), (1082, 0.004383085118452484), (1207, 0.004380150024962057), (1451, 0.004373185941562933), (1181, 0.004373002091397843), (3136, 0.004369664178913913), (3723, 0.00436779609012708), (3823, 0.004366032792502036), (4587, 0.004365776006744743), (3100, 0.004364975821737901), (1347, 0.004360016621433174), (661, 0.004359004227750071), (1428, 0.004347070578766679), (3133, 0.004345742368443901), (1631, 0.0043454558183471), (1633, 0.004342855494874423), (4697, 0.004335376392916812), (3361, 0.004334917335054158), (974, 0.004330290504461146), (94, 0.004325019981355956), (2442, 0.00432361944398367), (1562, 0.0043178327777930086), (2660, 0.0043171369303937595), (2139, 0.004314002181565598), (1623, 0.004313035562011199), (3788, 0.0043127907738928955), (3079, 0.004311543394580112), (4441, 0.004310228957562386), (3966, 0.004304573645571716), (1914, 0.004303739210032304), (4044, 0.00429953959013596), (4585, 0.00429834391115837), (4328, 0.004295975756617414), (3135, 0.004272751416734816), (3338, 0.004264474767414209), (306, 0.004263311067191987), (1480, 0.004259298572774727), (690, 0.004258780053791625), (3143, 0.0042505221698915015), (810, 0.00424804404814121), (3534, 0.004247216605037091), (397, 0.004242393404529362), (4274, 0.0042410801963333345), (1430, 0.004238161124983371), (4193, 0.004236236087413807), (4339, 0.004230644549460946), (1197, 0.004230533335088133), (2984, 0.004228770770375274), (80, 0.004226006669238771), (316, 0.00422500791079874), (426, 0.004221372390236282), (2682, 0.00421388872123576), (4322, 0.004211258714592223), (559, 0.004191566575381607), (3247, 0.00418773832739106), (1281, 0.004181751585510921), (1840, 0.004178355486899034), (4290, 0.00416611383505207), (1784, 0.004157654392746056), (898, 0.004154415167480772), (893, 0.0041488077126408335), (3495, 0.004133845199531138), (997, 0.004133006115228177), (611, 0.0041296258363527965), (4365, 0.004125456776767467), (803, 0.004122327678890121), (1772, 0.004117353834950625), (1154, 0.0041121779244762255), (187, 0.004108003694490477), (4468, 0.004104864171400346), (191, 0.004101830363130834), (3160, 0.004095176459934926), (4582, 0.004091733995248686), (323, 0.004070398943953088), (932, 0.004049166125957467), (4571, 0.004028423019031219), (1753, 0.0040221318047713745), (1546, 0.004021120331160662), (756, 0.004016254469567296), (1699, 0.0040143885119154924), (1925, 0.004004113555504478), (1590, 0.004001805149241278), (4426, 0.00397934206999845), (3619, 0.00397375541688008), (3339, 0.003964368283878742), (3776, 0.003961245603545906), (3512, 0.003955493294071544), (2299, 0.00394823043459701), (1910, 0.003945893927103897), (1559, 0.003933988131699184), (1309, 0.003930973288637932), (3178, 0.003928821351204079), (3806, 0.003914573435214169), (2757, 0.003908914791734666), (625, 0.0039054836840384), (4513, 0.0039037834109920846), (3484, 0.003903515424764742), (2541, 0.00389890476304651), (2801, 0.003896503791082236), (640, 0.0038925670915398863), (234, 0.0038903717508364933), (3405, 0.0038865626114160078), (3672, 0.0038802518605135024), (1120, 0.003878051766415363), (723, 0.003873837025019755), (314, 0.003863888011698759), (2326, 0.0038617100249410466), (4555, 0.0038606499710236416), (1458, 0.0038576607186455057), (639, 0.0038373087028024935), (469, 0.003815904469627242), (290, 0.003807777692461012), (1530, 0.0037794574219590636), (4607, 0.0037771248408503552), (2573, 0.003774929999630127), (738, 0.0037684755366164894), (1576, 0.0037622840664627657), (2678, 0.003753650559081536), (295, 0.0037500208660716607), (1395, 0.003744229824622431), (1164, 0.003729323551236293), (289, 0.0037264826476337783), (76, 0.0037177345917875667), (3944, 0.0037065297544057784), (2529, 0.00370096226529426), (294, 0.00369975678023385), (2998, 0.003690850766290916), (3925, 0.0036868491336711183), (2078, 0.003684540354949213), (3989, 0.003680596476802413), (4705, 0.003660605759694892), (2490, 0.003626573596741055), (3257, 0.003623207474316874), (3523, 0.003621137443916538), (3051, 0.003618884665251114), (2764, 0.0036148730625453593), (4082, 0.0035988076268581083), (3291, 0.0035855259345875354), (2858, 0.0035798702969530296), (2379, 0.003577978195009918), (2989, 0.0035771238377711764), (2189, 0.0035661995514854566), (2937, 0.003564420724141999), (735, 0.0035634512807927584), (4202, 0.0035615116843732363), (3040, 0.0035595370989108667), (2870, 0.0035311525210841486), (2137, 0.0035272035933866007), (2251, 0.0035163154090993897), (3055, 0.003511337704945412), (4172, 0.003503880101093653), (2722, 0.003495219872714448), (2349, 0.0034946715174917465), (2775, 0.003491079454091916), (2404, 0.003489189020995873), (2883, 0.003487080556193938), (77, 0.003485230189054799), (3030, 0.0034824080055307224), (3139, 0.0034818720545383842), (2643, 0.003481487672775106), (3042, 0.0034723545655000613), (3990, 0.003461076357315229), (3166, 0.00345082514532639), (627, 0.0034461352523519604), (4423, 0.003445795527968099), (1145, 0.0034353908988498595), (2923, 0.003431716602774866), (4222, 0.003428535563169777), (2628, 0.0034269516265462165), (4017, 0.003424009989747593), (2392, 0.0034221179150966795), (2861, 0.00341572748589934), (2731, 0.003412162955030228), (2537, 0.0034032859264108797), (2832, 0.0034029307639123992), (3479, 0.003387077496632), (1210, 0.0033821031246120408), (2310, 0.003381373411637865), (4529, 0.003377178062952125), (2889, 0.003366604339627233), (4749, 0.003363934042381229), (3262, 0.00336076375916157), (2407, 0.0033585056769422383), (4019, 0.003345390522252748), (2673, 0.003337956637546262), (526, 0.0033347412769737022), (2559, 0.003330735613489884), (3052, 0.0033246515205713877), (2901, 0.0033220336253345986), (3128, 0.0033180129750133014), (3219, 0.003312330739344567), (3878, 0.0033122580274520213), (2350, 0.00331096985482866), (1153, 0.0033100818033158096), (4407, 0.0033073812355967984), (4696, 0.0033055410596479224), (4704, 0.0033037630830102136), (4102, 0.003295800752680752), (2415, 0.003294575710911571), (4606, 0.0032869515863996734), (2257, 0.003286360338857844), (3922, 0.003280402466717164), (3892, 0.0032800827739615343), (3322, 0.003274451844035423), (2448, 0.0032716614638054822), (4484, 0.003271434176865662), (3848, 0.0032666661844117247), (3762, 0.003264610020253724), (4611, 0.0032644371582292164), (2199, 0.003261883369987997), (3939, 0.0032548518653931677), (4544, 0.003253940717926459), (3292, 0.00324944997020382), (2286, 0.0032472597363988834), (4221, 0.003247145282730145), (3354, 0.0032371851357262224), (3561, 0.0032313364220120746), (2425, 0.0032310046342377656), (2838, 0.003227481645832042), (2423, 0.003222663179092088), (4418, 0.003222550107538189), (889, 0.0032195854533442958), (2993, 0.0032132792181777782), (3015, 0.003212643513299171), (3282, 0.0032089144473720953), (4400, 0.0032079125920463215), (4107, 0.0032024785375661573), (3537, 0.0031947520731953074), (475, 0.0031905315780014574), (1711, 0.003188858868929339), (4230, 0.0031884986169068235), (4458, 0.003187060313683638), (4298, 0.0031861253114959715), (3159, 0.003171068735113715), (3357, 0.0031683671335210996), (4521, 0.0031683498289934394), (3687, 0.0031651998180513424), (3396, 0.0031593827101895028), (4142, 0.0031563443445955623), (3081, 0.003156053745308904), (3874, 0.003148153795453313), (1208, 0.0031451744337981833), (1593, 0.0031406349031722776), (3429, 0.003131984902791339), (3544, 0.003131969840930314), (1121, 0.0031301546108341324), (4306, 0.003124439095280256), (3020, 0.003124013572856198), (3074, 0.0031233670409455032), (3140, 0.003122709981036047), (4572, 0.003120440437878732), (3832, 0.0031202696960513274), (2438, 0.003117472014298501), (2966, 0.0031151113794956457), (2454, 0.003109594035766552), (2957, 0.0031092359943984387), (3577, 0.0031032938494286954), (2834, 0.0031020589691599307), (4723, 0.0031000312203020393), (3031, 0.0030994446758264033), (2266, 0.00309876885024158), (2797, 0.003098398605167861), (3613, 0.0030978725562690775), (3620, 0.0030958718321612328), (3616, 0.0030956226892626935), (4030, 0.003094188924566016), (2557, 0.003087164324959937), (3239, 0.0030858056661151262), (3302, 0.0030847770807479018), (3363, 0.0030815161829236383), (3419, 0.0030758365666367486), (3358, 0.0030699421101622044), (2544, 0.0030697315068883993), (3206, 0.003066640687890101), (2488, 0.0030597915388602247), (2786, 0.0030541072445524828), (4692, 0.0030522483736099824), (326, 0.0030505252214506227), (4717, 0.003048514552523758), (2848, 0.0030473140649230363), (777, 0.0030457890237024195), (2857, 0.00304141643631436), (4002, 0.0030406609725017486), (2619, 0.0030352231295267735), (2890, 0.003033279232012766), (2895, 0.003032617949924063), (3072, 0.0030269690245333164), (3729, 0.0030225627662917864), (4694, 0.003021129817062015), (489, 0.0030141165486707133), (4416, 0.0030129461250410043), (3952, 0.0030109482158914257), (2696, 0.003009087511503964), (1049, 0.003004133172781249), (4243, 0.003001470217820713), (2320, 0.003001305838741987), (3359, 0.0030011114522903158), (4209, 0.0030010855660245776), (1168, 0.0030000882840921428), (3621, 0.0029982081506165514), (2570, 0.0029959292804826333), (4584, 0.0029935051497323654), (2707, 0.0029902193734317093), (4753, 0.0029896937520382115), (4589, 0.002987896156339955), (4147, 0.0029863015775344302), (2772, 0.0029811823457461337), (2872, 0.002979534548824889), (4075, 0.002979109822613904), (4126, 0.002977274317311657), (1547, 0.002975161991546654), (3296, 0.0029721451946843566), (2269, 0.002968625295808427), (2378, 0.0029684983590822747), (3413, 0.0029662742867458845), (4632, 0.0029651335087123964), (518, 0.002965096140505688), (2613, 0.002964848025854762), (2987, 0.0029626845763670064), (3355, 0.0029618981370260083), (1748, 0.002960791493766943), (3308, 0.0029603063039122727), (2986, 0.002958617903207249), (823, 0.0029571849156981266), (2914, 0.0029529024011125484), (2142, 0.0029489159736201293), (1947, 0.00294865398365975), (2738, 0.002947988033138658), (2434, 0.0029471469755191037), (2437, 0.0029466308594501556), (3911, 0.002945207641049979), (1187, 0.0029443082982177223), (3540, 0.0029441235945396435), (4145, 0.0029410226703515618), (2535, 0.0029408871511731787), (3935, 0.0029386027780102164), (3754, 0.0029371066163135493), (3884, 0.0029361184400005422), (1169, 0.0029360091392593123), (431, 0.002935499241138564), (4633, 0.0029347218310817693), (3165, 0.002934101720365576), (3364, 0.0029327375875956387), (4267, 0.0029286555100946393), (4333, 0.002926032027006742), (3337, 0.0029246909081439808), (2478, 0.0029246469465767514), (4280, 0.002923159251529564), (3307, 0.0029223930574983617), (3967, 0.0029219282797782486), (1497, 0.0029208964322080502), (3745, 0.002920452298232265), (3274, 0.0029197476180484894), (4713, 0.002919601004375781), (3763, 0.0029161361122681953), (1792, 0.0029157384980828026), (3719, 0.0029138968817436993), (3497, 0.0029112645872429077), (614, 0.002910665746399396), (3651, 0.002908126324837618), (985, 0.002906407986825794), (4295, 0.002906165236585631), (2924, 0.002905859077816147), (2720, 0.0029041776428471726), (4369, 0.0029038839232109516), (3425, 0.0028984315251071543), (1887, 0.0028961075340789948), (2411, 0.0028932930515800015), (448, 0.0028925185706059195), (3230, 0.002890262568489395), (3258, 0.0028859893154278677), (922, 0.0028858847354476594), (1656, 0.0028846987422951383), (4397, 0.0028820775948757912), (925, 0.0028811425567375577), (2108, 0.0028804780794087345), (478, 0.0028788499597680677), (3772, 0.002877939160600202), (2302, 0.002877225908685085), (4117, 0.002874881002092895), (3506, 0.002873323678652332), (857, 0.0028709351251886574), (2134, 0.002870272564246342), (508, 0.0028694041182118265), (2623, 0.002869120720046521), (3611, 0.00286461226600628), (4650, 0.002863748346927824), (739, 0.002862513152307031), (3866, 0.002860337891253584), (2702, 0.0028597467534403824), (3877, 0.002859393773680244), (3590, 0.0028592590940034806), (4507, 0.002858588969346384), (813, 0.0028584950168668135), (2974, 0.0028582037342864087), (3414, 0.0028580583168283744), (4516, 0.0028578958837238958), (999, 0.002857891077192849), (2223, 0.00285466421227281), (576, 0.0028534413368310036), (3148, 0.002852467115335913), (3062, 0.00285129594020641), (4308, 0.002849753315687476), (1909, 0.0028486778982558273), (3587, 0.002847130426499138), (3639, 0.0028449512981372376), (2884, 0.0028419836586332983), (3026, 0.0028417514014026013), (3064, 0.0028413755817474416), (3044, 0.0028409384545784113), (2916, 0.0028397363979994223), (3593, 0.002837681510329948), (4368, 0.002837559870605591), (596, 0.0028371188028211863), (2475, 0.002835688536763332), (2400, 0.0028353141075246955), (1594, 0.0028352762595771188), (3737, 0.0028325416251374596), (3183, 0.002830765772549), (3186, 0.0028292506676110313), (4535, 0.002828817170799314), (2705, 0.002828360205429766), (3003, 0.0028282097467982018), (2356, 0.002827088538805671), (1580, 0.0028260676465143054), (1109, 0.00282541698258925), (3714, 0.002824989743131714), (2585, 0.0028222100037320745), (2748, 0.002821965007710137), (3804, 0.0028209202532252352), (4042, 0.002818866090789567), (1499, 0.0028170714303475636), (419, 0.0028162547642586367), (2629, 0.002815644515835405), (3007, 0.0028144731668346026), (3234, 0.0028127541785846416), (998, 0.0028124426210585475), (1349, 0.002812251629083443), (4051, 0.0028119810589432126), (2796, 0.002810306995165601), (318, 0.00280868199917967), (4245, 0.0028061479285219426), (3273, 0.0028024639544424897), (3962, 0.0028021039029533777), (4101, 0.002801491985340087), (4706, 0.0028008566623474356), (235, 0.002800444365286041), (4718, 0.002798902403604623), (2624, 0.0027988529375607557), (308, 0.0027981773243471847), (3417, 0.0027980161433466487), (2410, 0.0027921272662482103), (1862, 0.002790025275801652), (4471, 0.0027895300377757054), (476, 0.0027891987713721577), (4401, 0.0027887978956383556), (1474, 0.0027880913834871656), (3013, 0.0027880267088873697), (2830, 0.00278614326645496), (3560, 0.0027857795104165883), (3434, 0.0027841722636353914), (3235, 0.002782706615479671), (2391, 0.002779854456754394), (3116, 0.0027787296955126472), (444, 0.0027778223413512334), (4575, 0.0027770359980853494), (4259, 0.0027768502257466843), (1905, 0.002776562688800536), (1890, 0.0027764288914252653), (41, 0.002775939024993834), (2260, 0.0027759169629893434), (4140, 0.002775083300759131), (2293, 0.002774122817163505), (2288, 0.0027737812623095178), (3037, 0.0027737315253783083), (3889, 0.002773051936636661), (2592, 0.002771241435770813), (2888, 0.0027702728781458866), (4130, 0.00277024919270776), (3101, 0.002768433323563011), (3601, 0.0027677166836759973), (1479, 0.0027670525566796805), (1959, 0.00276670650540573), (587, 0.0027661578925979816), (4024, 0.0027661173332870423), (4732, 0.002765581716312349), (8, 0.002764192402006438), (2190, 0.002763749486866814), (2664, 0.002763689360235068), (4528, 0.002761598281581423), (2561, 0.002761245315047423), (4625, 0.002759985855858409), (2390, 0.0027575567270822494), (3813, 0.0027566449206603903), (4160, 0.002756341235736149), (4132, 0.0027552134220144254), (4734, 0.0027551987348534038), (4355, 0.0027528601938903185), (4657, 0.002749528079458911), (4138, 0.0027476012781570422), (3678, 0.002747401660220795), (1805, 0.0027464233098322484), (887, 0.0027463724949874048), (4545, 0.0027455835746555694), (4169, 0.0027452812719798484), (74, 0.0027451333146382567), (3269, 0.0027451147345372174), (3893, 0.0027438567093563916), (2755, 0.002743797558745692), (1733, 0.0027435678306264805), (3187, 0.002742236999398409), (2821, 0.0027421131534677116), (2176, 0.0027410929669732698), (3749, 0.0027389391619914525), (4161, 0.0027374379076044526), (4087, 0.0027365025375997664), (3873, 0.002736063209435135), (253, 0.0027354235094318334), (791, 0.0027345631347176205), (3770, 0.002734524504185059), (3271, 0.0027329352916513204), (1995, 0.002732626542244189), (2776, 0.0027311012062877964), (4540, 0.0027309904957101357), (4263, 0.0027303158689940127), (1409, 0.0027299892883079985), (1518, 0.0027298575480118794), (1896, 0.0027295564615730733), (1907, 0.002728970153347562), (3757, 0.0027279950960080743), (12, 0.002727110102655333), (4269, 0.0027268800245208768), (4446, 0.00272456409148412), (4113, 0.0027242806152587033), (395, 0.00272407137020221), (2159, 0.0027219178202219484), (4419, 0.002719335448609696), (4079, 0.0027190288467055187), (3636, 0.0027185852954724147), (192, 0.0027184308846663176), (1848, 0.0027178036729253565), (4495, 0.002717370206623205), (680, 0.002716902367133416), (872, 0.0027168888912561017), (3781, 0.002716812033195873), (2970, 0.0027142869269089318), (3915, 0.0027136949430134937), (2882, 0.0027130743132721784), (262, 0.0027126362923378068), (3406, 0.0027118543934155333), (2361, 0.0027087730158666234), (3677, 0.0027086713984455896), (4497, 0.0027081331496874015), (4680, 0.0027030707668748892), (826, 0.002701463198133001), (4111, 0.0027002000301447923), (4448, 0.0026979543672620916), (4420, 0.002696821403648539), (4363, 0.0026967453036279127), (2507, 0.0026966340839699554), (2531, 0.0026943795014853634), (4175, 0.00269375742659227), (1683, 0.0026884518086925024), (3496, 0.0026880481936467212), (2783, 0.0026861150850195237), (612, 0.002685932697256962), (3527, 0.0026853422471984495), (3314, 0.002684934638788918), (3449, 0.0026846224385835282), (3654, 0.0026828569605999563), (4357, 0.002682787385490823), (1637, 0.0026803374753749964), (2230, 0.0026800305278332714), (246, 0.0026772900313672752), (564, 0.0026766197958489283), (3224, 0.0026763539375579903), (2940, 0.002674267990460125), (2926, 0.0026731615364304784), (1324, 0.002672969936809829), (4286, 0.002672967122872718), (3920, 0.0026722539217173677), (499, 0.0026716180736285245), (1822, 0.0026710088042061946), (3372, 0.0026708609059878387), (1670, 0.00267085205917962), (2292, 0.0026692733654005325), (4574, 0.002668510542856652), (1893, 0.0026681153209838224), (2953, 0.002667096575795015), (2609, 0.0026665077714943587), (2394, 0.002666345919661692), (3326, 0.0026659198265681925), (2595, 0.0026649134214898357), (1402, 0.0026648602313511342), (623, 0.002663096905599098), (2725, 0.002662061264393537), (4489, 0.0026614109552627364), (456, 0.002659645104066224), (2105, 0.0026593305619615824), (3987, 0.002658941777337258), (4361, 0.0026572535619061133), (4014, 0.0026571907640489923), (3084, 0.0026548219225275382), (2661, 0.002654055995220591), (4318, 0.0026533552408221917), (3184, 0.00265251569935659), (3242, 0.002650196186158106), (3882, 0.002649242132826419), (2863, 0.002648825187162075), (890, 0.0026479823087467618), (3388, 0.002647365161489124), (3493, 0.0026462996931086364), (4, 0.002646117850436645), (1660, 0.0026459176464591404), (1946, 0.002645508423483065), (4225, 0.0026454343879736032), (4354, 0.00264397364263237), (4501, 0.002642137368049669), (4505, 0.002641691801624409), (717, 0.0026413305971480683), (1916, 0.002641274928728314), (1364, 0.002641257712246869), (4262, 0.0026409519820739286), (2878, 0.0026400500061652486), (4136, 0.0026384657436876223), (1007, 0.0026383868891899508), (20, 0.0026378026353235215), (4054, 0.0026377864614375154), (4287, 0.0026374310830103056), (2792, 0.0026370676443575217), (783, 0.002636688996338881), (2393, 0.002635897400529965), (2405, 0.00263587040088237), (3902, 0.0026355902543007924), (1350, 0.002634462631016693), (4083, 0.0026315443391707527), (178, 0.0026314337186226617), (3182, 0.0026311652287238033), (2148, 0.0026310549398486866), (4422, 0.0026294427360046657), (2911, 0.002628759902725516), (933, 0.0026281329175825837), (3845, 0.002624148652450636), (3241, 0.0026230710642516824), (2319, 0.0026219724099189813), (4566, 0.0026215908505509834), (4334, 0.0026204394659809834), (3283, 0.0026192496542278942), (4273, 0.0026183132422741696), (871, 0.002617905526757641), (3016, 0.002616801813244512), (2289, 0.0026166243556354344), (884, 0.00261638095051027), (4643, 0.002616317303925454), (23, 0.0026160065933929777), (1851, 0.0026156260577854615), (2894, 0.002615106080137263), (2610, 0.00261390624985877), (865, 0.0026134261314276304), (3526, 0.002613324696225746), (3198, 0.002612815273641937), (987, 0.002611832510947403), (588, 0.0026101540027187124), (4756, 0.0026099386098689184), (2419, 0.002609403786122814), (2072, 0.0026090528415039158), (1570, 0.002608867160018073), (3792, 0.002608532861610819), (2900, 0.002607083199714004), (2746, 0.00260574372321868), (2904, 0.002604998328424938), (3289, 0.0026049014336321174), (1439, 0.0026033644369673407), (4520, 0.0026027432110470486), (1516, 0.0026021093995289347), (1294, 0.002601994855035768), (848, 0.0026018201164887157), (211, 0.0026015809177949017), (1703, 0.002599334655076501), (1765, 0.0025970331994467854), (3701, 0.0025965820862284494), (3353, 0.002596502494848724), (3113, 0.0025958574348701594), (2554, 0.002594626552585222), (4340, 0.0025922850082200125), (3225, 0.0025918861957136127), (1411, 0.002591688960620459), (11, 0.002591421026419346), (2943, 0.002591193073587758), (2946, 0.0025909678533588202), (3150, 0.0025902038877916008), (2386, 0.002589985942177571), (2048, 0.00258659888934896), (2385, 0.0025864191772917104), (2083, 0.0025850872358040913), (3542, 0.0025841605847022136), (198, 0.0025839718690850045), (115, 0.0025836184110562834), (4563, 0.0025819653000399567), (3290, 0.002581238290538879), (3707, 0.00258104392980526), (4686, 0.0025809235379095864), (969, 0.0025806869428887705), (66, 0.0025806630448184653), (1410, 0.002579286827486758), (2533, 0.0025784310284402727), (1355, 0.0025779591612938874), (2370, 0.002576505176250855), (1717, 0.0025749649694117283), (2492, 0.0025737838016382246), (4056, 0.0025735010283054055), (2652, 0.002573032393098966), (3093, 0.002572557643378504), (1122, 0.0025722469706721033), (3673, 0.0025712013193084373), (504, 0.0025701585030911433), (4461, 0.00256813244634868), (1831, 0.00256782666311999), (2169, 0.002567615180462046), (2396, 0.002566028341210082), (2466, 0.0025655957431689647), (3348, 0.002564769055246172), (579, 0.0025631118443817783), (3551, 0.002562239022054154), (2073, 0.002561141884744439), (4604, 0.002560375976338789), (3491, 0.002560353480916127), (71, 0.0025602359159759454), (2387, 0.0025601208754689607), (2853, 0.002559307565262461), (4391, 0.0025591033947911816), (2999, 0.002557036670434343), (4049, 0.002556726626307248), (2401, 0.002556416232362284), (226, 0.0025548893778198057), (4693, 0.0025545938165962723), (3445, 0.002554166678739945), (3335, 0.002552476983608565), (3478, 0.0025524372477337596), (3517, 0.0025523798057483925), (1176, 0.0025509171499198697), (4573, 0.0025494796087382372), (3809, 0.002549131873094457), (1768, 0.002548028118334539), (2192, 0.002546445685387299), (378, 0.002544645827281892), (2067, 0.00254437359504656), (2397, 0.002543981778941033), (169, 0.0025430908226692843), (1722, 0.002542316568830596), (3827, 0.0025419275644756024), (1476, 0.0025403903971394), (2571, 0.002540104147162171), (1533, 0.0025400422480330825), (3216, 0.0025394330778763987), (377, 0.002537769187194709), (4326, 0.0025375035594151943), (4135, 0.0025356915068570573), (3341, 0.002535619903273343), (3174, 0.002534183345590931), (3647, 0.0025336036475106212), (4197, 0.0025329168145820785), (4320, 0.0025326519278863332), (3606, 0.0025324469945845513), (1378, 0.002531867417720303), (3173, 0.002530296481038186), (1706, 0.0025300110501122945), (1204, 0.002529076128357386), (3477, 0.0025276030021622597), (3799, 0.0025274583753613737), (2340, 0.00252655246789727), (1574, 0.0025251897332476854), (3564, 0.00252330596242236), (2195, 0.0025231526209759303), (1131, 0.0025226149643153197), (2945, 0.0025217616030538924), (1072, 0.002521104020604747), (4330, 0.0025193852209321366), (1163, 0.0025193592345393702), (4129, 0.00251900340172983), (1598, 0.002517775914034971), (4139, 0.002515506695197149), (2430, 0.002515118978764151), (1102, 0.0025141658909101296), (4487, 0.002511327685004313), (3739, 0.0025088405959054804), (1170, 0.0025086837510820883), (2416, 0.0025083684609272677), (2826, 0.0025082212734303263), (4530, 0.00250800772659186), (2495, 0.0025075047779846166), (400, 0.002506676445173932), (4228, 0.0025063091988372396), (1304, 0.002505362892731117), (1634, 0.0025025298087768865), (2354, 0.0025017541037572802), (3900, 0.002501629179171666), (3565, 0.0025010711850804047), (2060, 0.0024998710145194545), (2569, 0.0024998013075110755), (1298, 0.0024986523963093066), (490, 0.0024986395657262774), (2313, 0.002498606956773413), (993, 0.00249813282743298), (2612, 0.002497565971154833), (749, 0.002497485200582464), (3075, 0.0024961286267824417), (1319, 0.0024961038600896986), (973, 0.002495465219986813), (4020, 0.00249528638716839), (3641, 0.002494659118161862), (4427, 0.002494356164903516), (693, 0.0024928454235386963), (2317, 0.002492364189232456), (4266, 0.0024916258234818772), (2802, 0.0024913375279378477), (1313, 0.0024894031882715497), (2173, 0.0024876838039920787), (4409, 0.00248463360069058), (4743, 0.0024840385367584893), (1286, 0.002482757757310957), (127, 0.002482555359429706), (1463, 0.0024817701998025876), (157, 0.002481151101730147), (114, 0.0024809414921506162), (2226, 0.00248086342932244), (959, 0.0024797430301549826), (1891, 0.0024796803269421294), (3917, 0.002479372437832043), (2912, 0.002479227478654243), (4394, 0.0024787349790455528), (1617, 0.00247800740354592), (466, 0.0024778675051692536), (26, 0.0024777489921199306), (3441, 0.0024774077779177546), (1666, 0.0024769129925762755), (1100, 0.002476018925684005), (3906, 0.0024757476336505443), (3890, 0.0024756048517222433), (2422, 0.0024749793547168097), (2965, 0.002474496774790962), (755, 0.0024741352782758786), (247, 0.0024739285906916924), (1422, 0.0024738233950780753), (2268, 0.002473668312446756), (3381, 0.0024726845849492264), (2068, 0.0024724781995245342), (4036, 0.0024709095742761226), (2402, 0.0024702312298366708), (522, 0.002469976994638026), (3214, 0.002468733056218797), (3268, 0.002467428418120357), (2111, 0.0024663524496404666), (487, 0.002465438046706713), (349, 0.0024651964095068267), (4687, 0.002465090832503856), (883, 0.0024650038831294015), (2909, 0.0024637147888679108), (3615, 0.0024631871933519698), (348, 0.002460672367493144), (1110, 0.0024606310076284816), (2117, 0.002460293962848158), (646, 0.002460211499456199), (1032, 0.0024599874355745546), (4550, 0.0024595195348474817), (3379, 0.002458538540880747), (3170, 0.0024555509047628184), (3898, 0.0024549742602234296), (4567, 0.0024541141055085514), (3557, 0.0024539767510319767), (3706, 0.0024537669479685604), (1026, 0.0024529530588841123), (4213, 0.002452817103114504), (698, 0.0024525456550962077), (3390, 0.0024519653765477825), (1247, 0.002450428935114111), (4254, 0.002450400614541764), (4085, 0.002449389816696474), (2651, 0.0024484796797637747), (1550, 0.0024473029843886628), (1645, 0.0024468629803167225), (4381, 0.0024462445279692475), (4304, 0.002445685707398438), (1969, 0.0024448646209058547), (1416, 0.0024443617773774987), (4729, 0.0024438608707778348), (3402, 0.0024433445597715196), (1408, 0.002442656412351115), (2642, 0.002442039150235307), (3220, 0.0024410530020815085), (1084, 0.0024409664186345018), (1117, 0.002439412449292893), (2972, 0.0024383910899316336), (3069, 0.0024370943439527035), (1002, 0.0024370098814539714), (3298, 0.002436514920013652), (1882, 0.002435026399407337), (1597, 0.0024345952421114423), (3765, 0.0024340423350703915), (1663, 0.0024337347560697163), (1060, 0.002433644778394349), (4080, 0.002433564201576552), (215, 0.0024333554322936365), (98, 0.0024326078674799592), (373, 0.002432108077067785), (3646, 0.0024315829958955104), (4428, 0.002431451506443884), (167, 0.0024303863386630604), (4536, 0.0024298408081013054), (1742, 0.002429399547805487), (4356, 0.0024293290812924667), (2997, 0.0024280323543784325), (2779, 0.0024275516832790046), (2461, 0.002427016741938467), (4155, 0.0024255587971282588), (4183, 0.0024237963260441723), (541, 0.0024222406480220475), (4206, 0.0024221148356371874), (2131, 0.0024196517146456977), (1027, 0.0024181466185765237), (4069, 0.0024169297417616156), (2679, 0.0024144890340626543), (1284, 0.002414344853041053), (2141, 0.002413980669190284), (1813, 0.0024130063641892726), (3503, 0.0024128899619207393), (1929, 0.002412625988155523), (140, 0.002412322861394687), (1628, 0.0024117949817087387), (3014, 0.0024114891991564077), (984, 0.002411240856110517), (4472, 0.002411231717925819), (4059, 0.0024106746789777592), (3691, 0.002408662239032192), (3412, 0.0024084070923611712), (1161, 0.002408322918417232), (655, 0.002407860618442024), (854, 0.002405809804365436), (941, 0.0024046101811352593), (3057, 0.0024036093755683443), (2634, 0.0024015931327733267), (2907, 0.0024011043545367657), (3028, 0.0024009021969519195), (2892, 0.002400124119006162), (1404, 0.0023982949096258027), (473, 0.0023979424216120323), (1877, 0.0023975972714730992), (4638, 0.002397126704264959), (731, 0.002394795830179528), (907, 0.0023938718259015716), (3243, 0.0023935261036390518), (3050, 0.002393394429192793), (2446, 0.00239283322119952), (505, 0.0023907604974049068), (1744, 0.0023896561477313736), (488, 0.002388935740349214), (507, 0.002388034362628277), (2800, 0.002387384919322194), (221, 0.0023867249427584458), (2765, 0.002385205184089122), (767, 0.0023849702692168013), (2242, 0.002384651997575229), (2367, 0.0023839559985185227), (852, 0.0023834735637478103), (4345, 0.002382367532909125), (1884, 0.0023823473708744105), (1034, 0.0023818481875562624), (1036, 0.0023814934112405812), (3811, 0.0023813695162260163), (2004, 0.002376281546050274), (3300, 0.002376268395261545), (798, 0.0023759206045957056), (3194, 0.00237343165411053), (1273, 0.0023727264244584457), (372, 0.002372701839269819), (4011, 0.0023724007649987095), (1357, 0.002371615957538826), (1558, 0.0023705043066105263), (886, 0.0023679927092301596), (624, 0.002367286250323197), (4348, 0.0023671969422472618), (4634, 0.0023669493334174127), (3500, 0.0023649818980752742), (2528, 0.002364599630331484), (1372, 0.0023640022692383448), (975, 0.0023639085560360597), (2552, 0.0023623303665278633), (759, 0.002362024636783001), (2201, 0.0023617938512641053), (471, 0.0023614429690162818), (598, 0.002360340720378122), (2166, 0.0023598275825905267), (2556, 0.0023597795677002265), (2735, 0.002359694127202098), (388, 0.002359191302294543), (4616, 0.0023591732279071025), (3147, 0.002356992573519895), (324, 0.002356979419138289), (1693, 0.0023566730482475085), (3725, 0.0023561930793541417), (325, 0.0023560259907815387), (2741, 0.0023556669955939915), (2862, 0.002354316635112517), (2482, 0.002354213619962015), (2674, 0.0023537064650982196), (1641, 0.0023534723722829424), (3627, 0.0023527043854668704), (944, 0.002350239992432367), (1814, 0.0023488004094654857), (399, 0.0023487338419642886), (410, 0.0023471674070784576), (2453, 0.002345775776233397), (2099, 0.0023453535571186417), (589, 0.002344359898972635), (2525, 0.002344279375139215), (1625, 0.0023421602816891054), (524, 0.0023407316060991192), (2129, 0.0023387139227115804), (2399, 0.002336535097551966), (3071, 0.0023344078941970685), (154, 0.00233406145129327), (2593, 0.0023337876000820695), (416, 0.002332664059221858), (3027, 0.0023302163358055704), (2163, 0.0023301916206185645), (3614, 0.0023289965186156173), (355, 0.002328989865378365), (1827, 0.0023285368742797527), (659, 0.0023281380309073656), (3563, 0.0023274614928971843), (1642, 0.0023267643586780927), (1456, 0.002325767234879282), (2845, 0.002325760450566255), (4359, 0.0023248636075942288), (1672, 0.0023246281011747513), (1503, 0.0023220494040062665), (1826, 0.0023216632754454146), (136, 0.002321267392675556), (3455, 0.0023189883351899545), (4479, 0.002318606278427395), (229, 0.0023182211606906622), (121, 0.0023176371556102894), (3369, 0.002316770782338742), (805, 0.0023163565066187447), (2213, 0.002315584427174679), (3278, 0.0023144021887167095), (1543, 0.0023142329607007735), (359, 0.0023130804514961633), (4277, 0.0023130600869355365), (3953, 0.0023128784438710484), (3986, 0.0023119201990434617), (1528, 0.0023115927919456127), (4620, 0.0023079153072196393), (4174, 0.0023059740054909702), (1434, 0.0023049054458741196), (1079, 0.0023019629119831477), (3304, 0.0022998141840984703), (1782, 0.002299596079086501), (3863, 0.0022949598228813703), (4220, 0.002294849070912113), (1565, 0.002294802157027544), (1366, 0.002293797973194817), (2954, 0.002292279428122095), (457, 0.0022902948917407242), (703, 0.0022896010920356916), (4386, 0.0022891216315229835), (92, 0.002289082456185881), (1605, 0.0022881961818511155), (2728, 0.0022849978296058285), (4143, 0.0022844779266929264), (2457, 0.0022831835814395352), (1921, 0.0022830893519250584), (1830, 0.002282270814769264), (4343, 0.0022815009118732697), (1080, 0.0022811953094419176), (3755, 0.0022807362633082318), (3380, 0.002280409722546663), (3894, 0.002277103823546275), (3742, 0.0022767210575645267), (594, 0.002275315506617626), (1980, 0.0022749239448759105), (1219, 0.002274864856108794), (2591, 0.002274555984139291), (815, 0.00227266572632266), (158, 0.002272229371671671), (495, 0.0022718412749071952), (268, 0.0022688865159653147), (1719, 0.0022673904598115822), (4296, 0.002266391876514918), (1869, 0.0022658776922506283), (4074, 0.0022656432406814816), (722, 0.002264639937420269), (2338, 0.002264206070768478), (3311, 0.002263875417889746), (4350, 0.0022622118316933154), (2747, 0.0022615600807699794), (1808, 0.0022613027919317153), (856, 0.002258588235633642), (1004, 0.002257320457055107), (3336, 0.002256986979329016), (3327, 0.0022528400798752144), (4066, 0.002252485383308236), (103, 0.0022523301387708063), (2611, 0.0022484009484874316), (3211, 0.0022476710843611332), (132, 0.0022465990519912053), (4712, 0.0022461897352833494), (1318, 0.00224500272686343), (647, 0.0022424018321673404), (2976, 0.002239942650190699), (184, 0.0022389660952328505), (249, 0.0022380681097073835), (480, 0.0022370876442660997), (712, 0.0022359641761549834), (2240, 0.002233192478333672), (2323, 0.002232793893042012), (4247, 0.0022319991499478095), (1423, 0.0022316267477726992), (4429, 0.002230839821893885), (3795, 0.0022290471064402937), (2753, 0.002227110091501341), (2743, 0.002227008629107823), (1394, 0.0022263526121378426), (1954, 0.0022219466451041292), (3669, 0.0022216525358493915), (1199, 0.002221447803788017), (1251, 0.002220612365457281), (2047, 0.002220349334411379), (2527, 0.0022187721674217843), (605, 0.002217327139671425), (165, 0.0022161863775836226), (1392, 0.0022129107781378734), (97, 0.0022123076578918297), (4411, 0.0022080424646920556), (3393, 0.002207496476230673), (2520, 0.0022065194378764323), (1217, 0.002203172019443445), (1616, 0.0022027675918640335), (4473, 0.0022005779751269063), (2502, 0.002198941713411996), (2146, 0.0021963836550183266), (2270, 0.002191726386504059), (1352, 0.0021804677618435997), (3238, 0.0021801047856471857), (357, 0.00217833252139352), (3431, 0.0021776837111728824), (278, 0.0021764892747250784), (4636, 0.002176259616990478), (2721, 0.002175040661329997), (286, 0.002174572685934181), (3200, 0.0021734824356438682), (3569, 0.0021706473079994115), (1943, 0.0021705344478206664), (1301, 0.002170239161700419), (2761, 0.0021701684678682347), (4476, 0.002169707524927426), (1450, 0.002167835191128398), (3657, 0.002165057662099055), (1828, 0.0021638013326914338), (1370, 0.00216324574458761), (2509, 0.0021627825047554534), (1340, 0.002157921103285943), (3629, 0.0021568027067514544), (951, 0.002153595573264884), (3855, 0.0021518469419141983), (267, 0.0021490127060194053), (1691, 0.002148977275854789), (1088, 0.002147137225586142), (195, 0.002146228295591314), (3347, 0.002145608486984789), (2034, 0.002142615536915055), (2382, 0.002142299245167867), (1209, 0.002139770059331728), (432, 0.0021359054800464544), (3668, 0.002135511861687678), (1040, 0.002132047497371554), (707, 0.0021280741866906254), (1042, 0.0021270209489894797), (3928, 0.0021253126572358593), (645, 0.0021246317717349647), (2132, 0.0021242643286420873), (626, 0.0021237769506845324), (1801, 0.0021162987563967724), (2359, 0.0021159921897142054), (901, 0.002114576366422252), (3252, 0.0021144319042204615), (2039, 0.0021139884554946557), (4311, 0.00211167048153913), (2127, 0.002111379989835409), (1415, 0.0021097980844741082), (4200, 0.0021092140929147092), (196, 0.0021076410974588088), (3024, 0.0021068574575131686), (4626, 0.002102054738966996), (3056, 0.0021013100945780705), (4015, 0.0020995911502027804), (2758, 0.0020967359250924503), (4598, 0.0020958137727665593), (4744, 0.00209569949719475), (1305, 0.002093588455779086), (2287, 0.002088794545663023), (2441, 0.0020850932071196995), (2526, 0.0020832766998676996), (1427, 0.002078423184537775), (3575, 0.0020755282461482226), (3548, 0.0020737369911928306), (3254, 0.0020665159011169923), (3538, 0.00205880370174875), (1624, 0.0020533638298777476), (194, 0.0020428927733030506), (453, 0.00202874770917687), (2766, 0.0020106769466028073), (2010, 0.002008332271983163), (3199, 0.0020077516008637055), (1677, 0.0019855271788675063), (3301, 0.001985372889284236), (607, 0.001965060084741222), (3626, 0.0019620625453212865), (351, 0.0019335816733388827), (4445, 0.0019207975386324957), (1277, 0.0019146903506456513), (228, 0.0019144719695130294), (4301, 0.001911476936795212), (2636, 0.0018907872383178447), (3546, 0.0018707128778611124), (2902, 0.0018511678395290525), (4171, 0.0018241317787362403), (293, 0.0018200357376225262), (4752, 0.0018058768941024734), (3365, 0.0017960347674227852), (129, 0.001764866524035932), (740, 0.0017108819411890568), (3392, 0.0016889629505649378), (24, 0.0016873911328124413), (3608, 0.0016783244725757098), (202, 0.0016763203906183899), (1780, 0.0016527390912812296), (2534, 0.0011306194771999478), (1, 0.0), (2, 0.0), (14, 0.0), (17, 0.0), (28, 0.0), (36, 0.0), (37, 0.0), (49, 0.0), (53, 0.0), (54, 0.0), (55, 0.0), (58, 0.0), (59, 0.0), (64, 0.0), (73, 0.0), (91, 0.0), (100, 0.0), (101, 0.0), (117, 0.0), (133, 0.0), (134, 0.0), (141, 0.0), (146, 0.0), (150, 0.0), (151, 0.0), (153, 0.0), (163, 0.0), (171, 0.0), (186, 0.0), (188, 0.0), (205, 0.0), (214, 0.0), (219, 0.0), (223, 0.0), (225, 0.0), (237, 0.0), (245, 0.0), (257, 0.0), (258, 0.0), (259, 0.0), (264, 0.0), (265, 0.0), (272, 0.0), (275, 0.0), (297, 0.0), (298, 0.0), (299, 0.0), (302, 0.0), (312, 0.0), (319, 0.0), (331, 0.0), (335, 0.0), (337, 0.0), (338, 0.0), (339, 0.0), (344, 0.0), (352, 0.0), (361, 0.0), (362, 0.0), (365, 0.0), (366, 0.0), (376, 0.0), (379, 0.0), (382, 0.0), (390, 0.0), (391, 0.0), (392, 0.0), (393, 0.0), (394, 0.0), (401, 0.0), (404, 0.0), (405, 0.0), (411, 0.0), (415, 0.0), (423, 0.0), (427, 0.0), (439, 0.0), (440, 0.0), (454, 0.0), (462, 0.0), (484, 0.0), (486, 0.0), (491, 0.0), (492, 0.0), (498, 0.0), (506, 0.0), (516, 0.0), (517, 0.0), (520, 0.0), (525, 0.0), (528, 0.0), (529, 0.0), (531, 0.0), (535, 0.0), (536, 0.0), (546, 0.0), (548, 0.0), (549, 0.0), (552, 0.0), (554, 0.0), (556, 0.0), (557, 0.0), (565, 0.0), (567, 0.0), (569, 0.0), (570, 0.0), (572, 0.0), (573, 0.0), (574, 0.0), (575, 0.0), (577, 0.0), (585, 0.0), (591, 0.0), (592, 0.0), (599, 0.0), (601, 0.0), (602, 0.0), (603, 0.0), (610, 0.0), (630, 0.0), (649, 0.0), (650, 0.0), (656, 0.0), (658, 0.0), (662, 0.0), (663, 0.0), (665, 0.0), (674, 0.0), (679, 0.0), (681, 0.0), (686, 0.0), (699, 0.0), (700, 0.0), (702, 0.0), (704, 0.0), (708, 0.0), (709, 0.0), (711, 0.0), (713, 0.0), (714, 0.0), (718, 0.0), (720, 0.0), (724, 0.0), (725, 0.0), (726, 0.0), (730, 0.0), (736, 0.0), (741, 0.0), (746, 0.0), (747, 0.0), (751, 0.0), (754, 0.0), (764, 0.0), (770, 0.0), (771, 0.0), (772, 0.0), (773, 0.0), (780, 0.0), (781, 0.0), (784, 0.0), (785, 0.0), (786, 0.0), (789, 0.0), (797, 0.0), (807, 0.0), (819, 0.0), (820, 0.0), (822, 0.0), (837, 0.0), (839, 0.0), (840, 0.0), (841, 0.0), (846, 0.0), (859, 0.0), (881, 0.0), (882, 0.0), (892, 0.0), (909, 0.0), (912, 0.0), (913, 0.0), (914, 0.0), (920, 0.0), (926, 0.0), (938, 0.0), (943, 0.0), (945, 0.0), (946, 0.0), (950, 0.0), (954, 0.0), (955, 0.0), (956, 0.0), (960, 0.0), (961, 0.0), (964, 0.0), (965, 0.0), (971, 0.0), (972, 0.0), (977, 0.0), (978, 0.0), (982, 0.0), (983, 0.0), (990, 0.0), (995, 0.0), (1008, 0.0), (1010, 0.0), (1011, 0.0), (1013, 0.0), (1016, 0.0), (1022, 0.0), (1025, 0.0), (1028, 0.0), (1029, 0.0), (1031, 0.0), (1038, 0.0), (1039, 0.0), (1051, 0.0), (1055, 0.0), (1056, 0.0), (1057, 0.0), (1062, 0.0), (1066, 0.0), (1067, 0.0), (1073, 0.0), (1081, 0.0), (1086, 0.0), (1089, 0.0), (1091, 0.0), (1093, 0.0), (1097, 0.0), (1101, 0.0), (1103, 0.0), (1105, 0.0), (1106, 0.0), (1108, 0.0), (1113, 0.0), (1126, 0.0), (1130, 0.0), (1133, 0.0), (1135, 0.0), (1139, 0.0), (1142, 0.0), (1143, 0.0), (1147, 0.0), (1149, 0.0), (1151, 0.0), (1155, 0.0), (1156, 0.0), (1159, 0.0), (1165, 0.0), (1166, 0.0), (1171, 0.0), (1178, 0.0), (1180, 0.0), (1189, 0.0), (1190, 0.0), (1193, 0.0), (1196, 0.0), (1198, 0.0), (1200, 0.0), (1201, 0.0), (1205, 0.0), (1212, 0.0), (1218, 0.0), (1221, 0.0), (1222, 0.0), (1227, 0.0), (1228, 0.0), (1233, 0.0), (1235, 0.0), (1240, 0.0), (1242, 0.0), (1244, 0.0), (1246, 0.0), (1253, 0.0), (1256, 0.0), (1258, 0.0), (1263, 0.0), (1265, 0.0), (1268, 0.0), (1269, 0.0), (1271, 0.0), (1285, 0.0), (1287, 0.0), (1288, 0.0), (1289, 0.0), (1291, 0.0), (1295, 0.0), (1296, 0.0), (1297, 0.0), (1299, 0.0), (1315, 0.0), (1321, 0.0), (1322, 0.0), (1323, 0.0), (1326, 0.0), (1328, 0.0), (1333, 0.0), (1336, 0.0), (1346, 0.0), (1353, 0.0), (1354, 0.0), (1368, 0.0), (1373, 0.0), (1390, 0.0), (1399, 0.0), (1424, 0.0), (1437, 0.0), (1441, 0.0), (1444, 0.0), (1447, 0.0), (1457, 0.0), (1459, 0.0), (1460, 0.0), (1466, 0.0), (1467, 0.0), (1468, 0.0), (1470, 0.0), (1473, 0.0), (1485, 0.0), (1487, 0.0), (1490, 0.0), (1491, 0.0), (1495, 0.0), (1496, 0.0), (1508, 0.0), (1511, 0.0), (1517, 0.0), (1520, 0.0), (1521, 0.0), (1522, 0.0), (1524, 0.0), (1525, 0.0), (1529, 0.0), (1532, 0.0), (1534, 0.0), (1535, 0.0), (1541, 0.0), (1545, 0.0), (1548, 0.0), (1549, 0.0), (1556, 0.0), (1557, 0.0), (1560, 0.0), (1561, 0.0), (1563, 0.0), (1564, 0.0), (1569, 0.0), (1577, 0.0), (1578, 0.0), (1581, 0.0), (1584, 0.0), (1586, 0.0), (1589, 0.0), (1592, 0.0), (1596, 0.0), (1599, 0.0), (1600, 0.0), (1601, 0.0), (1602, 0.0), (1603, 0.0), (1604, 0.0), (1606, 0.0), (1607, 0.0), (1610, 0.0), (1611, 0.0), (1613, 0.0), (1615, 0.0), (1618, 0.0), (1626, 0.0), (1636, 0.0), (1638, 0.0), (1639, 0.0), (1640, 0.0), (1646, 0.0), (1649, 0.0), (1651, 0.0), (1668, 0.0), (1669, 0.0), (1673, 0.0), (1679, 0.0), (1686, 0.0), (1689, 0.0), (1697, 0.0), (1698, 0.0), (1700, 0.0), (1704, 0.0), (1709, 0.0), (1725, 0.0), (1726, 0.0), (1728, 0.0), (1729, 0.0), (1731, 0.0), (1734, 0.0), (1745, 0.0), (1751, 0.0), (1755, 0.0), (1756, 0.0), (1758, 0.0), (1766, 0.0), (1767, 0.0), (1769, 0.0), (1771, 0.0), (1775, 0.0), (1777, 0.0), (1778, 0.0), (1783, 0.0), (1785, 0.0), (1786, 0.0), (1794, 0.0), (1800, 0.0), (1803, 0.0), (1804, 0.0), (1810, 0.0), (1820, 0.0), (1823, 0.0), (1824, 0.0), (1825, 0.0), (1834, 0.0), (1835, 0.0), (1836, 0.0), (1839, 0.0), (1842, 0.0), (1844, 0.0), (1855, 0.0), (1856, 0.0), (1879, 0.0), (1883, 0.0), (1888, 0.0), (1889, 0.0), (1894, 0.0), (1898, 0.0), (1899, 0.0), (1912, 0.0), (1915, 0.0), (1917, 0.0), (1926, 0.0), (1928, 0.0), (1932, 0.0), (1938, 0.0), (1944, 0.0), (1955, 0.0), (1956, 0.0), (1961, 0.0), (1963, 0.0), (1965, 0.0), (1966, 0.0), (1972, 0.0), (1974, 0.0), (1978, 0.0), (1979, 0.0), (1984, 0.0), (2001, 0.0), (2002, 0.0), (2003, 0.0), (2006, 0.0), (2007, 0.0), (2009, 0.0), (2017, 0.0), (2019, 0.0), (2021, 0.0), (2025, 0.0), (2028, 0.0), (2030, 0.0), (2032, 0.0), (2033, 0.0), (2036, 0.0), (2038, 0.0), (2041, 0.0), (2042, 0.0), (2043, 0.0), (2046, 0.0), (2050, 0.0), (2054, 0.0), (2059, 0.0), (2063, 0.0), (2071, 0.0), (2079, 0.0), (2081, 0.0), (2085, 0.0), (2086, 0.0), (2090, 0.0), (2092, 0.0), (2106, 0.0), (2107, 0.0), (2115, 0.0), (2118, 0.0), (2120, 0.0), (2124, 0.0), (2125, 0.0), (2128, 0.0), (2135, 0.0), (2138, 0.0), (2140, 0.0), (2150, 0.0), (2152, 0.0), (2153, 0.0), (2164, 0.0), (2165, 0.0), (2168, 0.0), (2170, 0.0), (2171, 0.0), (2172, 0.0), (2179, 0.0), (2180, 0.0), (2182, 0.0), (2183, 0.0), (2186, 0.0), (2194, 0.0), (2200, 0.0), (2204, 0.0), (2215, 0.0), (2217, 0.0), (2218, 0.0), (2219, 0.0), (2220, 0.0), (2222, 0.0), (2225, 0.0), (2227, 0.0), (2233, 0.0), (2234, 0.0), (2238, 0.0), (2241, 0.0), (2243, 0.0), (2247, 0.0), (2249, 0.0), (2253, 0.0), (2256, 0.0), (2259, 0.0), (2261, 0.0), (2262, 0.0), (2263, 0.0), (2267, 0.0), (2271, 0.0), (2272, 0.0), (2274, 0.0), (2281, 0.0), (2282, 0.0), (2296, 0.0), (2297, 0.0), (2300, 0.0), (2305, 0.0), (2307, 0.0), (2311, 0.0), (2312, 0.0), (2315, 0.0), (2322, 0.0), (2325, 0.0), (2327, 0.0), (2329, 0.0), (2331, 0.0), (2332, 0.0), (2333, 0.0), (2337, 0.0), (2341, 0.0), (2342, 0.0), (2343, 0.0), (2345, 0.0), (2351, 0.0), (2352, 0.0), (2357, 0.0), (2360, 0.0), (2364, 0.0), (2369, 0.0), (2372, 0.0), (2373, 0.0), (2377, 0.0), (2380, 0.0), (2381, 0.0), (2384, 0.0), (2389, 0.0), (2395, 0.0), (2398, 0.0), (2408, 0.0), (2409, 0.0), (2414, 0.0), (2420, 0.0), (2431, 0.0), (2433, 0.0), (2435, 0.0), (2445, 0.0), (2450, 0.0), (2451, 0.0), (2452, 0.0), (2455, 0.0), (2456, 0.0), (2458, 0.0), (2462, 0.0), (2465, 0.0), (2470, 0.0), (2471, 0.0), (2472, 0.0), (2479, 0.0), (2483, 0.0), (2485, 0.0), (2491, 0.0), (2493, 0.0), (2497, 0.0), (2498, 0.0), (2499, 0.0), (2500, 0.0), (2504, 0.0), (2508, 0.0), (2511, 0.0), (2514, 0.0), (2515, 0.0), (2516, 0.0), (2518, 0.0), (2521, 0.0), (2523, 0.0), (2532, 0.0), (2536, 0.0), (2539, 0.0), (2542, 0.0), (2543, 0.0), (2547, 0.0), (2548, 0.0), (2549, 0.0), (2551, 0.0), (2562, 0.0), (2564, 0.0), (2566, 0.0), (2574, 0.0), (2575, 0.0), (2577, 0.0), (2578, 0.0), (2583, 0.0), (2584, 0.0), (2586, 0.0), (2588, 0.0), (2589, 0.0), (2590, 0.0), (2594, 0.0), (2596, 0.0), (2597, 0.0), (2604, 0.0), (2605, 0.0), (2608, 0.0), (2615, 0.0), (2616, 0.0), (2620, 0.0), (2627, 0.0), (2631, 0.0), (2637, 0.0), (2641, 0.0), (2648, 0.0), (2656, 0.0), (2657, 0.0), (2658, 0.0), (2659, 0.0), (2662, 0.0), (2663, 0.0), (2666, 0.0), (2667, 0.0), (2669, 0.0), (2670, 0.0), (2671, 0.0), (2672, 0.0), (2675, 0.0), (2676, 0.0), (2677, 0.0), (2681, 0.0), (2684, 0.0), (2685, 0.0), (2686, 0.0), (2690, 0.0), (2693, 0.0), (2699, 0.0), (2701, 0.0), (2703, 0.0), (2704, 0.0), (2709, 0.0), (2713, 0.0), (2715, 0.0), (2717, 0.0), (2719, 0.0), (2729, 0.0), (2730, 0.0), (2734, 0.0), (2737, 0.0), (2749, 0.0), (2750, 0.0), (2754, 0.0), (2756, 0.0), (2763, 0.0), (2770, 0.0), (2773, 0.0), (2781, 0.0), (2785, 0.0), (2793, 0.0), (2794, 0.0), (2799, 0.0), (2804, 0.0), (2806, 0.0), (2810, 0.0), (2811, 0.0), (2813, 0.0), (2814, 0.0), (2817, 0.0), (2818, 0.0), (2822, 0.0), (2824, 0.0), (2827, 0.0), (2828, 0.0), (2829, 0.0), (2835, 0.0), (2836, 0.0), (2837, 0.0), (2839, 0.0), (2842, 0.0), (2850, 0.0), (2851, 0.0), (2852, 0.0), (2855, 0.0), (2856, 0.0), (2860, 0.0), (2864, 0.0), (2865, 0.0), (2866, 0.0), (2875, 0.0), (2877, 0.0), (2880, 0.0), (2891, 0.0), (2896, 0.0), (2898, 0.0), (2905, 0.0), (2906, 0.0), (2921, 0.0), (2922, 0.0), (2927, 0.0), (2928, 0.0), (2930, 0.0), (2938, 0.0), (2941, 0.0), (2950, 0.0), (2951, 0.0), (2952, 0.0), (2955, 0.0), (2956, 0.0), (2958, 0.0), (2967, 0.0), (2968, 0.0), (2973, 0.0), (2979, 0.0), (2982, 0.0), (2983, 0.0), (2990, 0.0), (3001, 0.0), (3002, 0.0), (3006, 0.0), (3009, 0.0), (3021, 0.0), (3025, 0.0), (3029, 0.0), (3034, 0.0), (3038, 0.0), (3041, 0.0), (3047, 0.0), (3048, 0.0), (3054, 0.0), (3058, 0.0), (3059, 0.0), (3060, 0.0), (3061, 0.0), (3063, 0.0), (3068, 0.0), (3073, 0.0), (3077, 0.0), (3078, 0.0), (3080, 0.0), (3082, 0.0), (3087, 0.0), (3088, 0.0), (3089, 0.0), (3090, 0.0), (3092, 0.0), (3103, 0.0), (3104, 0.0), (3105, 0.0), (3106, 0.0), (3107, 0.0), (3109, 0.0), (3115, 0.0), (3121, 0.0), (3130, 0.0), (3132, 0.0), (3138, 0.0), (3141, 0.0), (3145, 0.0), (3162, 0.0), (3169, 0.0), (3172, 0.0), (3175, 0.0), (3176, 0.0), (3177, 0.0), (3181, 0.0), (3188, 0.0), (3189, 0.0), (3190, 0.0), (3193, 0.0), (3197, 0.0), (3201, 0.0), (3202, 0.0), (3204, 0.0), (3207, 0.0), (3208, 0.0), (3212, 0.0), (3217, 0.0), (3221, 0.0), (3223, 0.0), (3229, 0.0), (3231, 0.0), (3236, 0.0), (3250, 0.0), (3251, 0.0), (3261, 0.0), (3266, 0.0), (3270, 0.0), (3272, 0.0), (3277, 0.0), (3281, 0.0), (3286, 0.0), (3287, 0.0), (3305, 0.0), (3310, 0.0), (3320, 0.0), (3321, 0.0), (3323, 0.0), (3324, 0.0), (3332, 0.0), (3333, 0.0), (3340, 0.0), (3343, 0.0), (3350, 0.0), (3366, 0.0), (3368, 0.0), (3371, 0.0), (3378, 0.0), (3383, 0.0), (3394, 0.0), (3397, 0.0), (3400, 0.0), (3401, 0.0), (3411, 0.0), (3415, 0.0), (3422, 0.0), (3424, 0.0), (3439, 0.0), (3442, 0.0), (3444, 0.0), (3454, 0.0), (3459, 0.0), (3461, 0.0), (3467, 0.0), (3472, 0.0), (3473, 0.0), (3475, 0.0), (3476, 0.0), (3481, 0.0), (3482, 0.0), (3485, 0.0), (3489, 0.0), (3490, 0.0), (3494, 0.0), (3505, 0.0), (3510, 0.0), (3519, 0.0), (3522, 0.0), (3525, 0.0), (3529, 0.0), (3530, 0.0), (3532, 0.0), (3533, 0.0), (3539, 0.0), (3543, 0.0), (3545, 0.0), (3547, 0.0), (3549, 0.0), (3550, 0.0), (3554, 0.0), (3562, 0.0), (3567, 0.0), (3568, 0.0), (3573, 0.0), (3578, 0.0), (3581, 0.0), (3585, 0.0), (3589, 0.0), (3591, 0.0), (3592, 0.0), (3595, 0.0), (3600, 0.0), (3603, 0.0), (3607, 0.0), (3609, 0.0), (3610, 0.0), (3617, 0.0), (3622, 0.0), (3625, 0.0), (3628, 0.0), (3631, 0.0), (3633, 0.0), (3644, 0.0), (3649, 0.0), (3650, 0.0), (3662, 0.0), (3663, 0.0), (3671, 0.0), (3676, 0.0), (3681, 0.0), (3682, 0.0), (3683, 0.0), (3685, 0.0), (3686, 0.0), (3688, 0.0), (3690, 0.0), (3693, 0.0), (3695, 0.0), (3697, 0.0), (3698, 0.0), (3700, 0.0), (3702, 0.0), (3703, 0.0), (3709, 0.0), (3712, 0.0), (3716, 0.0), (3717, 0.0), (3718, 0.0), (3722, 0.0), (3724, 0.0), (3726, 0.0), (3730, 0.0), (3732, 0.0), (3735, 0.0), (3736, 0.0), (3738, 0.0), (3740, 0.0), (3743, 0.0), (3746, 0.0), (3758, 0.0), (3759, 0.0), (3760, 0.0), (3761, 0.0), (3764, 0.0), (3773, 0.0), (3783, 0.0), (3785, 0.0), (3786, 0.0), (3789, 0.0), (3790, 0.0), (3791, 0.0), (3796, 0.0), (3798, 0.0), (3800, 0.0), (3803, 0.0), (3805, 0.0), (3808, 0.0), (3812, 0.0), (3816, 0.0), (3817, 0.0), (3818, 0.0), (3820, 0.0), (3830, 0.0), (3831, 0.0), (3834, 0.0), (3836, 0.0), (3837, 0.0), (3838, 0.0), (3840, 0.0), (3843, 0.0), (3846, 0.0), (3847, 0.0), (3851, 0.0), (3856, 0.0), (3858, 0.0), (3859, 0.0), (3869, 0.0), (3870, 0.0), (3872, 0.0), (3879, 0.0), (3885, 0.0), (3887, 0.0), (3891, 0.0), (3896, 0.0), (3912, 0.0), (3914, 0.0), (3916, 0.0), (3918, 0.0), (3921, 0.0), (3929, 0.0), (3930, 0.0), (3931, 0.0), (3933, 0.0), (3936, 0.0), (3937, 0.0), (3943, 0.0), (3948, 0.0), (3950, 0.0), (3963, 0.0), (3964, 0.0), (3965, 0.0), (3968, 0.0), (3969, 0.0), (3971, 0.0), (3972, 0.0), (3977, 0.0), (3979, 0.0), (3980, 0.0), (3981, 0.0), (3982, 0.0), (3985, 0.0), (3988, 0.0), (3991, 0.0), (3994, 0.0), (3996, 0.0), (4003, 0.0), (4006, 0.0), (4010, 0.0), (4018, 0.0), (4021, 0.0), (4022, 0.0), (4026, 0.0), (4027, 0.0), (4029, 0.0), (4031, 0.0), (4034, 0.0), (4037, 0.0), (4040, 0.0), (4041, 0.0), (4058, 0.0), (4063, 0.0), (4065, 0.0), (4067, 0.0), (4070, 0.0), (4072, 0.0), (4073, 0.0), (4078, 0.0), (4084, 0.0), (4086, 0.0), (4097, 0.0), (4100, 0.0), (4108, 0.0), (4109, 0.0), (4112, 0.0), (4114, 0.0), (4115, 0.0), (4125, 0.0), (4127, 0.0), (4131, 0.0), (4144, 0.0), (4146, 0.0), (4150, 0.0), (4153, 0.0), (4157, 0.0), (4159, 0.0), (4166, 0.0), (4167, 0.0), (4168, 0.0), (4170, 0.0), (4173, 0.0), (4179, 0.0), (4180, 0.0), (4181, 0.0), (4185, 0.0), (4186, 0.0), (4188, 0.0), (4190, 0.0), (4191, 0.0), (4194, 0.0), (4198, 0.0), (4199, 0.0), (4201, 0.0), (4204, 0.0), (4207, 0.0), (4212, 0.0), (4214, 0.0), (4215, 0.0), (4218, 0.0), (4223, 0.0), (4224, 0.0), (4229, 0.0), (4234, 0.0), (4237, 0.0), (4238, 0.0), (4239, 0.0), (4241, 0.0), (4250, 0.0), (4253, 0.0), (4256, 0.0), (4258, 0.0), (4260, 0.0), (4270, 0.0), (4271, 0.0), (4276, 0.0), (4278, 0.0), (4279, 0.0), (4291, 0.0), (4294, 0.0), (4297, 0.0), (4300, 0.0), (4302, 0.0), (4305, 0.0), (4313, 0.0), (4315, 0.0), (4316, 0.0), (4317, 0.0), (4319, 0.0), (4323, 0.0), (4324, 0.0), (4327, 0.0), (4329, 0.0), (4332, 0.0), (4338, 0.0), (4341, 0.0), (4346, 0.0), (4347, 0.0), (4352, 0.0), (4353, 0.0), (4358, 0.0), (4364, 0.0), (4370, 0.0), (4372, 0.0), (4393, 0.0), (4404, 0.0), (4405, 0.0), (4406, 0.0), (4408, 0.0), (4410, 0.0), (4413, 0.0), (4414, 0.0), (4415, 0.0), (4417, 0.0), (4421, 0.0), (4424, 0.0), (4425, 0.0), (4433, 0.0), (4434, 0.0), (4437, 0.0), (4439, 0.0), (4447, 0.0), (4449, 0.0), (4451, 0.0), (4453, 0.0), (4454, 0.0), (4455, 0.0), (4457, 0.0), (4460, 0.0), (4463, 0.0), (4478, 0.0), (4480, 0.0), (4483, 0.0), (4485, 0.0), (4491, 0.0), (4493, 0.0), (4496, 0.0), (4498, 0.0), (4499, 0.0), (4500, 0.0), (4506, 0.0), (4508, 0.0), (4509, 0.0), (4519, 0.0), (4525, 0.0), (4526, 0.0), (4532, 0.0), (4538, 0.0), (4539, 0.0), (4541, 0.0), (4542, 0.0), (4547, 0.0), (4549, 0.0), (4556, 0.0), (4558, 0.0), (4559, 0.0), (4560, 0.0), (4561, 0.0), (4562, 0.0), (4565, 0.0), (4568, 0.0), (4569, 0.0), (4570, 0.0), (4577, 0.0), (4578, 0.0), (4580, 0.0), (4592, 0.0), (4597, 0.0), (4599, 0.0), (4600, 0.0), (4609, 0.0), (4613, 0.0), (4615, 0.0), (4618, 0.0), (4622, 0.0), (4628, 0.0), (4631, 0.0), (4635, 0.0), (4644, 0.0), (4645, 0.0), (4647, 0.0), (4648, 0.0), (4651, 0.0), (4654, 0.0), (4655, 0.0), (4662, 0.0), (4667, 0.0), (4671, 0.0), (4672, 0.0), (4675, 0.0), (4676, 0.0), (4681, 0.0), (4683, 0.0), (4688, 0.0), (4690, 0.0), (4700, 0.0), (4702, 0.0), (4711, 0.0), (4714, 0.0), (4716, 0.0), (4720, 0.0), (4725, 0.0), (4728, 0.0), (4730, 0.0), (4736, 0.0), (4737, 0.0), (4740, 0.0), (4741, 0.0), (4742, 0.0), (4745, 0.0), (4750, 0.0), (4751, 0.0), (4754, 0.0), (4755, 0.0), (4758, 0.0), (4759, 0.0)]\n"
          ]
        }
      ]
    },
    {
      "cell_type": "code",
      "source": [
        "# print the name of similar movies based on the index\n",
        "\n",
        "print('Top 30 Movies for you : \\n')\n",
        "\n",
        "i=1\n",
        "\n",
        "for movie in Sorted_Similar_Movies:\n",
        "  index = movie[0]\n",
        "  title_from_index = df[df.index==index]['Movie_Title'].values[0]\n",
        "  if (i<31):\n",
        "    print(i,'.',title_from_index)\n",
        "    i+=1"
      ],
      "metadata": {
        "colab": {
          "base_uri": "https://localhost:8080/"
        },
        "id": "MBUjtnZNpeKL",
        "outputId": "b7df2890-4300-47bb-dd98-145486ef1c97"
      },
      "execution_count": null,
      "outputs": [
        {
          "output_type": "stream",
          "name": "stdout",
          "text": [
            "Top 30 Movies for you : \n",
            "\n",
            "1 . Niagara\n",
            "2 . My Week with Marilyn\n",
            "3 . Harry Brown\n",
            "4 . The Curse of Downers Grove\n",
            "5 . The Boy Next Door\n",
            "6 . Back to the Future\n",
            "7 . Welcome to the Sticks\n",
            "8 . The Juror\n",
            "9 . Some Like It Hot\n",
            "10 . The Kentucky Fried Movie\n",
            "11 . Enough\n",
            "12 . Eye for an Eye\n",
            "13 . Alice Through the Looking Glass\n",
            "14 . Superman III\n",
            "15 . Duel in the Sun\n",
            "16 . Premium Rush\n",
            "17 . The Misfits\n",
            "18 . Small Soldiers\n",
            "19 . Camping Sauvage\n",
            "20 . All That Jazz\n",
            "21 . Beyond the Black Rainbow\n",
            "22 . The Raid\n",
            "23 . Tora! Tora! Tora!\n",
            "24 . Brokeback Mountain\n",
            "25 . To Kill a Mockingbird\n",
            "26 . Edge of Darkness\n",
            "27 . World Trade Center\n",
            "28 . The Dark Knight Rises\n",
            "29 . Out of Time\n",
            "30 . Source Code\n"
          ]
        }
      ]
    },
    {
      "cell_type": "markdown",
      "source": [
        "**Top 10 Movie Recommendation System**"
      ],
      "metadata": {
        "id": "1kBy-cARqq1h"
      }
    },
    {
      "cell_type": "code",
      "source": [
        "Movie_Name = input('Enter your favourite movie name :')\n",
        "\n",
        "list_of_all_titles = df['Movie_Title'].tolist()\n",
        "\n",
        "Find_Close_Match = difflib.get_close_matches(Movie_Name,list_of_all_titles)\n",
        "\n",
        "Close_Match = Find_Close_Match[0]\n",
        "\n",
        "Index_of_Movie = df[df.Movie_Title == Close_Match]['Movie_ID'].values[0]\n",
        "\n",
        "Recommendation_Score = list(enumerate(similarity_score[Index_of_Movie]))\n",
        "\n",
        "Sorted_Similar_Movies = sorted(Recommendation_Score,key = lambda x:x[1],reverse = True)\n",
        "\n",
        "print('Top 10 Movies suggested for you : \\n')\n",
        "\n",
        "i=1\n",
        "\n",
        "for movie in Sorted_Similar_Movies:\n",
        "  index = movie[0]\n",
        "  title_from_index = df[df.Movie_ID==index]['Movie_Title'].values\n",
        "  if (i<11):\n",
        "    print(i,'.',title_from_index)\n",
        "    i+=1"
      ],
      "metadata": {
        "colab": {
          "base_uri": "https://localhost:8080/"
        },
        "id": "yy2dejMhNvBE",
        "outputId": "5635e656-9998-4e02-842e-6f25f47afa70"
      },
      "execution_count": null,
      "outputs": [
        {
          "output_type": "stream",
          "name": "stdout",
          "text": [
            "Enter your favourite movie name :avatar\n",
            "Top 10 Movies suggested for you : \n",
            "\n",
            "1 . ['Avatar']\n",
            "2 . ['Act of Valor']\n",
            "3 . ['Precious']\n",
            "4 . ['The Opposite Sex']\n",
            "5 . ['Heaven is for Real']\n",
            "6 . ['Run Lola Run']\n",
            "7 . ['Jumper']\n",
            "8 . ['Elizabethtown']\n",
            "9 . ['The Godfather']\n",
            "10 . ['New Nightmare']\n"
          ]
        }
      ]
    }
  ]
}